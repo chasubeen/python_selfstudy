{
  "nbformat": 4,
  "nbformat_minor": 0,
  "metadata": {
    "colab": {
      "provenance": [],
      "authorship_tag": "ABX9TyNkvg8YRkrBvDaazqqTRMdK",
      "include_colab_link": true
    },
    "kernelspec": {
      "name": "python3",
      "display_name": "Python 3"
    },
    "language_info": {
      "name": "python"
    }
  },
  "cells": [
    {
      "cell_type": "markdown",
      "metadata": {
        "id": "view-in-github",
        "colab_type": "text"
      },
      "source": [
        "<a href=\"https://colab.research.google.com/github/chasubeen/python_selfstudy/blob/master/deep_pytorch/Chapter11/convnet_undistributed.ipynb\" target=\"_parent\"><img src=\"https://colab.research.google.com/assets/colab-badge.svg\" alt=\"Open In Colab\"/></a>"
      ]
    },
    {
      "cell_type": "markdown",
      "source": [
        "### **라이브러리 import**"
      ],
      "metadata": {
        "id": "7g4tNoY6naxX"
      }
    },
    {
      "cell_type": "code",
      "source": [
        "import torch\n",
        "import torch.nn as nn\n",
        "import torch.nn.functional as F\n",
        "import torch.optim as optim\n",
        "from torch.utils.data import DataLoader\n",
        "from torchvision import datasets, transforms\n",
        "\n",
        "import time\n",
        "# import argparse"
      ],
      "metadata": {
        "id": "FEH9-NZfnm4e"
      },
      "execution_count": 1,
      "outputs": []
    },
    {
      "cell_type": "markdown",
      "source": [
        "### **CNN 모델 아키텍처 정의**"
      ],
      "metadata": {
        "id": "3RfPF2KQnoEN"
      }
    },
    {
      "cell_type": "code",
      "source": [
        "class ConvNet(nn.Module):\n",
        "    def __init__(self):\n",
        "        super(ConvNet, self).__init__()\n",
        "        self.cn1 = nn.Conv2d(1, 16, 3, 1)\n",
        "        self.cn2 = nn.Conv2d(16, 32, 3, 1)\n",
        "        self.dp1 = nn.Dropout2d(0.10)\n",
        "        self.dp2 = nn.Dropout2d(0.25)\n",
        "        self.fc1 = nn.Linear(4608, 64)  # 4608 is basically 12 X 12 X 32\n",
        "        self.fc2 = nn.Linear(64, 10)\n",
        "\n",
        "    def forward(self, x):\n",
        "        x = self.cn1(x)\n",
        "        x = F.relu(x)\n",
        "\n",
        "        x = self.cn2(x)\n",
        "        x = F.relu(x)\n",
        "        x = F.max_pool2d(x, 2)\n",
        "        x = self.dp1(x)\n",
        "\n",
        "        x = torch.flatten(x, 1)\n",
        "\n",
        "        x = self.fc1(x)\n",
        "        x = F.relu(x)\n",
        "        x = self.dp2(x)\n",
        "\n",
        "        x = self.fc2(x)\n",
        "\n",
        "        op = F.log_softmax(x, dim=1)\n",
        "\n",
        "        return op"
      ],
      "metadata": {
        "id": "_f0n8gUanqUz"
      },
      "execution_count": 2,
      "outputs": []
    },
    {
      "cell_type": "markdown",
      "source": [
        "### **모델 훈련 루틴 정의**"
      ],
      "metadata": {
        "id": "ivElf1LfntfX"
      }
    },
    {
      "cell_type": "code",
      "source": [
        "def train(epochs):\n",
        "    torch.manual_seed(0)\n",
        "\n",
        "    device = torch.device(\"cpu\") # 장치 설정\n",
        "\n",
        "    # 데이터로더 정의\n",
        "    train_dataloader = DataLoader(\n",
        "        datasets.MNIST('../data', train=True, download=True,\n",
        "                       transform=transforms.Compose([\n",
        "                           transforms.ToTensor(),\n",
        "                           transforms.Normalize((0.1302,), (0.3069,))\n",
        "                        ])),\n",
        "        batch_size=128, shuffle=True)\n",
        "\n",
        "    # 모델 객체 선언\n",
        "    model = ConvNet().to(device)\n",
        "\n",
        "    # 옵티마이저 설정\n",
        "    optimizer = optim.Adadelta(model.parameters(), lr=0.5)\n",
        "\n",
        "    # 학습 mode\n",
        "    model.train()\n",
        "\n",
        "    ## 훈련 loop 수행\n",
        "    for epoch in range(epochs):\n",
        "        for b_i, (X, y) in enumerate(train_dataloader):\n",
        "            X, y = X.to(device), y.to(device)\n",
        "            pred_prob = model(X)\n",
        "            loss = F.nll_loss(pred_prob, y) # nll is the negative likelihood loss\n",
        "            optimizer.zero_grad()\n",
        "            loss.backward()\n",
        "            optimizer.step()\n",
        "            if b_i % 10 == 0:\n",
        "                print('epoch: {} [{}/{} ({:.0f}%)]\\t training loss: {:.6f}'.format(\n",
        "                    epoch, b_i, len(train_dataloader),\n",
        "                    100. * b_i / len(train_dataloader), loss.item()))"
      ],
      "metadata": {
        "id": "dysOlHC4nxW1"
      },
      "execution_count": 3,
      "outputs": []
    },
    {
      "cell_type": "markdown",
      "source": [
        "### **실행 함수(main) 정의**"
      ],
      "metadata": {
        "id": "cRKbWbV-n2Ii"
      }
    },
    {
      "cell_type": "code",
      "source": [
        "def main():\n",
        "    epochs = 1  # 직접 epochs 값을 설정\n",
        "    start = time.time()\n",
        "\n",
        "    train(epochs)\n",
        "    print(f\"Finished training in {time.time()-start} secs\")"
      ],
      "metadata": {
        "id": "AuQMnh3kn4p6"
      },
      "execution_count": 4,
      "outputs": []
    },
    {
      "cell_type": "code",
      "source": [
        "# 해당 스크립트 실행\n",
        "\n",
        "main()"
      ],
      "metadata": {
        "colab": {
          "base_uri": "https://localhost:8080/"
        },
        "id": "HHKi09uun8Jx",
        "outputId": "90dc93a9-0090-43f3-92d3-e1e61537dc41"
      },
      "execution_count": 5,
      "outputs": [
        {
          "output_type": "stream",
          "name": "stdout",
          "text": [
            "Downloading http://yann.lecun.com/exdb/mnist/train-images-idx3-ubyte.gz\n",
            "Failed to download (trying next):\n",
            "HTTP Error 403: Forbidden\n",
            "\n",
            "Downloading https://ossci-datasets.s3.amazonaws.com/mnist/train-images-idx3-ubyte.gz\n",
            "Downloading https://ossci-datasets.s3.amazonaws.com/mnist/train-images-idx3-ubyte.gz to ../data/MNIST/raw/train-images-idx3-ubyte.gz\n"
          ]
        },
        {
          "output_type": "stream",
          "name": "stderr",
          "text": [
            "100%|██████████| 9912422/9912422 [00:00<00:00, 15865152.61it/s]\n"
          ]
        },
        {
          "output_type": "stream",
          "name": "stdout",
          "text": [
            "Extracting ../data/MNIST/raw/train-images-idx3-ubyte.gz to ../data/MNIST/raw\n",
            "\n",
            "Downloading http://yann.lecun.com/exdb/mnist/train-labels-idx1-ubyte.gz\n",
            "Failed to download (trying next):\n",
            "HTTP Error 403: Forbidden\n",
            "\n",
            "Downloading https://ossci-datasets.s3.amazonaws.com/mnist/train-labels-idx1-ubyte.gz\n",
            "Downloading https://ossci-datasets.s3.amazonaws.com/mnist/train-labels-idx1-ubyte.gz to ../data/MNIST/raw/train-labels-idx1-ubyte.gz\n"
          ]
        },
        {
          "output_type": "stream",
          "name": "stderr",
          "text": [
            "100%|██████████| 28881/28881 [00:00<00:00, 489284.92it/s]\n"
          ]
        },
        {
          "output_type": "stream",
          "name": "stdout",
          "text": [
            "Extracting ../data/MNIST/raw/train-labels-idx1-ubyte.gz to ../data/MNIST/raw\n",
            "\n",
            "Downloading http://yann.lecun.com/exdb/mnist/t10k-images-idx3-ubyte.gz\n",
            "Failed to download (trying next):\n",
            "HTTP Error 403: Forbidden\n",
            "\n",
            "Downloading https://ossci-datasets.s3.amazonaws.com/mnist/t10k-images-idx3-ubyte.gz\n",
            "Downloading https://ossci-datasets.s3.amazonaws.com/mnist/t10k-images-idx3-ubyte.gz to ../data/MNIST/raw/t10k-images-idx3-ubyte.gz\n"
          ]
        },
        {
          "output_type": "stream",
          "name": "stderr",
          "text": [
            "100%|██████████| 1648877/1648877 [00:00<00:00, 4367347.56it/s]\n"
          ]
        },
        {
          "output_type": "stream",
          "name": "stdout",
          "text": [
            "Extracting ../data/MNIST/raw/t10k-images-idx3-ubyte.gz to ../data/MNIST/raw\n",
            "\n",
            "Downloading http://yann.lecun.com/exdb/mnist/t10k-labels-idx1-ubyte.gz\n",
            "Failed to download (trying next):\n",
            "HTTP Error 403: Forbidden\n",
            "\n",
            "Downloading https://ossci-datasets.s3.amazonaws.com/mnist/t10k-labels-idx1-ubyte.gz\n",
            "Downloading https://ossci-datasets.s3.amazonaws.com/mnist/t10k-labels-idx1-ubyte.gz to ../data/MNIST/raw/t10k-labels-idx1-ubyte.gz\n"
          ]
        },
        {
          "output_type": "stream",
          "name": "stderr",
          "text": [
            "100%|██████████| 4542/4542 [00:00<00:00, 8403409.25it/s]\n"
          ]
        },
        {
          "output_type": "stream",
          "name": "stdout",
          "text": [
            "Extracting ../data/MNIST/raw/t10k-labels-idx1-ubyte.gz to ../data/MNIST/raw\n",
            "\n"
          ]
        },
        {
          "output_type": "stream",
          "name": "stderr",
          "text": [
            "/usr/local/lib/python3.10/dist-packages/torch/nn/functional.py:1374: UserWarning: dropout2d: Received a 2-D input to dropout2d, which is deprecated and will result in an error in a future release. To retain the behavior and silence this warning, please use dropout instead. Note that dropout2d exists to provide channel-wise dropout on inputs with 2 spatial dimensions, a channel dimension, and an optional batch dimension (i.e. 3D or 4D inputs).\n",
            "  warnings.warn(warn_msg)\n"
          ]
        },
        {
          "output_type": "stream",
          "name": "stdout",
          "text": [
            "epoch: 0 [0/469 (0%)]\t training loss: 2.314505\n",
            "epoch: 0 [10/469 (2%)]\t training loss: 1.530618\n",
            "epoch: 0 [20/469 (4%)]\t training loss: 0.911551\n",
            "epoch: 0 [30/469 (6%)]\t training loss: 0.578104\n",
            "epoch: 0 [40/469 (9%)]\t training loss: 0.356701\n",
            "epoch: 0 [50/469 (11%)]\t training loss: 0.585051\n",
            "epoch: 0 [60/469 (13%)]\t training loss: 0.264311\n",
            "epoch: 0 [70/469 (15%)]\t training loss: 0.224433\n",
            "epoch: 0 [80/469 (17%)]\t training loss: 0.212742\n",
            "epoch: 0 [90/469 (19%)]\t training loss: 0.250463\n",
            "epoch: 0 [100/469 (21%)]\t training loss: 0.147612\n",
            "epoch: 0 [110/469 (23%)]\t training loss: 0.295727\n",
            "epoch: 0 [120/469 (26%)]\t training loss: 0.285870\n",
            "epoch: 0 [130/469 (28%)]\t training loss: 0.163039\n",
            "epoch: 0 [140/469 (30%)]\t training loss: 0.191841\n",
            "epoch: 0 [150/469 (32%)]\t training loss: 0.123490\n",
            "epoch: 0 [160/469 (34%)]\t training loss: 0.084445\n",
            "epoch: 0 [170/469 (36%)]\t training loss: 0.175686\n",
            "epoch: 0 [180/469 (38%)]\t training loss: 0.090777\n",
            "epoch: 0 [190/469 (41%)]\t training loss: 0.104326\n",
            "epoch: 0 [200/469 (43%)]\t training loss: 0.121235\n",
            "epoch: 0 [210/469 (45%)]\t training loss: 0.177068\n",
            "epoch: 0 [220/469 (47%)]\t training loss: 0.093293\n",
            "epoch: 0 [230/469 (49%)]\t training loss: 0.119362\n",
            "epoch: 0 [240/469 (51%)]\t training loss: 0.240088\n",
            "epoch: 0 [250/469 (53%)]\t training loss: 0.154889\n",
            "epoch: 0 [260/469 (55%)]\t training loss: 0.203092\n",
            "epoch: 0 [270/469 (58%)]\t training loss: 0.045376\n",
            "epoch: 0 [280/469 (60%)]\t training loss: 0.095869\n",
            "epoch: 0 [290/469 (62%)]\t training loss: 0.112359\n",
            "epoch: 0 [300/469 (64%)]\t training loss: 0.055831\n",
            "epoch: 0 [310/469 (66%)]\t training loss: 0.074989\n",
            "epoch: 0 [320/469 (68%)]\t training loss: 0.136080\n",
            "epoch: 0 [330/469 (70%)]\t training loss: 0.051419\n",
            "epoch: 0 [340/469 (72%)]\t training loss: 0.090618\n",
            "epoch: 0 [350/469 (75%)]\t training loss: 0.136779\n",
            "epoch: 0 [360/469 (77%)]\t training loss: 0.092445\n",
            "epoch: 0 [370/469 (79%)]\t training loss: 0.130088\n",
            "epoch: 0 [380/469 (81%)]\t training loss: 0.051404\n",
            "epoch: 0 [390/469 (83%)]\t training loss: 0.122425\n",
            "epoch: 0 [400/469 (85%)]\t training loss: 0.099858\n",
            "epoch: 0 [410/469 (87%)]\t training loss: 0.082783\n",
            "epoch: 0 [420/469 (90%)]\t training loss: 0.181926\n",
            "epoch: 0 [430/469 (92%)]\t training loss: 0.055069\n",
            "epoch: 0 [440/469 (94%)]\t training loss: 0.132397\n",
            "epoch: 0 [450/469 (96%)]\t training loss: 0.071862\n",
            "epoch: 0 [460/469 (98%)]\t training loss: 0.082932\n",
            "Finished training in 83.24487519264221 secs\n"
          ]
        }
      ]
    }
  ]
}
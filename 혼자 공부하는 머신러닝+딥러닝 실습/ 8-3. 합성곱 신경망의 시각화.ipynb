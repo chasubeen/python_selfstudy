{
  "nbformat": 4,
  "nbformat_minor": 0,
  "metadata": {
    "colab": {
      "name": "8-3.합성곱 신경망의 시각화.ipynb",
      "provenance": [],
      "collapsed_sections": [],
      "mount_file_id": "1ioTZCDQdU7HWOljuwDV9AJD7iqfPVkeV",
      "authorship_tag": "ABX9TyO2hYaBA+1f0Bt/s4a0wTno",
      "include_colab_link": true
    },
    "kernelspec": {
      "name": "python3",
      "display_name": "Python 3"
    },
    "language_info": {
      "name": "python"
    }
  },
  "cells": [
    {
      "cell_type": "markdown",
      "metadata": {
        "id": "view-in-github",
        "colab_type": "text"
      },
      "source": [
        "<a href=\"https://colab.research.google.com/github/chasubeen/python_selfstudy/blob/master/%E1%84%92%E1%85%A9%E1%86%AB%E1%84%8C%E1%85%A1%20%E1%84%80%E1%85%A9%E1%86%BC%E1%84%87%E1%85%AE%E1%84%92%E1%85%A1%E1%84%82%E1%85%B3%E1%86%AB%20%E1%84%86%E1%85%A5%E1%84%89%E1%85%B5%E1%86%AB%E1%84%85%E1%85%A5%E1%84%82%E1%85%B5%E1%86%BC%2B%E1%84%83%E1%85%B5%E1%86%B8%E1%84%85%E1%85%A5%E1%84%82%E1%85%B5%E1%86%BC%20%E1%84%89%E1%85%B5%E1%86%AF%E1%84%89%E1%85%B3%E1%86%B8/%208-3.%20%ED%95%A9%EC%84%B1%EA%B3%B1%20%EC%8B%A0%EA%B2%BD%EB%A7%9D%EC%9D%98%20%EC%8B%9C%EA%B0%81%ED%99%94.ipynb\" target=\"_parent\"><img src=\"https://colab.research.google.com/assets/colab-badge.svg\" alt=\"Open In Colab\"/></a>"
      ]
    },
    {
      "cell_type": "markdown",
      "source": [
        "###**가중치 시각화**\n",
        "- 합성곱 층의 가중치를 이미지로 출력하는 것"
      ],
      "metadata": {
        "id": "O5FCnRB6otZQ"
      }
    },
    {
      "cell_type": "code",
      "source": [
        "from google.colab import drive\n",
        "drive.mount('/content/drive')"
      ],
      "metadata": {
        "colab": {
          "base_uri": "https://localhost:8080/"
        },
        "id": "lW-k3qCXtV89",
        "outputId": "809746b3-0500-4552-bfa9-f493ae520bc9"
      },
      "execution_count": null,
      "outputs": [
        {
          "output_type": "stream",
          "name": "stdout",
          "text": [
            "Drive already mounted at /content/drive; to attempt to forcibly remount, call drive.mount(\"/content/drive\", force_remount=True).\n"
          ]
        }
      ]
    },
    {
      "cell_type": "code",
      "source": [
        "cd /content/drive/MyDrive/Colab Notebooks/혼자 공부하는 머신러닝+딥러닝 실습"
      ],
      "metadata": {
        "id": "c_3StrIetp2F",
        "colab": {
          "base_uri": "https://localhost:8080/"
        },
        "outputId": "336e8eb9-61c9-4698-b3e6-0f95a7f25494"
      },
      "execution_count": null,
      "outputs": [
        {
          "output_type": "stream",
          "name": "stdout",
          "text": [
            "/content/drive/MyDrive/Colab Notebooks/혼자 공부하는 머신러닝+딥러닝 실습\n"
          ]
        }
      ]
    },
    {
      "cell_type": "code",
      "source": [
        "# checkpoint 파일 읽어오기\n",
        "from tensorflow import keras\n",
        "model = keras.models.load_model('best-cnn-model.h5')"
      ],
      "metadata": {
        "id": "HtxkSKYMpJSA"
      },
      "execution_count": null,
      "outputs": []
    },
    {
      "cell_type": "code",
      "source": [
        "# 추가한 층은 layers 속성에 파이썬 리스트 형태로 저장되어 있음\n",
        "model.layers"
      ],
      "metadata": {
        "colab": {
          "base_uri": "https://localhost:8080/"
        },
        "id": "0fKXb302u548",
        "outputId": "15294ea6-0066-4da4-c446-94ca3e5b8607"
      },
      "execution_count": null,
      "outputs": [
        {
          "output_type": "execute_result",
          "data": {
            "text/plain": [
              "[<keras.layers.convolutional.Conv2D at 0x7faeaba074d0>,\n",
              " <keras.layers.pooling.MaxPooling2D at 0x7faea78b9b10>,\n",
              " <keras.layers.convolutional.Conv2D at 0x7faed887fe50>,\n",
              " <keras.layers.pooling.MaxPooling2D at 0x7faea78e8dd0>,\n",
              " <keras.layers.core.flatten.Flatten at 0x7faea78861d0>,\n",
              " <keras.layers.core.dense.Dense at 0x7faeacbc9050>,\n",
              " <keras.layers.core.dropout.Dropout at 0x7faea788da50>,\n",
              " <keras.layers.core.dense.Dense at 0x7faea78b9110>]"
            ]
          },
          "metadata": {},
          "execution_count": 4
        }
      ]
    },
    {
      "cell_type": "code",
      "source": [
        "# 첫 번째 합성곱 층의 가중치와 절편의 크기 조사하기\n",
        "conv = model.layers[0]\n",
        "print(conv.weights[0].shape,conv.weights[1].shape)"
      ],
      "metadata": {
        "colab": {
          "base_uri": "https://localhost:8080/"
        },
        "id": "1eQpmL20u91q",
        "outputId": "9bd01ee9-9b88-43f5-b74d-4a006c128872"
      },
      "execution_count": null,
      "outputs": [
        {
          "output_type": "stream",
          "name": "stdout",
          "text": [
            "(3, 3, 1, 32) (32,)\n"
          ]
        }
      ]
    },
    {
      "cell_type": "code",
      "source": [
        "conv_weights = conv.weights[0].numpy() # 넘파이 배열로 변환하기\n",
        "print(conv_weights.mean(),conv_weights.std()) # 평균과 표준편차 정하기"
      ],
      "metadata": {
        "colab": {
          "base_uri": "https://localhost:8080/"
        },
        "id": "4GNDy5EQvea8",
        "outputId": "3f034eec-f583-473b-b9a0-20febf3e8615"
      },
      "execution_count": null,
      "outputs": [
        {
          "output_type": "stream",
          "name": "stdout",
          "text": [
            "-0.010986257 0.2299233\n"
          ]
        }
      ]
    },
    {
      "cell_type": "code",
      "source": [
        "# 가중치의 분포 시각화하기\n",
        "import matplotlib.pyplot as plt\n",
        "plt.hist(conv_weights.reshape(-1,1)) # 히스토그램을 그리기 위해서는 1차원 배열로 전달해야 한다.\n",
        "plt.xlabel('weight')\n",
        "plt.ylabel('count')\n",
        "plt.show()"
      ],
      "metadata": {
        "colab": {
          "base_uri": "https://localhost:8080/",
          "height": 279
        },
        "id": "zUTRlWWYwG0B",
        "outputId": "4919595c-8da8-412b-c97d-bc75a8ec277e"
      },
      "execution_count": null,
      "outputs": [
        {
          "output_type": "display_data",
          "data": {
            "text/plain": [
              "<Figure size 432x288 with 1 Axes>"
            ],
            "image/png": "[encoded data removed]"
          },
          "metadata": {
            "needs_background": "light"
          }
        }
      ]
    },
    {
      "cell_type": "code",
      "source": [
        "# 커널 출력해보기\n",
        "fig,axs = plt.subplots(2,16,figsize = (15,2))\n",
        "for i in range(2):\n",
        "  for j in range(16):\n",
        "    axs[i,j].imshow(conv_weights[:,:,0,i*16+j],vmin = -0.5,vmax = 0.5)\n",
        "    axs[i,j].axis('off')\n",
        "plt.show()"
      ],
      "metadata": {
        "colab": {
          "base_uri": "https://localhost:8080/",
          "height": 134
        },
        "id": "R7efS8c2woQl",
        "outputId": "d6188c27-a607-4dd6-9ca1-6b489555d2ea"
      },
      "execution_count": null,
      "outputs": [
        {
          "output_type": "display_data",
          "data": {
            "text/plain": [
              "<Figure size 1080x144 with 32 Axes>"
            ],
            "image/png": "[encoded data removed]"
          },
          "metadata": {
            "needs_background": "light"
          }
        }
      ]
    },
    {
      "cell_type": "code",
      "source": [
        "# 훈련하지 않은 빈 합성곱 신경망 만들어보기\n",
        "no_training_model = keras.Sequential()\n",
        "no_training_model.add(keras.layers.Conv2D(32,kernel_size = 3,activation = 'relu',padding = 'same',input_shape = (28,28,1)))"
      ],
      "metadata": {
        "id": "g9ARk1sX17q-"
      },
      "execution_count": null,
      "outputs": []
    },
    {
      "cell_type": "code",
      "source": [
        "# 첫 번째 층의 가중치 저장\n",
        "no_training_conv = no_training_model.layers[0]\n",
        "print(no_training_conv.weights[0].shape)"
      ],
      "metadata": {
        "colab": {
          "base_uri": "https://localhost:8080/"
        },
        "id": "e1hRxIAi2gkk",
        "outputId": "a34f1964-49c6-4215-f1ff-43ecd8bea027"
      },
      "execution_count": null,
      "outputs": [
        {
          "output_type": "stream",
          "name": "stdout",
          "text": [
            "(3, 3, 1, 32)\n"
          ]
        }
      ]
    },
    {
      "cell_type": "code",
      "source": [
        "# 가중치의 평균과 표준편차 확인하기\n",
        "no_training_weights = no_training_conv.weights[0].numpy()\n",
        "print(no_training_weights.mean(),no_training_weights.std())"
      ],
      "metadata": {
        "colab": {
          "base_uri": "https://localhost:8080/"
        },
        "id": "RPEomwpG2uUJ",
        "outputId": "85467999-7270-436c-ee49-9aa7eaa0a820"
      },
      "execution_count": null,
      "outputs": [
        {
          "output_type": "stream",
          "name": "stdout",
          "text": [
            "-0.011291537 0.08105409\n"
          ]
        }
      ]
    },
    {
      "cell_type": "code",
      "source": [
        "# 가중치 배열을 히스토그램으로 표현하기\n",
        "plt.hist(no_training_weights.reshape(-1,1))\n",
        "plt.xlabel('weight')\n",
        "plt.ylabel('count')\n",
        "plt.show()"
      ],
      "metadata": {
        "colab": {
          "base_uri": "https://localhost:8080/",
          "height": 279
        },
        "id": "d7NmqIRI3bt8",
        "outputId": "4717ddf3-830d-4ad7-8106-4978548be82c"
      },
      "execution_count": null,
      "outputs": [
        {
          "output_type": "display_data",
          "data": {
            "text/plain": [
              "<Figure size 432x288 with 1 Axes>"
            ],
            "image/png": "[encoded data removed]"
          },
          "metadata": {
            "needs_background": "light"
          }
        }
      ]
    },
    {
      "cell_type": "code",
      "source": [
        "# 가중치 값을 그림으로 출력하기\n",
        "fig,axs = plt.subplots(2,16,figsize = (15,2))\n",
        "for i in range(2):\n",
        "  for j in range(16):\n",
        "    axs[i,j].imshow(no_training_weights[:,:,0,i*16+j],vmin = -0.5,vmax = 0.5)\n",
        "    axs[i,j].axis('off')\n",
        "plt.show()\n",
        "\n",
        "# 전체적으로 가중치가 밋밋하게 초기화됨"
      ],
      "metadata": {
        "colab": {
          "base_uri": "https://localhost:8080/",
          "height": 134
        },
        "id": "Q1dYnCV232mQ",
        "outputId": "5760a33e-8b43-45da-9c30-77176cc12340"
      },
      "execution_count": null,
      "outputs": [
        {
          "output_type": "display_data",
          "data": {
            "text/plain": [
              "<Figure size 1080x144 with 32 Axes>"
            ],
            "image/png": "[encoded data removed]"
          },
          "metadata": {
            "needs_background": "light"
          }
        }
      ]
    },
    {
      "cell_type": "markdown",
      "source": [
        "###**함수형 API**\n",
        "- 케라스에서 신경망 모델을 만드는 방법 중 하나\n",
        "- Model 클래스에 모델의 입력과 출력을 지정\n",
        "- 전형적으로 입력은 Input() 함수를 사용하여 정의하고, 출력은 마지막 층의 출력으로 정의함"
      ],
      "metadata": {
        "id": "coyUfkid5o5A"
      }
    },
    {
      "cell_type": "code",
      "source": [
        "print(model.input) # 입력 모양"
      ],
      "metadata": {
        "colab": {
          "base_uri": "https://localhost:8080/"
        },
        "id": "pfUKdgYP5_J2",
        "outputId": "ae6142f5-0351-4dbf-fd03-b32b4155e6b6"
      },
      "execution_count": null,
      "outputs": [
        {
          "output_type": "stream",
          "name": "stdout",
          "text": [
            "KerasTensor(type_spec=TensorSpec(shape=(None, 28, 28, 1), dtype=tf.float32, name='conv2d_input'), name='conv2d_input', description=\"created by layer 'conv2d_input'\")\n"
          ]
        }
      ]
    },
    {
      "cell_type": "code",
      "source": [
        "# model.input과 model.layers[0].output을 연결하는 새로운 모델 생성하기\n",
        "conv_acti = keras.Model(model.input,model.layers[0].output)"
      ],
      "metadata": {
        "id": "AhHf-k6U6x0L"
      },
      "execution_count": null,
      "outputs": []
    },
    {
      "cell_type": "markdown",
      "source": [
        "###**특성 맵 시각화**\n",
        "- 합성곱 층의 활성화 출력을 이미지로 그리는 것\n",
        "- 가중치 시각화와 함께 비교하여 각 필터가 이미지의 어느 부분을 활성화시키는지 확인할 수 있음\n"
      ],
      "metadata": {
        "id": "POb8nxVh6-NQ"
      }
    },
    {
      "cell_type": "code",
      "source": [
        "# 훈련 세트에 있는 첫 번째 샘플 그려보기\n",
        "(train_input,train_target),(test_input,test_target) = keras.datasets.fashion_mnist.load_data()\n",
        "plt.imshow(train_input[0],cmap = 'gray_r')\n",
        "plt.show()"
      ],
      "metadata": {
        "colab": {
          "base_uri": "https://localhost:8080/",
          "height": 465
        },
        "id": "DN_SgcSk7ZAw",
        "outputId": "4ce2b0ad-fccd-46c5-87c3-7dcd94e05f3f"
      },
      "execution_count": null,
      "outputs": [
        {
          "output_type": "stream",
          "name": "stdout",
          "text": [
            "Downloading data from https://storage.googleapis.com/tensorflow/tf-keras-datasets/train-labels-idx1-ubyte.gz\n",
            "32768/29515 [=================================] - 0s 0us/step\n",
            "40960/29515 [=========================================] - 0s 0us/step\n",
            "Downloading data from https://storage.googleapis.com/tensorflow/tf-keras-datasets/train-images-idx3-ubyte.gz\n",
            "26427392/26421880 [==============================] - 0s 0us/step\n",
            "26435584/26421880 [==============================] - 0s 0us/step\n",
            "Downloading data from https://storage.googleapis.com/tensorflow/tf-keras-datasets/t10k-labels-idx1-ubyte.gz\n",
            "16384/5148 [===============================================================================================] - 0s 0us/step\n",
            "Downloading data from https://storage.googleapis.com/tensorflow/tf-keras-datasets/t10k-images-idx3-ubyte.gz\n",
            "4423680/4422102 [==============================] - 0s 0us/step\n",
            "4431872/4422102 [==============================] - 0s 0us/step\n"
          ]
        },
        {
          "output_type": "display_data",
          "data": {
            "text/plain": [
              "<Figure size 432x288 with 1 Axes>"
            ],
            "image/png": "[encoded data removed]"
          },
          "metadata": {
            "needs_background": "light"
          }
        }
      ]
    },
    {
      "cell_type": "code",
      "source": [
        "# Con2D 층이 만드는 특성 맵을 출력해보기\n",
        "inputs = train_input[0:1].reshape(-1,28,28,1)/255.0 # predict() 메서드는 항상 입력의 첫 번째 차원이 배치 차원일 것을 기대함 \n",
        "feature_maps = conv_acti.predict(inputs) "
      ],
      "metadata": {
        "id": "WqvEj4wp7tzI"
      },
      "execution_count": null,
      "outputs": []
    },
    {
      "cell_type": "code",
      "source": [
        "print(feature_maps.shape)"
      ],
      "metadata": {
        "colab": {
          "base_uri": "https://localhost:8080/"
        },
        "id": "XqkhXKTW9AEB",
        "outputId": "1061ffce-4061-4931-bee7-abc6324d2c40"
      },
      "execution_count": null,
      "outputs": [
        {
          "output_type": "stream",
          "name": "stdout",
          "text": [
            "(1, 28, 28, 32)\n"
          ]
        }
      ]
    },
    {
      "cell_type": "code",
      "source": [
        "# 특성 맵 그려보기\n",
        "fig,axs = plt.subplots(4,8,figsize = (15,8))\n",
        "for i in range(4):\n",
        "  for j in range(8):\n",
        "    axs[i,j].imshow(feature_maps[0,:,:,i*8+j])\n",
        "    axs[i,j].axis('off')\n",
        "plt.show()"
      ],
      "metadata": {
        "colab": {
          "base_uri": "https://localhost:8080/",
          "height": 460
        },
        "id": "WOqmSyRo9EP_",
        "outputId": "12d238cc-c993-4886-c7d9-f73f4d31e455"
      },
      "execution_count": null,
      "outputs": [
        {
          "output_type": "display_data",
          "data": {
            "text/plain": [
              "<Figure size 1080x576 with 32 Axes>"
            ],
            "image/png": "[encoded data removed]"
          },
          "metadata": {
            "needs_background": "light"
          }
        }
      ]
    },
    {
      "cell_type": "code",
      "source": [
        "conv2_acti = keras.Model(model.input,model.layers[2].output)"
      ],
      "metadata": {
        "id": "9BgFT6NU90eB"
      },
      "execution_count": null,
      "outputs": []
    },
    {
      "cell_type": "code",
      "source": [
        "inputs = train_input[0:1].reshape(-1,28,28,1)/255.0\n",
        "feature_maps = conv2_acti.predict(inputs)"
      ],
      "metadata": {
        "id": "LIKyrTGE-LZe"
      },
      "execution_count": null,
      "outputs": []
    },
    {
      "cell_type": "code",
      "source": [
        "print(feature_maps.shape)"
      ],
      "metadata": {
        "colab": {
          "base_uri": "https://localhost:8080/"
        },
        "id": "Gcfu6arR-pHG",
        "outputId": "2d97b32f-e867-4001-ed6b-9776c6c685b2"
      },
      "execution_count": null,
      "outputs": [
        {
          "output_type": "stream",
          "name": "stdout",
          "text": [
            "(1, 14, 14, 64)\n"
          ]
        }
      ]
    },
    {
      "cell_type": "code",
      "source": [
        "fig,axs = plt.subplots(8,8,figsize = (12,12))\n",
        "for i in range(8):\n",
        "  for j in range(8):\n",
        "    axs[i,j].imshow(feature_maps[0,:,:,i * 8 + j])\n",
        "    axs[i,j].axis('off')\n",
        "plt.show()"
      ],
      "metadata": {
        "colab": {
          "base_uri": "https://localhost:8080/",
          "height": 683
        },
        "id": "gLQYESXD-7ZP",
        "outputId": "0f1fa28f-915f-4a90-8336-109cd7711726"
      },
      "execution_count": null,
      "outputs": [
        {
          "output_type": "display_data",
          "data": {
            "text/plain": [
              "<Figure size 864x864 with 64 Axes>"
            ],
            "image/png": "[encoded data removed]"
          },
          "metadata": {
            "needs_background": "light"
          }
        }
      ]
    }
  ]
}
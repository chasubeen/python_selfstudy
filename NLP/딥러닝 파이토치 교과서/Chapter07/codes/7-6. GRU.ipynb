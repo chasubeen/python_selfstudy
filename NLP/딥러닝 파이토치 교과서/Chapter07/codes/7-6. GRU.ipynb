{
 "cells": [
  {
   "cell_type": "markdown",
   "id": "e3cfa774",
   "metadata": {},
   "source": [
    "## **6-2. GRU 셀 구현**"
   ]
  },
  {
   "cell_type": "markdown",
   "id": "2dc13953",
   "metadata": {},
   "source": [
    "### **라이브러리 호출**"
   ]
  },
  {
   "cell_type": "code",
   "execution_count": 1,
   "id": "3902d544",
   "metadata": {},
   "outputs": [],
   "source": [
    "import torch\n",
    "import torch.nn as nn\n",
    "import torchvision.transforms as transforms\n",
    "import torchvision.datasets as dataset\n",
    "from torch.autograd import Variable\n",
    "from torch.nn import Parameter\n",
    "from torch import Tensor\n",
    "import torch.nn.functional as F\n",
    "from torch.utils.data import DataLoader\n",
    "import math\n",
    "\n",
    "device = torch.device('cuda:0' if torch.cuda.is_available() else 'cpu')\n",
    "cuda = True if torch.cuda.is_available() else False\n",
    "    \n",
    "Tensor = torch.cuda.FloatTensor if cuda else torch.FloatTensor    \n",
    "\n",
    "torch.manual_seed(125)\n",
    "if torch.cuda.is_available():\n",
    "    torch.cuda.manual_seed_all(125)"
   ]
  },
  {
   "cell_type": "markdown",
   "id": "e1480e36",
   "metadata": {},
   "source": [
    "### **데이터 준비**"
   ]
  },
  {
   "cell_type": "markdown",
   "id": "e144745d",
   "metadata": {},
   "source": [
    "**데이터 전처리**"
   ]
  },
  {
   "cell_type": "code",
   "execution_count": 2,
   "id": "4f25963b",
   "metadata": {},
   "outputs": [],
   "source": [
    "mnist_transform = transforms.Compose([\n",
    "    transforms.ToTensor(), \n",
    "    transforms.Normalize((0.5,), (1.0,))\n",
    "])"
   ]
  },
  {
   "cell_type": "markdown",
   "id": "3b76e39b",
   "metadata": {},
   "source": [
    "**데이터셋 내려받기 & 전처리**"
   ]
  },
  {
   "cell_type": "code",
   "execution_count": 3,
   "id": "1953134d",
   "metadata": {},
   "outputs": [],
   "source": [
    "from torchvision.datasets import MNIST\n",
    "download_root = 'MNIST_DATASET/'\n",
    "\n",
    "train_dataset = MNIST(download_root, transform=mnist_transform, train=True, download=True)\n",
    "valid_dataset = MNIST(download_root, transform=mnist_transform, train=False, download=True)\n",
    "test_dataset = MNIST(download_root, transform=mnist_transform, train=False, download=True)"
   ]
  },
  {
   "cell_type": "markdown",
   "id": "f7072ab2",
   "metadata": {},
   "source": [
    "**데이터셋 메모리로 가져오기**"
   ]
  },
  {
   "cell_type": "code",
   "execution_count": 4,
   "id": "26fb3742",
   "metadata": {},
   "outputs": [],
   "source": [
    "batch_size = 64\n",
    "\n",
    "train_loader = DataLoader(dataset = train_dataset, \n",
    "                         batch_size = batch_size,\n",
    "                         shuffle = True)\n",
    "valid_loader = DataLoader(dataset = test_dataset, \n",
    "                         batch_size = batch_size,\n",
    "                         shuffle = True)\n",
    "test_loader = DataLoader(dataset = test_dataset, \n",
    "                         batch_size = batch_size,\n",
    "                         shuffle = True)"
   ]
  },
  {
   "cell_type": "markdown",
   "id": "6faad9da",
   "metadata": {},
   "source": [
    "**변수 값 설정**"
   ]
  },
  {
   "cell_type": "code",
   "execution_count": 5,
   "id": "f1df4ed8",
   "metadata": {},
   "outputs": [],
   "source": [
    "batch_size = 100\n",
    "n_iters = 6000\n",
    "num_epochs = n_iters / (len(train_dataset) / batch_size)\n",
    "num_epochs = int(num_epochs)"
   ]
  },
  {
   "cell_type": "markdown",
   "id": "d87f2dd6",
   "metadata": {},
   "source": [
    "### **모델링**"
   ]
  },
  {
   "cell_type": "markdown",
   "id": "83644394",
   "metadata": {},
   "source": [
    "**GRU 셀 네트워크**"
   ]
  },
  {
   "cell_type": "code",
   "execution_count": 6,
   "id": "17b71c53",
   "metadata": {},
   "outputs": [],
   "source": [
    "class GRUCell(nn.Module):\n",
    "    def __init__(self, input_size, hidden_size, bias = True):\n",
    "        super(GRUCell, self).__init__()\n",
    "        self.input_size = input_size\n",
    "        self.hidden_size = hidden_size\n",
    "        self.bias = bias\n",
    "        \n",
    "        # GRU에서는 3개의 게이트가 사용됨\n",
    "        self.x2h = nn.Linear(input_size, 3 * hidden_size, bias = bias)\n",
    "        self.h2h = nn.Linear(hidden_size, 3 * hidden_size, bias = bias)\n",
    "        \n",
    "        self.reset_parameters()\n",
    "        \n",
    "    ## 파라미터 초기화\n",
    "    def reset_parameters(self):\n",
    "        std = 1.0 / math.sqrt(self.hidden_size)\n",
    "        for w in self.parameters():\n",
    "            w.data.uniform_(-std, std)\n",
    "    \n",
    "    def forward(self, x, hidden):        \n",
    "        x = x.view(-1, x.size(1))\n",
    "        \n",
    "        # GRU 셀에서는 개별적인 상태를 유지\n",
    "        gate_x = self.x2h(x)\n",
    "        gate_h = self.h2h(hidden)\n",
    "        gate_x = gate_x.squeeze()\n",
    "        gate_h = gate_h.squeeze()\n",
    "        \n",
    "        ## 총 3개의 게이트로 분할\n",
    "        # 망각, 입력, 새로운 게이트(for tanh 적용)\n",
    "        i_r, i_i, i_n = gate_x.chunk(3, 1)\n",
    "        h_r, h_i, h_n = gate_h.chunk(3, 1)\n",
    "                \n",
    "        resetgate = F.sigmoid(i_r + h_r)\n",
    "        inputgate = F.sigmoid(i_i + h_i)\n",
    "        # tanh 적용\n",
    "        newgate = F.tanh(i_n + (resetgate * h_n))\n",
    "        \n",
    "        hy = newgate + inputgate * (hidden - newgate)              \n",
    "        return hy"
   ]
  },
  {
   "cell_type": "markdown",
   "id": "f7cd97eb",
   "metadata": {},
   "source": [
    "**전반적인 네트워크 구성**"
   ]
  },
  {
   "cell_type": "code",
   "execution_count": 7,
   "id": "d68e098e",
   "metadata": {},
   "outputs": [],
   "source": [
    "class GRUModel(nn.Module):\n",
    "    def __init__(self, input_dim, hidden_dim, layer_dim, output_dim, bias = True):\n",
    "        super(GRUModel, self).__init__()\n",
    "        self.hidden_dim = hidden_dim\n",
    "        self.layer_dim = layer_dim  \n",
    "        \n",
    "        self.gru_cell = GRUCell(input_dim, hidden_dim, layer_dim)                \n",
    "        self.fc = nn.Linear(hidden_dim, output_dim)\n",
    "        \n",
    "    def forward(self, x):\n",
    "        if torch.cuda.is_available():\n",
    "            h0 = Variable(torch.zeros(self.layer_dim, x.size(0), self.hidden_dim).cuda())\n",
    "        else:\n",
    "            h0 = Variable(torch.zeros(self.layer_dim, x.size(0), self.hidden_dim))\n",
    "                \n",
    "        outs = [] \n",
    "        # GRU 셀에서는 셀 상태를 따로 정의하지 x\n",
    "        hn = h0[0,:,:]\n",
    "        \n",
    "        for seq in range(x.size(1)):\n",
    "            hn = self.gru_cell(x[:,seq,:], hn) \n",
    "            outs.append(hn)\n",
    "            \n",
    "        out = outs[-1].squeeze()        \n",
    "        out = self.fc(out) \n",
    "        return out"
   ]
  },
  {
   "cell_type": "markdown",
   "id": "20594a17",
   "metadata": {},
   "source": [
    "**옵티마이져, 손실 함수 정의**"
   ]
  },
  {
   "cell_type": "code",
   "execution_count": 8,
   "id": "9da48a63",
   "metadata": {},
   "outputs": [],
   "source": [
    "input_dim = 28\n",
    "hidden_dim = 128\n",
    "layer_dim = 1  \n",
    "output_dim = 10\n",
    " \n",
    "model = GRUModel(input_dim, hidden_dim, layer_dim, output_dim)\n",
    " \n",
    "if torch.cuda.is_available():\n",
    "    model.cuda()\n",
    "\n",
    "criterion = nn.CrossEntropyLoss()\n",
    "learning_rate = 0.1 \n",
    "optimizer = torch.optim.SGD(model.parameters(), lr=learning_rate)"
   ]
  },
  {
   "cell_type": "markdown",
   "id": "1923b5ec",
   "metadata": {},
   "source": [
    "**모델 학습 & 성능 검증**"
   ]
  },
  {
   "cell_type": "code",
   "execution_count": 10,
   "id": "6c627457",
   "metadata": {},
   "outputs": [
    {
     "name": "stderr",
     "output_type": "stream",
     "text": [
      "c:\\users\\doroc\\appdata\\local\\programs\\python\\python37\\lib\\site-packages\\torch\\nn\\functional.py:1806: UserWarning: nn.functional.sigmoid is deprecated. Use torch.sigmoid instead.\n",
      "  warnings.warn(\"nn.functional.sigmoid is deprecated. Use torch.sigmoid instead.\")\n",
      "c:\\users\\doroc\\appdata\\local\\programs\\python\\python37\\lib\\site-packages\\torch\\nn\\functional.py:1795: UserWarning: nn.functional.tanh is deprecated. Use torch.tanh instead.\n",
      "  warnings.warn(\"nn.functional.tanh is deprecated. Use torch.tanh instead.\")\n"
     ]
    },
    {
     "name": "stdout",
     "output_type": "stream",
     "text": [
      "Iteration: 500. Loss: 1.661692500114441. Accuracy: 43.59000015258789\n",
      "Iteration: 1000. Loss: 0.8945669531822205. Accuracy: 76.19999694824219\n",
      "Iteration: 1500. Loss: 0.29147768020629883. Accuracy: 89.7300033569336\n",
      "Iteration: 2000. Loss: 0.23627927899360657. Accuracy: 93.51000213623047\n",
      "Iteration: 2500. Loss: 0.032887253910303116. Accuracy: 95.05000305175781\n",
      "Iteration: 3000. Loss: 0.030374949797987938. Accuracy: 95.81999969482422\n",
      "Iteration: 3500. Loss: 0.16210585832595825. Accuracy: 96.33999633789062\n",
      "Iteration: 4000. Loss: 0.19308783113956451. Accuracy: 96.19000244140625\n",
      "Iteration: 4500. Loss: 0.051720019429922104. Accuracy: 97.0\n",
      "Iteration: 5000. Loss: 0.13900154829025269. Accuracy: 97.26000213623047\n",
      "Iteration: 5500. Loss: 0.08090292662382126. Accuracy: 97.62000274658203\n",
      "Iteration: 6000. Loss: 0.1048835963010788. Accuracy: 97.69000244140625\n",
      "Iteration: 6500. Loss: 0.0798400491476059. Accuracy: 97.80000305175781\n",
      "Iteration: 7000. Loss: 0.10250382870435715. Accuracy: 97.55999755859375\n",
      "Iteration: 7500. Loss: 0.06477978080511093. Accuracy: 97.86000061035156\n",
      "Iteration: 8000. Loss: 0.1054762750864029. Accuracy: 97.80000305175781\n",
      "Iteration: 8500. Loss: 0.04281158745288849. Accuracy: 98.0199966430664\n",
      "Iteration: 9000. Loss: 0.04198883846402168. Accuracy: 98.22000122070312\n"
     ]
    }
   ],
   "source": [
    "seq_dim = 28 \n",
    "loss_list = []\n",
    "iter = 0\n",
    "\n",
    "for epoch in range(num_epochs):\n",
    "    for i, (images, labels) in enumerate(train_loader):         \n",
    "        if torch.cuda.is_available():\n",
    "            images = Variable(images.view(-1, seq_dim, input_dim).cuda())\n",
    "            labels = Variable(labels.cuda())\n",
    "        else:\n",
    "            images = Variable(images.view(-1, seq_dim, input_dim))\n",
    "            labels = Variable(labels)\n",
    "          \n",
    "        optimizer.zero_grad()\n",
    "        outputs = model(images)\n",
    "        loss = criterion(outputs, labels)\n",
    "\n",
    "        if torch.cuda.is_available():\n",
    "            loss.cuda()\n",
    "\n",
    "        loss.backward()\n",
    "        optimizer.step()\n",
    "        \n",
    "        loss_list.append(loss.item())\n",
    "        iter += 1\n",
    "         \n",
    "        if iter % 500 == 0:         \n",
    "            correct = 0\n",
    "            total = 0\n",
    "            for images, labels in valid_loader:\n",
    "                if torch.cuda.is_available():\n",
    "                    images = Variable(images.view(-1, seq_dim, input_dim).cuda())\n",
    "                else:\n",
    "                    images = Variable(images.view(-1 , seq_dim, input_dim))\n",
    "                \n",
    "                outputs = model(images)\n",
    "                _, predicted = torch.max(outputs.data, 1)\n",
    "                total += labels.size(0)\n",
    "\n",
    "                if torch.cuda.is_available():\n",
    "                    correct += (predicted.cpu() == labels.cpu()).sum()\n",
    "                else:\n",
    "                    correct += (predicted == labels).sum()\n",
    "             \n",
    "            accuracy = 100 * correct / total\n",
    "            print('Iteration: {}. Loss: {}. Accuracy: {}'.format(iter, loss.item(), accuracy))"
   ]
  },
  {
   "cell_type": "markdown",
   "id": "b2377e93",
   "metadata": {},
   "source": [
    "- LSTM 셀을 실행시켰을 때와 비슷한 성능을 보임"
   ]
  },
  {
   "cell_type": "markdown",
   "id": "d01a23e2",
   "metadata": {},
   "source": [
    "### **예측**"
   ]
  },
  {
   "cell_type": "code",
   "execution_count": 15,
   "id": "ae5715ed",
   "metadata": {},
   "outputs": [],
   "source": [
    "def evaluate(model, val_iter):    \n",
    "    corrects, total, total_loss = 0, 0, 0\n",
    "    \n",
    "    model.eval()\n",
    "    \n",
    "    for images, labels in val_iter:\n",
    "        if torch.cuda.is_available():\n",
    "            images = Variable(images.view(-1, seq_dim, input_dim).cuda())\n",
    "        else:\n",
    "            images = Variable(images.view(-1 , seq_dim, input_dim)).to(device)\n",
    "            \n",
    "        # labels = labels.cuda()\n",
    "        logit = model(images)\n",
    "        loss = F.cross_entropy(logit, labels, reduction = \"sum\")\n",
    "        _, predicted = torch.max(logit.data, 1)\n",
    "        total += labels.size(0)\n",
    "        total_loss += loss.item()\n",
    "        corrects += (predicted == labels).sum()\n",
    "\n",
    "    avg_loss = total_loss / len(val_iter.dataset)\n",
    "    avg_accuracy = corrects / total\n",
    "    return avg_loss, avg_accuracy"
   ]
  },
  {
   "cell_type": "markdown",
   "id": "803c9328",
   "metadata": {},
   "source": [
    "**모델 예측 결과**"
   ]
  },
  {
   "cell_type": "code",
   "execution_count": 16,
   "id": "9b0e00b6",
   "metadata": {},
   "outputs": [
    {
     "name": "stdout",
     "output_type": "stream",
     "text": [
      "Test Loss:  0.07 | Test Accuracy:  0.98\n"
     ]
    }
   ],
   "source": [
    "test_loss, test_acc = evaluate(model,test_loader)\n",
    "print(\"Test Loss: %5.2f | Test Accuracy: %5.2f\" % (test_loss, test_acc))"
   ]
  },
  {
   "cell_type": "markdown",
   "id": "3ead8113",
   "metadata": {},
   "source": [
    "- 높은 정확도를 보이고 있다."
   ]
  },
  {
   "cell_type": "markdown",
   "id": "bc361f9e",
   "metadata": {},
   "source": [
    "## **7-3. GRU 계층 구현**"
   ]
  },
  {
   "cell_type": "markdown",
   "id": "839bf30c",
   "metadata": {},
   "source": [
    "### **라이브러리 호출**"
   ]
  },
  {
   "cell_type": "code",
   "execution_count": 17,
   "id": "bdb51572",
   "metadata": {},
   "outputs": [],
   "source": [
    "import os\n",
    "import time\n",
    "\n",
    "import numpy as np\n",
    "import pandas as pd\n",
    "import matplotlib.pyplot as plt\n",
    "\n",
    "import torch\n",
    "import torch.nn as nn\n",
    "from torch.utils.data import TensorDataset, DataLoader\n",
    "from torch.autograd import Variable\n",
    "from tqdm import tqdm_notebook\n",
    "from sklearn.preprocessing import StandardScaler, MinMaxScaler\n",
    "from sklearn.model_selection import train_test_split  \n",
    "\n",
    "device = torch.device('cuda:0' if torch.cuda.is_available() else 'cpu')"
   ]
  },
  {
   "cell_type": "markdown",
   "id": "22eadd40",
   "metadata": {},
   "source": [
    "### **데이터 준비**"
   ]
  },
  {
   "cell_type": "markdown",
   "id": "9028afca",
   "metadata": {},
   "source": [
    "**데이터셋 불러오기**"
   ]
  },
  {
   "cell_type": "code",
   "execution_count": 18,
   "id": "559903c1",
   "metadata": {},
   "outputs": [
    {
     "name": "stdout",
     "output_type": "stream",
     "text": [
      "Date          object\n",
      "Open         float64\n",
      "High         float64\n",
      "Low          float64\n",
      "Close        float64\n",
      "Adj Close    float64\n",
      "Volume         int64\n",
      "dtype: object\n"
     ]
    }
   ],
   "source": [
    "data = pd.read_csv('./data/SBUX.csv')\n",
    "print(data.dtypes)"
   ]
  },
  {
   "cell_type": "code",
   "execution_count": 19,
   "id": "883f9250",
   "metadata": {},
   "outputs": [],
   "source": [
    "### 인덱스 설정 및 데이터 타입 변경\n",
    "\n",
    "data['Date'] = pd.to_datetime(data['Date'])\n",
    "data.set_index('Date', inplace = True)\n",
    "data['Volume'] = data['Volume'].astype(float)"
   ]
  },
  {
   "cell_type": "code",
   "execution_count": 20,
   "id": "1a7ec628",
   "metadata": {},
   "outputs": [
    {
     "name": "stdout",
     "output_type": "stream",
     "text": [
      "                  Open        High         Low       Close   Adj Close\n",
      "Date                                                                  \n",
      "2019-12-11   86.260002   86.870003   85.849998   86.589996   84.145752\n",
      "2019-12-12   88.000000   88.889999   87.540001   88.209999   85.720032\n",
      "2019-12-13   88.019997   88.790001   87.580002   88.669998   86.167046\n",
      "2019-12-16   89.139999   89.300003   88.430000   88.779999   86.273941\n",
      "2019-12-17   88.870003   88.970001   87.470001   88.129997   85.642288\n",
      "...                ...         ...         ...         ...         ...\n",
      "2020-12-04  101.349998  102.940002  101.070000  102.279999  101.442787\n",
      "2020-12-07  102.010002  102.220001  100.690002  101.410004  100.579918\n",
      "2020-12-08  100.370003  101.570000  100.010002  101.209999  100.381554\n",
      "2020-12-09  101.940002  102.209999  100.099998  100.400002   99.578186\n",
      "2020-12-10  103.510002  106.089996  102.750000  105.389999  104.527336\n",
      "\n",
      "[253 rows x 5 columns]\n",
      "                Volume\n",
      "Date                  \n",
      "2019-12-11   4921900.0\n",
      "2019-12-12  10282100.0\n",
      "2019-12-13   6714100.0\n",
      "2019-12-16   6705600.0\n",
      "2019-12-17   7296900.0\n",
      "...                ...\n",
      "2020-12-04   6952700.0\n",
      "2020-12-07   4514800.0\n",
      "2020-12-08   3911300.0\n",
      "2020-12-09   6629900.0\n",
      "2020-12-10  12939200.0\n",
      "\n",
      "[253 rows x 1 columns]\n"
     ]
    }
   ],
   "source": [
    "### 데이터셋 분리\n",
    "\n",
    "X = data.iloc[:,:-1]\n",
    "y = data.iloc[:,5:6]\n",
    "print(X)\n",
    "print(y)"
   ]
  },
  {
   "cell_type": "code",
   "execution_count": 21,
   "id": "fbd94a23",
   "metadata": {},
   "outputs": [
    {
     "name": "stdout",
     "output_type": "stream",
     "text": [
      "Training Shape (200, 5) (200, 1)\n",
      "Testing Shape (53, 5) (53, 1)\n"
     ]
    }
   ],
   "source": [
    "### 데이터 정규화\n",
    "\n",
    "ms = MinMaxScaler()\n",
    "ss = StandardScaler()\n",
    "\n",
    "X_ss = ss.fit_transform(X)\n",
    "y_ms = ms.fit_transform(y) \n",
    "\n",
    "X_train = X_ss[:200, :]\n",
    "X_test = X_ss[200:, :]\n",
    "\n",
    "y_train = y_ms[:200, :]\n",
    "y_test = y_ms[200:, :] \n",
    "\n",
    "print(\"Training Shape\", X_train.shape, y_train.shape)\n",
    "print(\"Testing Shape\", X_test.shape, y_test.shape) "
   ]
  },
  {
   "cell_type": "code",
   "execution_count": 22,
   "id": "6c6d2960",
   "metadata": {},
   "outputs": [
    {
     "name": "stdout",
     "output_type": "stream",
     "text": [
      "Training Shape torch.Size([200, 1, 5]) torch.Size([200, 1])\n",
      "Testing Shape torch.Size([53, 1, 5]) torch.Size([53, 1])\n"
     ]
    }
   ],
   "source": [
    "### 데이터셋 형태 변경\n",
    "\n",
    "X_train_tensors = Variable(torch.Tensor(X_train))\n",
    "X_test_tensors = Variable(torch.Tensor(X_test))\n",
    "\n",
    "y_train_tensors = Variable(torch.Tensor(y_train))\n",
    "y_test_tensors = Variable(torch.Tensor(y_test))\n",
    "\n",
    "X_train_tensors_f = torch.reshape(X_train_tensors, (X_train_tensors.shape[0], 1, X_train_tensors.shape[1]))\n",
    "X_test_tensors_f = torch.reshape(X_test_tensors, (X_test_tensors.shape[0], 1, X_test_tensors.shape[1])) \n",
    "\n",
    "print(\"Training Shape\", X_train_tensors_f.shape, y_train_tensors.shape)\n",
    "print(\"Testing Shape\", X_test_tensors_f.shape, y_test_tensors.shape) "
   ]
  },
  {
   "cell_type": "markdown",
   "id": "816fa9eb",
   "metadata": {},
   "source": [
    "### **모델링**"
   ]
  },
  {
   "cell_type": "markdown",
   "id": "8a8d34b2",
   "metadata": {},
   "source": [
    "**GRU 모델 네트워크**"
   ]
  },
  {
   "cell_type": "code",
   "execution_count": 23,
   "id": "d930e065",
   "metadata": {},
   "outputs": [],
   "source": [
    "class GRU(nn.Module):\n",
    "    def __init__(self, num_classes, input_size, hidden_size, num_layers, seq_length):\n",
    "        super(GRU, self).__init__()\n",
    "        self.num_classes = num_classes \n",
    "        self.num_layers = num_layers \n",
    "        self.input_size = input_size \n",
    "        self.hidden_size = hidden_size \n",
    "        self.seq_length = seq_length \n",
    "\n",
    "        self.gru = nn.GRU(input_size = input_size, hidden_size = hidden_size,\n",
    "                          num_layers = num_layers, batch_first = True) \n",
    "        self.fc_1 =  nn.Linear(hidden_size, 128) \n",
    "        self.fc = nn.Linear(128, num_classes) \n",
    "        self.relu = nn.ReLU()\n",
    "    \n",
    "    def forward(self,x):\n",
    "        h_0 = Variable(torch.zeros(self.num_layers, x.size(0), self.hidden_size)) \n",
    "        output, (hn) = self.gru(x, (h_0)) \n",
    "        hn = hn.view(-1, self.hidden_size) \n",
    "        out = self.relu(hn)\n",
    "        out = self.fc_1(out) \n",
    "        out = self.relu(out) \n",
    "        out = self.fc(out) \n",
    "        return out"
   ]
  },
  {
   "cell_type": "markdown",
   "id": "5ab27423",
   "metadata": {},
   "source": [
    "**옵티마이져, 손실 함수 지정**"
   ]
  },
  {
   "cell_type": "code",
   "execution_count": 24,
   "id": "74f245c2",
   "metadata": {},
   "outputs": [],
   "source": [
    "num_epochs = 1000 \n",
    "learning_rate = 0.0001 \n",
    "\n",
    "input_size = 5 \n",
    "hidden_size = 2 \n",
    "num_layers = 1 \n",
    "\n",
    "num_classes = 1 \n",
    "model = GRU(num_classes, input_size, hidden_size, \n",
    "            num_layers, X_train_tensors_f.shape[1]) \n",
    "\n",
    "criterion = torch.nn.MSELoss()    \n",
    "optimizer = torch.optim.Adam(model.parameters(), lr = learning_rate) "
   ]
  },
  {
   "cell_type": "markdown",
   "id": "f50aab69",
   "metadata": {},
   "source": [
    "**모델 학습**"
   ]
  },
  {
   "cell_type": "code",
   "execution_count": 25,
   "id": "fee3c4f2",
   "metadata": {},
   "outputs": [
    {
     "name": "stdout",
     "output_type": "stream",
     "text": [
      "Epoch: 0, loss: 0.06712\n",
      "Epoch: 100, loss: 0.03918\n",
      "Epoch: 200, loss: 0.03778\n",
      "Epoch: 300, loss: 0.03611\n",
      "Epoch: 400, loss: 0.03390\n",
      "Epoch: 500, loss: 0.03124\n",
      "Epoch: 600, loss: 0.02824\n",
      "Epoch: 700, loss: 0.02528\n",
      "Epoch: 800, loss: 0.02234\n",
      "Epoch: 900, loss: 0.02028\n"
     ]
    }
   ],
   "source": [
    "for epoch in range(num_epochs):\n",
    "    outputs = model.forward(X_train_tensors_f) \n",
    "    optimizer.zero_grad()  \n",
    "    loss = criterion(outputs, y_train_tensors)\n",
    "    loss.backward() \n",
    " \n",
    "    optimizer.step() \n",
    "    if epoch % 100 == 0:\n",
    "        print(\"Epoch: %d, loss: %1.5f\" % (epoch, loss.item())) "
   ]
  },
  {
   "cell_type": "markdown",
   "id": "c32a5ec9",
   "metadata": {},
   "source": [
    "### **시각화**"
   ]
  },
  {
   "cell_type": "markdown",
   "id": "6fc333c1",
   "metadata": {},
   "source": [
    "**그래프 출력을 위한 전처리**"
   ]
  },
  {
   "cell_type": "code",
   "execution_count": 26,
   "id": "ca70f23b",
   "metadata": {},
   "outputs": [],
   "source": [
    "df_x_ss = ss.transform(data.iloc[:, :-1]) \n",
    "df_y_ms = ms.transform(data.iloc[:, -1:]) \n",
    "\n",
    "df_x_ss = Variable(torch.Tensor(df_x_ss)) \n",
    "df_y_ms = Variable(torch.Tensor(df_y_ms))\n",
    "df_x_ss = torch.reshape(df_x_ss, (df_x_ss.shape[0], 1, df_x_ss.shape[1]))"
   ]
  },
  {
   "cell_type": "markdown",
   "id": "e8d7d172",
   "metadata": {},
   "source": [
    "**모델 예측 결과, 레이블 출력**"
   ]
  },
  {
   "cell_type": "code",
   "execution_count": 27,
   "id": "efa5569c",
   "metadata": {},
   "outputs": [
    {
     "data": {
      "image/png": "[encoded data removed]",
      "text/plain": [
       "<Figure size 1000x600 with 1 Axes>"
      ]
     },
     "metadata": {},
     "output_type": "display_data"
    }
   ],
   "source": [
    "train_predict = model(df_x_ss)\n",
    "predicted = train_predict.data.numpy() \n",
    "label_y = df_y_ms.data.numpy()\n",
    "\n",
    "predicted = ms.inverse_transform(predicted) \n",
    "label_y = ms.inverse_transform(label_y)\n",
    "plt.figure(figsize=(10,6)) \n",
    "plt.axvline(x=200, c='r', linestyle='--')\n",
    "\n",
    "plt.plot(label_y, label='Actual Data') \n",
    "plt.plot(predicted, label='Predicted Data') \n",
    "plt.title('Time-Series Prediction')\n",
    "plt.legend()\n",
    "plt.show() "
   ]
  },
  {
   "cell_type": "markdown",
   "id": "f14729d1",
   "metadata": {},
   "source": [
    "- 그래프 상으로는 GRU 계층을 사용했을 때가 예측 성능이 더 좋아 보임\n",
    "- 그러나 수치상 예측 정확도는 비슷하였음"
   ]
  }
 ],
 "metadata": {
  "kernelspec": {
   "display_name": "Python 3 (ipykernel)",
   "language": "python",
   "name": "python3"
  },
  "language_info": {
   "codemirror_mode": {
    "name": "ipython",
    "version": 3
   },
   "file_extension": ".py",
   "mimetype": "text/x-python",
   "name": "python",
   "nbconvert_exporter": "python",
   "pygments_lexer": "ipython3",
   "version": "3.7.7"
  }
 },
 "nbformat": 4,
 "nbformat_minor": 5
}

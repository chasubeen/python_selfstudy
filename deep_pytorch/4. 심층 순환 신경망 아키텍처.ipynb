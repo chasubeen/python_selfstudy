{
  "nbformat": 4,
  "nbformat_minor": 0,
  "metadata": {
    "colab": {
      "provenance": [],
      "authorship_tag": "ABX9TyM7x7I3T0wmykZrxFqj7yEB",
      "include_colab_link": true
    },
    "kernelspec": {
      "name": "python3",
      "display_name": "Python 3"
    },
    "language_info": {
      "name": "python"
    }
  },
  "cells": [
    {
      "cell_type": "markdown",
      "metadata": {
        "id": "view-in-github",
        "colab_type": "text"
      },
      "source": [
        "<a href=\"https://colab.research.google.com/github/chasubeen/python_selfstudy/blob/master/deep_pytorch/4.%20%EC%8B%AC%EC%B8%B5%20%EC%88%9C%ED%99%98%20%EC%8B%A0%EA%B2%BD%EB%A7%9D%20%EC%95%84%ED%82%A4%ED%85%8D%EC%B2%98.ipynb\" target=\"_parent\"><img src=\"https://colab.research.google.com/assets/colab-badge.svg\" alt=\"Open In Colab\"/></a>"
      ]
    },
    {
      "cell_type": "markdown",
      "source": [
        "# **감성 분석을 위한 RNN 훈련하기**"
      ],
      "metadata": {
        "id": "Vg6sVWSkRA2d"
      }
    },
    {
      "cell_type": "markdown",
      "source": [
        "## **텍스트 데이터셋 로딩 및 전처리**"
      ],
      "metadata": {
        "id": "RMPhaA7wS1aI"
      }
    },
    {
      "cell_type": "markdown",
      "source": [
        "### **1) Import Libraries**"
      ],
      "metadata": {
        "id": "FZ5gfBZLTCJT"
      }
    },
    {
      "cell_type": "code",
      "source": [
        "import os\n",
        "import time\n",
        "import numpy as np\n",
        "from tqdm import tqdm\n",
        "# 문자열 처리를 위한 라이브러리\n",
        "from string import punctuation\n",
        "from collections import Counter\n",
        "import matplotlib.pyplot as plt\n",
        "\n",
        "import torch\n",
        "import torch.nn as nn\n",
        "import torch.optim as optim\n",
        "from torch.utils.data import DataLoader, TensorDataset\n",
        "\n",
        "device = torch.device('cuda' if torch.cuda.is_available() else 'cpu')\n",
        "\n",
        "torch.manual_seed(123)"
      ],
      "metadata": {
        "colab": {
          "base_uri": "https://localhost:8080/"
        },
        "id": "iWJlO0a5S68h",
        "outputId": "a7a3580a-b095-472d-e0a4-30620c03294b"
      },
      "execution_count": null,
      "outputs": [
        {
          "output_type": "execute_result",
          "data": {
            "text/plain": [
              "<torch._C.Generator at 0x79a9785059f0>"
            ]
          },
          "metadata": {},
          "execution_count": 1
        }
      ]
    },
    {
      "cell_type": "markdown",
      "source": [
        "### **2) 데이터 파일 불러오기**\n",
        "- IMDB 감성 분석 데이터셋을 사용\n",
        "  - 영화 리뷰 텍스트와 그에 해당하는 감성 레이블로 구성됨"
      ],
      "metadata": {
        "id": "D5JP6FZsTFF8"
      }
    },
    {
      "cell_type": "code",
      "source": [
        "from google.colab import drive\n",
        "drive.mount('/content/drive')"
      ],
      "metadata": {
        "colab": {
          "base_uri": "https://localhost:8080/"
        },
        "id": "3tzTbVtYrnFq",
        "outputId": "3059f932-c15f-4042-d833-925d530e091d"
      },
      "execution_count": null,
      "outputs": [
        {
          "output_type": "stream",
          "name": "stdout",
          "text": [
            "Mounted at /content/drive\n"
          ]
        }
      ]
    },
    {
      "cell_type": "code",
      "source": [
        "### 텍스트 파일에서 리뷰 데이터와 감성 레이블 읽어오기\n",
        "\n",
        "review_list = [] # Feature\n",
        "label_list = [] # Target\n",
        "for label in ['pos', 'neg']:\n",
        "  for fname in tqdm(os.listdir(f'/content/drive/MyDrive/딥러닝 공부/실전! 파이토치 딥러닝 프로젝트/data/aclImdb/train/{label}/')):\n",
        "    if 'txt' not in fname:\n",
        "      continue\n",
        "    with open(os.path.join(f'/content/drive/MyDrive/딥러닝 공부/실전! 파이토치 딥러닝 프로젝트/data/aclImdb/train/{label}/', fname), encoding=\"utf8\") as f:\n",
        "      review_list += [f.read()]\n",
        "      label_list += [label]\n",
        "print ('Number of reviews :', len(review_list))"
      ],
      "metadata": {
        "id": "Bv94GGKHToeH",
        "colab": {
          "base_uri": "https://localhost:8080/"
        },
        "outputId": "2f05a0d4-d339-4686-e210-5c590a21964f"
      },
      "execution_count": null,
      "outputs": [
        {
          "output_type": "stream",
          "name": "stderr",
          "text": [
            "100%|██████████| 12500/12500 [06:24<00:00, 32.49it/s] \n",
            "100%|██████████| 12500/12500 [09:48<00:00, 21.22it/s] "
          ]
        },
        {
          "output_type": "stream",
          "name": "stdout",
          "text": [
            "Number of reviews : 25000\n"
          ]
        },
        {
          "output_type": "stream",
          "name": "stderr",
          "text": [
            "\n"
          ]
        }
      ]
    },
    {
      "cell_type": "markdown",
      "source": [
        "### **3) 데이터 로딩**\n",
        "- 텍스트 데이터 전처리\n",
        "  - 먼저 전체 텍스트 말뭉치(corpus)를 소문자로 처리한 다음, 리뷰 텍스트에서 구두점을 모두 제거함\n",
        "  - 그런 다음 전체 리뷰에 나오는 단어를 모두 모아 단어 등장 횟수를 계산하고 가장 많이 사용되는 단어를 확인하기 위해 단어 등장 횟수 기준으로 내림차순 정렬함\n"
      ],
      "metadata": {
        "id": "vBWGLwGl0nRa"
      }
    },
    {
      "cell_type": "code",
      "source": [
        "# 리뷰 텍스트 전처리\n",
        "review_list = [review.lower() for review in review_list]\n",
        "review_list = [''.join([letter for letter in review if letter not in punctuation]) for review in tqdm(review_list)]\n",
        "\n",
        "# 전체 리뷰 텍스트 축적\n",
        "reviews_blob = ' '.join(review_list)\n",
        "\n",
        "# 전체 리뷰에서 나오는 모든 단어를 리스트로 생성\n",
        "review_words = reviews_blob.split()\n",
        "\n",
        "# 단어 등장 횟수 가져오기\n",
        "count_words = Counter(review_words)\n",
        "\n",
        "# 등장 횟수로 단어 정렬(내림차순)\n",
        "total_review_words = len(review_words)\n",
        "sorted_review_words = count_words.most_common(total_review_words)\n",
        "\n",
        "print(sorted_review_words[:10])"
      ],
      "metadata": {
        "colab": {
          "base_uri": "https://localhost:8080/"
        },
        "id": "N5iBMjT35Bbr",
        "outputId": "8930e549-9a3d-4d5e-e86a-85f4f8a00a61"
      },
      "execution_count": null,
      "outputs": [
        {
          "output_type": "stream",
          "name": "stderr",
          "text": [
            "100%|██████████| 25000/25000 [00:01<00:00, 18041.40it/s]\n"
          ]
        },
        {
          "output_type": "stream",
          "name": "stdout",
          "text": [
            "[('the', 334691), ('and', 162228), ('a', 161940), ('of', 145326), ('to', 135042), ('is', 106855), ('in', 93028), ('it', 77099), ('i', 75719), ('this', 75190)]\n"
          ]
        }
      ]
    },
    {
      "cell_type": "markdown",
      "source": [
        "- 가장 많이 등장하는 단어는 명사가 아닌 한정사, 대명사 같은 것들임\n",
        "- 일반적으로 명사가 아닌 단어(불용어)는 많은 의미를 전달하지 않으므로 말뭉치에서 제거됨\n",
        "  - 현재는 일단 제거하지 않고 넘어감"
      ],
      "metadata": {
        "id": "lW2zEgn85_ME"
      }
    },
    {
      "cell_type": "markdown",
      "source": [
        "### **4) 인코딩**\n",
        "- 머신러닝 모델은 단어가 아니라 숫자만 이해함\n",
        "  - 개별 단어를 숫자 또는 토큰으로 변환하는 작업이 필요\n",
        "  "
      ],
      "metadata": {
        "id": "d7ahYQoi6C01"
      }
    },
    {
      "cell_type": "markdown",
      "source": [
        "**사전 구축**  \n",
        "단어-정수 매핑 얻기"
      ],
      "metadata": {
        "id": "qAWrYQA77m6D"
      }
    },
    {
      "cell_type": "code",
      "source": [
        "# 텍스트를 숫자로 인코딩하기 위해 단러-정수(토큰) 딕셔너리를 생성\n",
        "\n",
        "vocab_to_token = {word:idx + 1 for idx, (word, count) in enumerate(sorted_review_words)}\n",
        "print(list(vocab_to_token.items())[:10])"
      ],
      "metadata": {
        "colab": {
          "base_uri": "https://localhost:8080/"
        },
        "id": "O-qyk4Ic5q9a",
        "outputId": "79e8a3f8-6b84-4fe2-c2fb-321eb92036ca"
      },
      "execution_count": null,
      "outputs": [
        {
          "output_type": "stream",
          "name": "stdout",
          "text": [
            "[('the', 1), ('and', 2), ('a', 3), ('of', 4), ('to', 5), ('is', 6), ('in', 7), ('it', 8), ('i', 9), ('this', 10)]\n"
          ]
        }
      ]
    },
    {
      "cell_type": "markdown",
      "source": [
        "- 가장 많이 등장하는 단어에 1을 시작으로 순서대로 단어에 숫자가 할당됨"
      ],
      "metadata": {
        "id": "9WZvkMjm63PQ"
      }
    },
    {
      "cell_type": "markdown",
      "source": [
        "**리뷰 -> 숫자**  \n",
        "위에서 구축한 사전을 사용해 숫자 리스트로 변환"
      ],
      "metadata": {
        "id": "-k0xvGR_7gjW"
      }
    },
    {
      "cell_type": "code",
      "source": [
        "reviews_tokenized = []\n",
        "\n",
        "for review in review_list:\n",
        "  word_to_token = [vocab_to_token[word] for word in review.split()]\n",
        "  reviews_tokenized.append(word_to_token)\n",
        "\n",
        "print(review_list[0])\n",
        "print()\n",
        "print(reviews_tokenized[0])"
      ],
      "metadata": {
        "id": "oRd1PKzd8HKM"
      },
      "execution_count": null,
      "outputs": []
    },
    {
      "cell_type": "markdown",
      "source": [
        "**긍정/부정**  \n",
        "감성 분류값을 숫자로 인코딩하는 과정이 필요"
      ],
      "metadata": {
        "id": "ocQXlZ5U8RDW"
      }
    },
    {
      "cell_type": "code",
      "source": [
        "# 감성을 0 또는 1로 인코딩\n",
        "encoded_label_list = [1 if label =='pos' else 0 for label in label_list]\n",
        "\n",
        "reviews_len = [len(review) for review in reviews_tokenized]\n",
        "\n",
        "reviews_tokenized = [reviews_tokenized[i] for i, l in enumerate(reviews_len) if l > 0 ]\n",
        "encoded_label_list = np.array([encoded_label_list[i] for i, l in enumerate(reviews_len) if l> 0 ], dtype='float32')"
      ],
      "metadata": {
        "id": "tVuAtiI58q5y"
      },
      "execution_count": null,
      "outputs": []
    },
    {
      "cell_type": "markdown",
      "source": [
        "### **5) 정규화**\n",
        "- 리뷰가 다양하므로 길이 또한 다양할 수 있음\n",
        "  - 그러나 모델은 고정된 길이가 입력되기를 기대함\n",
        "- 다양한 길이의 리뷰를 정규화 해 모두 같은 길이를 갖도록 만들어줌\n",
        "  - 시퀀스 길이 L(여기서는 512)을 정의한 다음 L보다 길이가 짧은 시퀀스에는 패딩을 가하고 L보다 긴 시퀀스는 잘라냄"
      ],
      "metadata": {
        "id": "3IL3wLCA9Bjk"
      }
    },
    {
      "cell_type": "code",
      "source": [
        "def pad_sequence(reviews_tokenized, sequence_length):\n",
        "  ''' 0으로 패딩되거나 sequence_length에 맞춰 잘린, 토큰화된 리뷰 시퀀스를 반환\n",
        "  '''\n",
        "  padded_reviews = np.zeros((len(reviews_tokenized), sequence_length), dtype = int)\n",
        "\n",
        "  for idx, review in enumerate(reviews_tokenized):\n",
        "    review_len = len(review)\n",
        "\n",
        "    if review_len <= sequence_length:\n",
        "      zeroes = list(np.zeros(sequence_length - review_len))\n",
        "      new_sequence = zeroes+review\n",
        "    elif review_len > sequence_length:\n",
        "      new_sequence = review[0:sequence_length]\n",
        "\n",
        "    padded_reviews[idx,:] = np.array(new_sequence)\n",
        "\n",
        "  return padded_reviews"
      ],
      "metadata": {
        "id": "jnsbY5UO-LS0"
      },
      "execution_count": null,
      "outputs": []
    },
    {
      "cell_type": "code",
      "source": [
        "sequence_length = 512 # 고정된 길이\n",
        "padded_reviews = pad_sequence(reviews_tokenized=reviews_tokenized, sequence_length=sequence_length)\n",
        "\n",
        "plt.hist(reviews_len);"
      ],
      "metadata": {
        "colab": {
          "base_uri": "https://localhost:8080/",
          "height": 430
        },
        "id": "SPxsonkh-Z95",
        "outputId": "866b3e46-9d0f-435f-929a-806f48bc115b"
      },
      "execution_count": null,
      "outputs": [
        {
          "output_type": "display_data",
          "data": {
            "text/plain": [
              "<Figure size 640x480 with 1 Axes>"
            ],
            "image/png": "[encoded data removed]"
          },
          "metadata": {}
        }
      ]
    },
    {
      "cell_type": "markdown",
      "source": [
        "- 대부분의 리뷰는 500 단어보다 짧은 것을 확인할 수 있음\n",
        "- 모델에 사용할 시퀀스 길이로 512를 선택하고 정확히 512 단어 길이가 아닌 시퀀스를 그에 맞춰 수정"
      ],
      "metadata": {
        "id": "acDNIALW-68I"
      }
    },
    {
      "cell_type": "markdown",
      "source": [
        "## **모델 훈련**"
      ],
      "metadata": {
        "id": "hCJvlr5P-4LZ"
      }
    },
    {
      "cell_type": "markdown",
      "source": [
        "### **1) 데이터셋 분리**"
      ],
      "metadata": {
        "id": "jCQ1GXmw_luQ"
      }
    },
    {
      "cell_type": "code",
      "source": [
        "train_val_split = 0.75\n",
        "\n",
        "# 훈련 데이터셋과 검증 데이터셋으로 분리\n",
        "train_X = padded_reviews[:int(train_val_split*len(padded_reviews))]\n",
        "train_y = encoded_label_list[:int(train_val_split*len(padded_reviews))]\n",
        "\n",
        "validation_X = padded_reviews[int(train_val_split*len(padded_reviews)):]\n",
        "validation_y = encoded_label_list[int(train_val_split*len(padded_reviews)):]"
      ],
      "metadata": {
        "id": "_U6MZGN0_HAf"
      },
      "execution_count": null,
      "outputs": []
    },
    {
      "cell_type": "markdown",
      "source": [
        "### **2) Dataset, DataLoader 정의**"
      ],
      "metadata": {
        "id": "YDYHcHzk_f9y"
      }
    },
    {
      "cell_type": "code",
      "source": [
        "# torch 데이터셋 생성\n",
        "train_dataset = TensorDataset(torch.from_numpy(train_X).to(device), torch.from_numpy(train_y).to(device))\n",
        "validation_dataset = TensorDataset(torch.from_numpy(validation_X).to(device), torch.from_numpy(validation_y).to(device))\n",
        "\n",
        "batch_size = 32\n",
        "\n",
        "# 토치 데이터로더(데이터 shuffle)\n",
        "train_dataloader = DataLoader(train_dataset, batch_size = batch_size, shuffle = True)\n",
        "validation_dataloader = DataLoader(validation_dataset, batch_size = batch_size, shuffle = True)"
      ],
      "metadata": {
        "id": "QKVNd-7U_qM2"
      },
      "execution_count": null,
      "outputs": []
    },
    {
      "cell_type": "markdown",
      "source": [
        "### **3) 데이터 시각화**\n",
        "- 데이터 구성을 확인하기 위해 32개 리뷰와 그에 해당하는 감성 레이블을 하나의 배치로 하여 시각화"
      ],
      "metadata": {
        "id": "zPeEJx7hAk5j"
      }
    },
    {
      "cell_type": "code",
      "source": [
        "# 훈련 데이터 배치 가져오기\n",
        "train_data_iter = iter(train_dataloader)\n",
        "X_example, y_example = next(train_data_iter)\n",
        "print('Example Input size: ', X_example.size()) # batch_size, seq_length\n",
        "print('Example Input:\\n', X_example)\n",
        "print()\n",
        "print('Example Output size: ', y_example.size()) # batch_size\n",
        "print('Example Output:\\n', y_example)"
      ],
      "metadata": {
        "colab": {
          "base_uri": "https://localhost:8080/"
        },
        "id": "08WpRHHkAvoP",
        "outputId": "64b10bb0-0aac-41a5-a8ed-31ffba537986"
      },
      "execution_count": null,
      "outputs": [
        {
          "output_type": "stream",
          "name": "stdout",
          "text": [
            "Example Input size:  torch.Size([32, 512])\n",
            "Example Input:\n",
            " tensor([[    0,     0,     0,  ...,    27,     3,   861],\n",
            "        [    0,     0,     0,  ...,    72,  6945,   309],\n",
            "        [    0,     0,     0,  ...,    23,    37,  4482],\n",
            "        ...,\n",
            "        [    0,     0,     0,  ...,   235,    35,  8111],\n",
            "        [    0,     0,     0,  ...,     8,     6,  4982],\n",
            "        [    0,     0,     0,  ..., 16680,   147,   597]])\n",
            "\n",
            "Example Output size:  torch.Size([32])\n",
            "Example Output:\n",
            " tensor([0., 1., 1., 0., 1., 0., 0., 1., 1., 1., 1., 1., 0., 1., 1., 1., 0., 0.,\n",
            "        0., 1., 1., 1., 1., 0., 1., 1., 1., 0., 1., 1., 1., 1.])\n"
          ]
        }
      ]
    },
    {
      "cell_type": "markdown",
      "source": [
        "## **모델 인스턴스화 및 훈련**"
      ],
      "metadata": {
        "id": "fmErGE51EVFn"
      }
    },
    {
      "cell_type": "markdown",
      "source": [
        "### **1) 래퍼 RNN 클래스 정의**\n",
        "- 임베딩 계층으로 시작해 RNN 계층, 마지막으로 완전 연결 계층으로 이어지는 전체 RNN 모델을 인스턴스화\n",
        "- 임베딩 계층의 기능\n",
        "  - 단어 임베딩을 저장하고(룩업 테이블 형태로) 인덱스를 사용해 가져오는 것\n",
        "  > `nn.Embedding` 모듈에서 제공됨"
      ],
      "metadata": {
        "id": "09f3x3_JEZB8"
      }
    },
    {
      "cell_type": "code",
      "source": [
        "class RNN(nn.Module):\n",
        "  def __init__(self, input_dimension, embedding_dimension, hidden_dimension, output_dimension):\n",
        "    super().__init__()\n",
        "    self.embedding_layer = nn.Embedding(input_dimension, embedding_dimension)\n",
        "    self.rnn_layer = nn.RNN(embedding_dimension, hidden_dimension, num_layers = 1)\n",
        "    self.fc_layer = nn.Linear(hidden_dimension, output_dimension)\n",
        "\n",
        "  def forward(self, sequence):\n",
        "    # sequence shape = (sequence_length, batch_size)\n",
        "    embedding = self.embedding_layer(sequence)\n",
        "\n",
        "    # embedding shape = [sequence_length, batch_size, embedding_dimension]\n",
        "    output, hidden_state = self.rnn_layer(embedding)\n",
        "\n",
        "    # output shape = [sequence_length, batch_size, hidden_dimension]\n",
        "    # hidden_state shape = [1, batch_size, hidden_dimension]\n",
        "    final_output = self.fc_layer(hidden_state[-1,:,:].squeeze(0))\n",
        "\n",
        "    return final_output"
      ],
      "metadata": {
        "id": "GCjYn4ZkE043"
      },
      "execution_count": null,
      "outputs": []
    },
    {
      "cell_type": "markdown",
      "source": [
        "### **2) RNN 모델 인스턴스화**"
      ],
      "metadata": {
        "id": "7-EUOVaxFlit"
      }
    },
    {
      "cell_type": "code",
      "source": [
        "input_dimension = len(vocab_to_token) + 1 # +1 to account for padding\n",
        "embedding_dimension = 100\n",
        "hidden_dimension = 32\n",
        "output_dimension = 1\n",
        "\n",
        "rnn_model = RNN(input_dimension, embedding_dimension, hidden_dimension, output_dimension)\n",
        "\n",
        "optim = torch.optim.Adam(rnn_model.parameters()) # 시그모이드 함수에 대해 수치적으로 안정적인 계산을 제공\n",
        "loss_func = nn.BCEWithLogitsLoss() # 이진 분류 문제에 필수적인 손실 함수\n",
        "\n",
        "rnn_model = rnn_model.to(device)\n",
        "loss_func = loss_func.to(device)"
      ],
      "metadata": {
        "id": "UUg5U3WhEfJ8"
      },
      "execution_count": null,
      "outputs": []
    },
    {
      "cell_type": "markdown",
      "source": [
        "### **3) 평가 지표 정의**\n",
        "- 훈련된 모델의 성능을 검증 셋에서 측정하기 위한 지표로 정확도를 정의"
      ],
      "metadata": {
        "id": "zNE8eCkAGCAx"
      }
    },
    {
      "cell_type": "code",
      "source": [
        "def accuracy_metric(predictions, ground_truth):\n",
        "  \"\"\"\n",
        "  예측과 실젯값의 집합이 주어졌을 때 정확도를 0 또는 1로 반환\n",
        "  \"\"\"\n",
        "\n",
        "  # 예측을 0 또는 1로 반올림\n",
        "  rounded_predictions = torch.round(torch.sigmoid(predictions))\n",
        "\n",
        "  success = (rounded_predictions == ground_truth).float() # 나눗셈을 위해 부동소수점으로 변환\n",
        "  accuracy = success.sum() / len(success)\n",
        "\n",
        "  return accuracy"
      ],
      "metadata": {
        "id": "a6GgZtJRGiz4"
      },
      "execution_count": null,
      "outputs": []
    },
    {
      "cell_type": "markdown",
      "source": [
        "### **4) 훈련/검증 루틴 정의**"
      ],
      "metadata": {
        "id": "-9CPMnrqG_2c"
      }
    },
    {
      "cell_type": "code",
      "source": [
        "def train(model, dataloader, optim, loss_func):\n",
        "  loss = 0\n",
        "  accuracy = 0\n",
        "  model.train()\n",
        "\n",
        "  for sequence, sentiment in dataloader:\n",
        "    optim.zero_grad()\n",
        "    preds = model(sequence.T).squeeze()\n",
        "\n",
        "    loss_curr = loss_func(preds, sentiment)\n",
        "    accuracy_curr = accuracy_metric(preds, sentiment)\n",
        "\n",
        "    loss_curr.backward()\n",
        "    optim.step()\n",
        "\n",
        "    loss += loss_curr.item()\n",
        "    accuracy += accuracy_curr.item()\n",
        "\n",
        "  return loss/len(dataloader), accuracy/len(dataloader)"
      ],
      "metadata": {
        "id": "rY1oBt3NHFVi"
      },
      "execution_count": null,
      "outputs": []
    },
    {
      "cell_type": "code",
      "source": [
        "def validate(model, dataloader, loss_func):\n",
        "  loss = 0\n",
        "  accuracy = 0\n",
        "  model.eval()\n",
        "\n",
        "  with torch.no_grad():\n",
        "    for sequence, sentiment in dataloader:\n",
        "\n",
        "      preds = model(sequence.T).squeeze()\n",
        "\n",
        "      loss_curr = loss_func(preds, sentiment)\n",
        "      accuracy_curr = accuracy_metric(preds, sentiment)\n",
        "\n",
        "      loss += loss_curr.item()\n",
        "      accuracy += accuracy_curr.item()\n",
        "\n",
        "  return loss/len(dataloader), accuracy/len(dataloader)"
      ],
      "metadata": {
        "id": "G2FkYbafHYNb"
      },
      "execution_count": null,
      "outputs": []
    },
    {
      "cell_type": "markdown",
      "source": [
        "### **5) Run!!**"
      ],
      "metadata": {
        "id": "lju4j0EnHuwX"
      }
    },
    {
      "cell_type": "code",
      "source": [
        "num_epochs = 10\n",
        "best_validation_loss = float('inf')\n",
        "\n",
        "for ep in range(num_epochs):\n",
        "\n",
        "  time_start = time.time()\n",
        "\n",
        "  training_loss, train_accuracy = train(rnn_model, train_dataloader, optim, loss_func)\n",
        "  validation_loss, validation_accuracy = validate(rnn_model, validation_dataloader, loss_func)\n",
        "\n",
        "  time_end = time.time()\n",
        "  time_delta = time_end - time_start\n",
        "\n",
        "  if validation_loss < best_validation_loss:\n",
        "    best_validation_loss = validation_loss\n",
        "    torch.save(rnn_model.state_dict(), '/content/drive/MyDrive/딥러닝 공부/실전! 파이토치 딥러닝 프로젝트/model/rnn_model.pt')\n",
        "\n",
        "  print(f'epoch number: {ep+1} | time elapsed: {time_delta}s')\n",
        "  print(f'training loss: {training_loss:.3f} | training accuracy: {train_accuracy*100:.2f}%')\n",
        "  print(f'validation loss: {validation_loss:.3f} |  validation accuracy: {validation_accuracy*100:.2f}%')\n",
        "  print()"
      ],
      "metadata": {
        "colab": {
          "base_uri": "https://localhost:8080/"
        },
        "id": "R9tZ4aMbHxZ3",
        "outputId": "fec72b21-22ec-45ea-b520-59378e96a6d4"
      },
      "execution_count": null,
      "outputs": [
        {
          "output_type": "stream",
          "name": "stdout",
          "text": [
            "epoch number: 1 | time elapsed: 114.01887130737305s\n",
            "training loss: 0.618 | training accuracy: 67.01%\n",
            "validation loss: 1.030 |  validation accuracy: 26.49%\n",
            "\n",
            "epoch number: 2 | time elapsed: 115.90502738952637s\n",
            "training loss: 0.541 | training accuracy: 73.50%\n",
            "validation loss: 0.812 |  validation accuracy: 57.24%\n",
            "\n",
            "epoch number: 3 | time elapsed: 112.71386194229126s\n",
            "training loss: 0.460 | training accuracy: 79.21%\n",
            "validation loss: 0.867 |  validation accuracy: 53.63%\n",
            "\n",
            "epoch number: 4 | time elapsed: 109.81068730354309s\n",
            "training loss: 0.387 | training accuracy: 83.39%\n",
            "validation loss: 0.931 |  validation accuracy: 57.20%\n",
            "\n",
            "epoch number: 5 | time elapsed: 110.89599919319153s\n",
            "training loss: 0.315 | training accuracy: 87.27%\n",
            "validation loss: 0.966 |  validation accuracy: 57.97%\n",
            "\n",
            "epoch number: 6 | time elapsed: 110.48675274848938s\n",
            "training loss: 0.268 | training accuracy: 89.50%\n",
            "validation loss: 1.003 |  validation accuracy: 60.75%\n",
            "\n",
            "epoch number: 7 | time elapsed: 110.22961235046387s\n",
            "training loss: 0.223 | training accuracy: 91.57%\n",
            "validation loss: 1.018 |  validation accuracy: 61.21%\n",
            "\n",
            "epoch number: 8 | time elapsed: 111.06631779670715s\n",
            "training loss: 0.209 | training accuracy: 91.99%\n",
            "validation loss: 0.989 |  validation accuracy: 64.44%\n",
            "\n",
            "epoch number: 9 | time elapsed: 110.59821963310242s\n",
            "training loss: 0.191 | training accuracy: 92.89%\n",
            "validation loss: 1.116 |  validation accuracy: 56.14%\n",
            "\n",
            "epoch number: 10 | time elapsed: 111.37878322601318s\n",
            "training loss: 0.178 | training accuracy: 93.71%\n",
            "validation loss: 1.084 |  validation accuracy: 63.61%\n",
            "\n"
          ]
        }
      ]
    },
    {
      "cell_type": "markdown",
      "source": [
        "- 해당 모델은 과적합되어 훈련셋에서 특히 학습이 잘되는 것으로 보임\n",
        "  - 시간 차원에서 512 계층이나 가짐\n",
        "- 검증 셋에서의 모델 성능은 낮은 값에서 시작해 변동을 거듭하며 높아짐"
      ],
      "metadata": {
        "id": "_AM3M6DTM6lU"
      }
    },
    {
      "cell_type": "markdown",
      "source": [
        "### **6) 추론**\n",
        "- 훈련된 모델에서 실시간 추론을 만드는 헬퍼 함수를 정의하자."
      ],
      "metadata": {
        "id": "kLQCcjemNLgc"
      }
    },
    {
      "cell_type": "code",
      "source": [
        "def sentiment_inference(model, sentence):\n",
        "  model.eval()\n",
        "\n",
        "  # 텍스트 변환\n",
        "  sentence = sentence.lower()\n",
        "  sentence = ''.join([c for c in sentence if c not in punctuation])\n",
        "  tokenized = [vocab_to_token.get(token, 0) for token in sentence.split()]\n",
        "  tokenized = np.pad(tokenized, (512 - len(tokenized), 0), 'constant')\n",
        "\n",
        "  # 모델 추론\n",
        "  model_input = torch.LongTensor(tokenized).to(device)\n",
        "  model_input = model_input.unsqueeze(1)\n",
        "  pred = torch.sigmoid(model(model_input))\n",
        "\n",
        "  return pred.item()"
      ],
      "metadata": {
        "id": "5eRJr5MhNRo1"
      },
      "execution_count": null,
      "outputs": []
    },
    {
      "cell_type": "markdown",
      "source": [
        "### **7) 성능 테스트**\n",
        "- 수작업으로 입력된 리뷰 텍스트를 가지고 해당 모델의 성능을 테스트 해보자."
      ],
      "metadata": {
        "id": "Uy9dRhQpNljG"
      }
    },
    {
      "cell_type": "code",
      "source": [
        "print(sentiment_inference(rnn_model, \"This film is horrible\"))\n",
        "print(sentiment_inference(rnn_model, \"Director tried too hard but this film is bad\"))\n",
        "print(sentiment_inference(rnn_model, \"Decent movie, although could be shorter\"))\n",
        "print(sentiment_inference(rnn_model, \"This film will be houseful for weeks\"))\n",
        "print(sentiment_inference(rnn_model, \"I loved the movie, every part of it\"))"
      ],
      "metadata": {
        "colab": {
          "base_uri": "https://localhost:8080/"
        },
        "id": "IFhdxPikNqsl",
        "outputId": "dc2fc62c-268c-43fb-dcd2-b977807b494e"
      },
      "execution_count": null,
      "outputs": [
        {
          "output_type": "stream",
          "name": "stdout",
          "text": [
            "0.13285593688488007\n",
            "0.7610068321228027\n",
            "0.9503389596939087\n",
            "0.9979846477508545\n",
            "0.9543998837471008\n"
          ]
        }
      ]
    },
    {
      "cell_type": "markdown",
      "source": [
        "- 모델은 긍정과 부정 의견 중 하나를 선택함\n",
        "- 512 단어보다 훨씬 짧은 경우에도 다양한 길이의 시퀀스를 처리할 수 있음"
      ],
      "metadata": {
        "id": "FwcP9O4mN15w"
      }
    },
    {
      "cell_type": "markdown",
      "source": [
        "# **양방향 LSTM 만들기**\n",
        "- LSTM은 시간 단계상 몇 단계 전이라도 중요한 정보는 보존하고 최근 정보라도 관련 없는 정보는 망각하는 데 도움이 되는 메모리 셀 게이트가 존재\n",
        "  - 더 긴 시퀀스를 잘 처리할 수 있게 됨\n",
        "> 비교적 긴 텍스트를 처리할 때 LSTM의 성능이 더 좋음\n",
        "\n",
        "- 모델이 영화 리뷰의 감성에 대해 좀 더 정보에 입각한 결정을 내릴 수 있도록 원할 때 context window를 확장할 수 있도록 양방향 모델을 활용"
      ],
      "metadata": {
        "id": "hMCWxYv2NN4L"
      }
    },
    {
      "cell_type": "markdown",
      "source": [
        "## **텍스트 데이터셋 로딩과 전처리**\n",
        "- 파이토치의 `torchtext` 모듈을 활용\n",
        "  - torchtext.dataset 내의 IMDB 데이터셋을 로딩해 사용\n",
        "  - 단어를 토큰화하고 사전을 생성하기 위해 `torchtext.dataset`을 활용\n",
        "  - 시퀀스에 패딩을 수작업으로 하지 않고 `nn.LSTM` 모듈을 사용해 바로 패딩을 진행"
      ],
      "metadata": {
        "id": "787QqGzzOLOw"
      }
    },
    {
      "cell_type": "markdown",
      "source": [
        "### **준비사항**"
      ],
      "metadata": {
        "id": "FnHoyLCESwr_"
      }
    },
    {
      "cell_type": "markdown",
      "source": [
        "### **a) Import Libraries**"
      ],
      "metadata": {
        "id": "4YPyjyFcNPw8"
      }
    },
    {
      "cell_type": "code",
      "source": [
        "import os\n",
        "import time\n",
        "import numpy as np\n",
        "from tqdm import tqdm\n",
        "from string import punctuation\n",
        "from collections import Counter\n",
        "import matplotlib.pyplot as plt\n",
        "\n",
        "import torch\n",
        "import torch.nn as nn\n",
        "import torch.optim as optim\n",
        "from torch.utils.data import DataLoader, TensorDataset"
      ],
      "metadata": {
        "id": "GhNjLRUXOhQ6"
      },
      "execution_count": 1,
      "outputs": []
    },
    {
      "cell_type": "code",
      "source": [
        "device = torch.device('cuda' if torch.cuda.is_available() else 'cpu')\n",
        "\n",
        "torch.manual_seed(123)"
      ],
      "metadata": {
        "colab": {
          "base_uri": "https://localhost:8080/"
        },
        "id": "zMmESPHiQPzw",
        "outputId": "a9b89482-c38a-4e41-a448-51c65de82d56"
      },
      "execution_count": 2,
      "outputs": [
        {
          "output_type": "execute_result",
          "data": {
            "text/plain": [
              "<torch._C.Generator at 0x7c3ec68a7770>"
            ]
          },
          "metadata": {},
          "execution_count": 2
        }
      ]
    },
    {
      "cell_type": "markdown",
      "source": [
        "### **b) 데이터셋 준비**"
      ],
      "metadata": {
        "id": "_1oZkmDpQS_3"
      }
    },
    {
      "cell_type": "code",
      "source": [
        "import random\n",
        "from torchtext import (data, datasets)"
      ],
      "metadata": {
        "id": "TLVsgdT3Qcqr"
      },
      "execution_count": 5,
      "outputs": []
    },
    {
      "cell_type": "code",
      "source": [
        "TEXT_FIELD = data.Field(tokenize = data.get_tokenizer(\"basic_english\"), include_lengths = True)\n",
        "LABEL_FIELD = data.LabelField(dtype = torch.float)\n",
        "\n",
        "train_dataset, test_dataset = datasets.IMDB.splits(TEXT_FIELD, LABEL_FIELD)\n",
        "train_dataset, valid_dataset = train_dataset.split(random_state = random.seed(123))"
      ],
      "metadata": {
        "colab": {
          "base_uri": "https://localhost:8080/"
        },
        "id": "_7Sq6zbCRXDY",
        "outputId": "8d42e2ea-bf1b-426d-c0bc-f31c7f5b6e2b"
      },
      "execution_count": 6,
      "outputs": [
        {
          "output_type": "stream",
          "name": "stderr",
          "text": [
            "\raclImdb_v1.tar.gz:   0%|                                               | 0.00/84.1M [00:00<?, ?B/s]"
          ]
        },
        {
          "output_type": "stream",
          "name": "stdout",
          "text": [
            "downloading aclImdb_v1.tar.gz\n"
          ]
        },
        {
          "output_type": "stream",
          "name": "stderr",
          "text": [
            "aclImdb_v1.tar.gz: 100%|██████████████████████████████████████| 84.1M/84.1M [00:03<00:00, 27.7MB/s]\n"
          ]
        }
      ]
    },
    {
      "cell_type": "markdown",
      "source": [
        "### **c) 리뷰 데이터셋과 감성 레이블에 대한 사전 구성**\n",
        "- `torchtext.data.Field`와 `torchtext.data.LabelField`의 `build_vocab()` 메서드를 사용해 영화 리뷰 텍스트 데이터셋과 감성 레이블에 대한 사전 구성"
      ],
      "metadata": {
        "id": "1CWVIb46U689"
      }
    },
    {
      "cell_type": "code",
      "source": [
        "MAX_VOCABULARY_SIZE = 25000\n",
        "\n",
        "TEXT_FIELD.build_vocab(train_dataset,\n",
        "                 max_size = MAX_VOCABULARY_SIZE)\n",
        "\n",
        "LABEL_FIELD.build_vocab(train_dataset)"
      ],
      "metadata": {
        "id": "XZnf4KSYVlI4"
      },
      "execution_count": 7,
      "outputs": []
    },
    {
      "cell_type": "markdown",
      "source": [
        "## **LSTM 모델 인스턴스화 및 훈련**\n",
        "- LSTM 모델 객체를 인스턴스화\n",
        "- 옵티마이저, 손실 함수, 모델 훈련 성능 지표 정의\n",
        "- 정의된 모델 훈련/검증 루틴을 사용해 모델 훈련 루프 실행"
      ],
      "metadata": {
        "id": "wtCYcQRkVukB"
      }
    },
    {
      "cell_type": "markdown",
      "source": [
        "### **기본 설정**"
      ],
      "metadata": {
        "id": "pkuBzhDMXIUI"
      }
    },
    {
      "cell_type": "code",
      "source": [
        "B_SIZE = 64 # batch size\n",
        "\n",
        "device = torch.device('cuda' if torch.cuda.is_available() else 'cpu') # 장치\n",
        "\n",
        "train_data_iterator, valid_data_iterator, test_data_iterator = data.BucketIterator.splits(\n",
        "    (train_dataset, valid_dataset, test_dataset),\n",
        "    batch_size = B_SIZE,\n",
        "    sort_within_batch = True,\n",
        "    device = device)"
      ],
      "metadata": {
        "id": "vOmhsw0fXKGi"
      },
      "execution_count": 8,
      "outputs": []
    },
    {
      "cell_type": "code",
      "source": [
        "### GPU를 위한 환경 설정\n",
        "## If you are training using GPUs, we need to use the following function for the pack_padded_sequence method to work\n",
        "## (reference : https://discuss.pytorch.org/t/error-with-lengths-in-pack-padded-sequence/35517/3)\n",
        "\n",
        "if torch.cuda.is_available():\n",
        "  torch.set_default_tensor_type(torch.cuda.FloatTensor)"
      ],
      "metadata": {
        "id": "YuI1IguYXYeJ"
      },
      "execution_count": 9,
      "outputs": []
    },
    {
      "cell_type": "code",
      "source": [
        "from torch.nn.utils.rnn import pack_padded_sequence, PackedSequence\n",
        "\n",
        "def cuda_pack_padded_sequence(input, lengths, batch_first = False, enforce_sorted = True):\n",
        "  lengths = torch.as_tensor(lengths, dtype = torch.int64)\n",
        "  lengths = lengths.cpu()\n",
        "\n",
        "  if enforce_sorted:\n",
        "    sorted_indices = None\n",
        "\n",
        "  else:\n",
        "      lengths, sorted_indices = torch.sort(lengths, descending = True)\n",
        "      sorted_indices = sorted_indices.to(input.device)\n",
        "      batch_dim = 0 if batch_first else 1\n",
        "      input = input.index_select(batch_dim, sorted_indices)\n",
        "\n",
        "  data, batch_sizes = torch._C._VariableFunctions._pack_padded_sequence(input, lengths, batch_first)\n",
        "\n",
        "  return PackedSequence(data, batch_sizes, sorted_indices)"
      ],
      "metadata": {
        "id": "9dMD_tWLXoMS"
      },
      "execution_count": 10,
      "outputs": []
    },
    {
      "cell_type": "markdown",
      "source": [
        "### **a) 모델 인스턴스화**"
      ],
      "metadata": {
        "id": "lUK0FDepWCkH"
      }
    },
    {
      "cell_type": "code",
      "source": [
        "### LSTM 클래스 정의\n",
        "\n",
        "class LSTM(nn.Module):\n",
        "  def __init__(self, vocabulary_size, embedding_dimension, hidden_dimension, output_dimension, dropout, pad_index):\n",
        "    super().__init__()\n",
        "    self.embedding_layer = nn.Embedding(vocabulary_size, embedding_dimension, padding_idx = pad_index)\n",
        "    self.lstm_layer = nn.LSTM(embedding_dimension,\n",
        "                              hidden_dimension,\n",
        "                              num_layers = 1,\n",
        "                              bidirectional = True,\n",
        "                              dropout = dropout)\n",
        "    self.fc_layer = nn.Linear(hidden_dimension * 2, output_dimension)\n",
        "    self.dropout_layer = nn.Dropout(dropout)\n",
        "\n",
        "  def forward(self, sequence, sequence_lengths = None):\n",
        "    if sequence_lengths is None:\n",
        "      sequence_lengths = torch.LongTensor([len(sequence)])\n",
        "\n",
        "    # sequence := (sequence_length, batch_size)\n",
        "    embedded_output = self.dropout_layer(self.embedding_layer(sequence))\n",
        "\n",
        "    # embedded_output := (sequence_length, batch_size, embedding_dimension)\n",
        "    if torch.cuda.is_available():\n",
        "      packed_embedded_output = cuda_pack_padded_sequence(embedded_output, sequence_lengths)\n",
        "    else:\n",
        "      packed_embedded_output = nn.utils.rnn.pack_padded_sequence(embedded_output, sequence_lengths)\n",
        "\n",
        "    packed_output, (hidden_state, cell_state) = self.lstm_layer(packed_embedded_output)\n",
        "    # hidden_state := (num_layers * num_directions, batch_size, hidden_dimension)\n",
        "    # cell_state := (num_layers * num_directions, batch_size, hidden_dimension)\n",
        "\n",
        "    op, op_lengths = nn.utils.rnn.pad_packed_sequence(packed_output)\n",
        "    # op := (sequence_length, batch_size, hidden_dimension * num_directions)\n",
        "\n",
        "    hidden_output = torch.cat((hidden_state[-2,:,:], hidden_state[-1,:,:]), dim = 1)\n",
        "    # hidden_output := (batch_size, hidden_dimension * num_directions)\n",
        "\n",
        "    return self.fc_layer(hidden_output)"
      ],
      "metadata": {
        "id": "kwO0IddhWyaZ"
      },
      "execution_count": 11,
      "outputs": []
    },
    {
      "cell_type": "code",
      "source": [
        "INPUT_DIMENSION = len(TEXT_FIELD.vocab)\n",
        "EMBEDDING_DIMENSION = 100\n",
        "HIDDEN_DIMENSION = 32\n",
        "OUTPUT_DIMENSION = 1\n",
        "DROPOUT = 0.5\n",
        "PAD_INDEX = TEXT_FIELD.vocab.stoi[TEXT_FIELD.pad_token]\n",
        "\n",
        "lstm_model = LSTM(INPUT_DIMENSION,\n",
        "                  EMBEDDING_DIMENSION,\n",
        "                  HIDDEN_DIMENSION,\n",
        "                  OUTPUT_DIMENSION,\n",
        "                  DROPOUT,\n",
        "                  PAD_INDEX)"
      ],
      "metadata": {
        "colab": {
          "base_uri": "https://localhost:8080/"
        },
        "id": "Bemg1kEXZk6h",
        "outputId": "3a2775d9-d34d-4801-a77b-fb3924744bd1"
      },
      "execution_count": 12,
      "outputs": [
        {
          "output_type": "stream",
          "name": "stderr",
          "text": [
            "/usr/local/lib/python3.10/dist-packages/torch/nn/modules/rnn.py:82: UserWarning: dropout option adds dropout after all but last recurrent layer, so non-zero dropout expects num_layers greater than 1, but got dropout=0.5 and num_layers=1\n",
            "  warnings.warn(\"dropout option adds dropout after all but last \"\n"
          ]
        }
      ]
    },
    {
      "cell_type": "markdown",
      "source": [
        "### **b) 토큰 추가하기**\n",
        "- 사전에 두 개의 특수 토큰을 추가\n",
        "  - 사전에 없는 단어를 위한 `unknown_token`\n",
        "  - 시퀀스 패딩을 위해 추가되는 토큰인 `padding_token`"
      ],
      "metadata": {
        "id": "sZJcTYSkZLtZ"
      }
    },
    {
      "cell_type": "code",
      "source": [
        "UNK_INDEX = TEXT_FIELD.vocab.stoi[TEXT_FIELD.unk_token]\n",
        "\n",
        "lstm_model.embedding_layer.weight.data[UNK_INDEX] = torch.zeros(EMBEDDING_DIMENSION)\n",
        "lstm_model.embedding_layer.weight.data[PAD_INDEX] = torch.zeros(EMBEDDING_DIMENSION)"
      ],
      "metadata": {
        "id": "JGUElfEBZUyL"
      },
      "execution_count": 13,
      "outputs": []
    },
    {
      "cell_type": "markdown",
      "source": [
        "### **c) 옵티마이저, 손실함수 정의**"
      ],
      "metadata": {
        "id": "brFa-ZYyZ8TZ"
      }
    },
    {
      "cell_type": "code",
      "source": [
        "optim = torch.optim.Adam(lstm_model.parameters())\n",
        "loss_func = nn.BCEWithLogitsLoss()\n",
        "\n",
        "lstm_model = lstm_model.to(device)\n",
        "loss_func = loss_func.to(device)"
      ],
      "metadata": {
        "id": "FsGOqz1wZ_qc"
      },
      "execution_count": 14,
      "outputs": []
    },
    {
      "cell_type": "markdown",
      "source": [
        "### **d) 정확도 계산 함수 정의**"
      ],
      "metadata": {
        "id": "czDm7kBCaFvK"
      }
    },
    {
      "cell_type": "code",
      "source": [
        "def accuracy_metric(predictions, ground_truth):\n",
        "  \"\"\"\n",
        "  Returns 0-1 accuracy for the given set of predictions and ground truth\n",
        "  \"\"\"\n",
        "  # round predictions to either 0 or 1\n",
        "  rounded_predictions = torch.round(torch.sigmoid(predictions))\n",
        "  success = (rounded_predictions == ground_truth).float() # convert into float for division\n",
        "\n",
        "  accuracy = success.sum() / len(success)\n",
        "\n",
        "  return accuracy"
      ],
      "metadata": {
        "id": "_3_zaplOaI6s"
      },
      "execution_count": 15,
      "outputs": []
    },
    {
      "cell_type": "markdown",
      "source": [
        "### **e) 훈련/검증 루틴 정의**"
      ],
      "metadata": {
        "id": "1LI0WUU0aW8K"
      }
    },
    {
      "cell_type": "markdown",
      "source": [
        "**훈련 루틴 정의**"
      ],
      "metadata": {
        "id": "XASYlbKIachd"
      }
    },
    {
      "cell_type": "code",
      "source": [
        "def train(model, data_iterator, optim, loss_func):\n",
        "  loss = 0\n",
        "  accuracy = 0\n",
        "\n",
        "  # 훈련 mode\n",
        "  model.train()\n",
        "\n",
        "  for curr_batch in data_iterator:\n",
        "    optim.zero_grad()\n",
        "    sequence, sequence_lengths = curr_batch.text\n",
        "    preds = lstm_model(sequence, sequence_lengths).squeeze(1)\n",
        "\n",
        "    loss_curr = loss_func(preds, curr_batch.label)\n",
        "    accuracy_curr = accuracy_metric(preds, curr_batch.label)\n",
        "\n",
        "    loss_curr.backward()\n",
        "    optim.step()\n",
        "\n",
        "    loss += loss_curr.item()\n",
        "    accuracy += accuracy_curr.item()\n",
        "\n",
        "  return loss/len(data_iterator), accuracy/len(data_iterator)"
      ],
      "metadata": {
        "id": "17przLECaZ8m"
      },
      "execution_count": 16,
      "outputs": []
    },
    {
      "cell_type": "markdown",
      "source": [
        "**검증 루틴 정의**"
      ],
      "metadata": {
        "id": "vytezBToaySw"
      }
    },
    {
      "cell_type": "code",
      "source": [
        "def validate(model, data_iterator, loss_func):\n",
        "  loss = 0\n",
        "  accuracy = 0\n",
        "\n",
        "  # 평가 mode\n",
        "  model.eval()\n",
        "\n",
        "  with torch.no_grad():\n",
        "    for curr_batch in data_iterator:\n",
        "      sequence, sequence_lengths = curr_batch.text\n",
        "      preds = model(sequence, sequence_lengths).squeeze(1)\n",
        "\n",
        "      loss_curr = loss_func(preds, curr_batch.label)\n",
        "      accuracy_curr = accuracy_metric(preds, curr_batch.label)\n",
        "\n",
        "      loss += loss_curr.item()\n",
        "      accuracy += accuracy_curr.item()\n",
        "\n",
        "  return loss/len(data_iterator), accuracy/len(data_iterator)"
      ],
      "metadata": {
        "id": "11eLDGLra0yX"
      },
      "execution_count": 17,
      "outputs": []
    },
    {
      "cell_type": "markdown",
      "source": [
        "### **f) Run!!**\n",
        "- 모델을 훈련시키고 가장 성능이 좋은 모델을 저장"
      ],
      "metadata": {
        "id": "0Yu5NOx9bQJe"
      }
    },
    {
      "cell_type": "code",
      "source": [
        "num_epochs = 10\n",
        "best_validation_loss = float('inf')\n",
        "\n",
        "for ep in range(num_epochs):\n",
        "\n",
        "  time_start = time.time()\n",
        "\n",
        "  training_loss, train_accuracy = train(lstm_model, train_data_iterator, optim, loss_func)\n",
        "  validation_loss, validation_accuracy = validate(lstm_model, valid_data_iterator, loss_func)\n",
        "\n",
        "  time_end = time.time()\n",
        "  time_delta = time_end - time_start\n",
        "\n",
        "  if validation_loss < best_validation_loss:\n",
        "    best_validation_loss = validation_loss\n",
        "    torch.save(lstm_model.state_dict(), 'lstm_model.pt')\n",
        "\n",
        "  print(f'epoch number: {ep+1} | time elapsed: {time_delta}s')\n",
        "  print(f'training loss: {training_loss:.3f} | training accuracy: {train_accuracy*100:.2f}%')\n",
        "  print(f'validation loss: {validation_loss:.3f} |  validation accuracy: {validation_accuracy*100:.2f}%')\n",
        "  print()"
      ],
      "metadata": {
        "colab": {
          "base_uri": "https://localhost:8080/",
          "height": 734
        },
        "id": "jWxLFJqHbbec",
        "outputId": "29ae6ed1-eb50-4202-f804-b5fa04c3438a"
      },
      "execution_count": 18,
      "outputs": [
        {
          "output_type": "stream",
          "name": "stdout",
          "text": [
            "epoch number: 1 | time elapsed: 1348.0087351799011s\n",
            "training loss: 0.684 | training accuracy: 55.07%\n",
            "validation loss: 0.665 |  validation accuracy: 60.46%\n",
            "\n",
            "epoch number: 2 | time elapsed: 1266.6256999969482s\n",
            "training loss: 0.647 | training accuracy: 62.22%\n",
            "validation loss: 0.806 |  validation accuracy: 58.85%\n",
            "\n",
            "epoch number: 3 | time elapsed: 1174.1245894432068s\n",
            "training loss: 0.571 | training accuracy: 70.23%\n",
            "validation loss: 0.662 |  validation accuracy: 70.79%\n",
            "\n",
            "epoch number: 4 | time elapsed: 1147.509672164917s\n",
            "training loss: 0.506 | training accuracy: 75.53%\n",
            "validation loss: 0.618 |  validation accuracy: 71.26%\n",
            "\n",
            "epoch number: 5 | time elapsed: 1091.2177605628967s\n",
            "training loss: 0.461 | training accuracy: 78.53%\n",
            "validation loss: 0.593 |  validation accuracy: 71.91%\n",
            "\n"
          ]
        },
        {
          "output_type": "error",
          "ename": "KeyboardInterrupt",
          "evalue": "",
          "traceback": [
            "\u001b[0;31m---------------------------------------------------------------------------\u001b[0m",
            "\u001b[0;31mKeyboardInterrupt\u001b[0m                         Traceback (most recent call last)",
            "\u001b[0;32m<ipython-input-18-2e73c6ee841e>\u001b[0m in \u001b[0;36m<cell line: 4>\u001b[0;34m()\u001b[0m\n\u001b[1;32m      6\u001b[0m   \u001b[0mtime_start\u001b[0m \u001b[0;34m=\u001b[0m \u001b[0mtime\u001b[0m\u001b[0;34m.\u001b[0m\u001b[0mtime\u001b[0m\u001b[0;34m(\u001b[0m\u001b[0;34m)\u001b[0m\u001b[0;34m\u001b[0m\u001b[0;34m\u001b[0m\u001b[0m\n\u001b[1;32m      7\u001b[0m \u001b[0;34m\u001b[0m\u001b[0m\n\u001b[0;32m----> 8\u001b[0;31m   \u001b[0mtraining_loss\u001b[0m\u001b[0;34m,\u001b[0m \u001b[0mtrain_accuracy\u001b[0m \u001b[0;34m=\u001b[0m \u001b[0mtrain\u001b[0m\u001b[0;34m(\u001b[0m\u001b[0mlstm_model\u001b[0m\u001b[0;34m,\u001b[0m \u001b[0mtrain_data_iterator\u001b[0m\u001b[0;34m,\u001b[0m \u001b[0moptim\u001b[0m\u001b[0;34m,\u001b[0m \u001b[0mloss_func\u001b[0m\u001b[0;34m)\u001b[0m\u001b[0;34m\u001b[0m\u001b[0;34m\u001b[0m\u001b[0m\n\u001b[0m\u001b[1;32m      9\u001b[0m   \u001b[0mvalidation_loss\u001b[0m\u001b[0;34m,\u001b[0m \u001b[0mvalidation_accuracy\u001b[0m \u001b[0;34m=\u001b[0m \u001b[0mvalidate\u001b[0m\u001b[0;34m(\u001b[0m\u001b[0mlstm_model\u001b[0m\u001b[0;34m,\u001b[0m \u001b[0mvalid_data_iterator\u001b[0m\u001b[0;34m,\u001b[0m \u001b[0mloss_func\u001b[0m\u001b[0;34m)\u001b[0m\u001b[0;34m\u001b[0m\u001b[0;34m\u001b[0m\u001b[0m\n\u001b[1;32m     10\u001b[0m \u001b[0;34m\u001b[0m\u001b[0m\n",
            "\u001b[0;32m<ipython-input-16-3fb932e0e313>\u001b[0m in \u001b[0;36mtrain\u001b[0;34m(model, data_iterator, optim, loss_func)\u001b[0m\n\u001b[1;32m      9\u001b[0m     \u001b[0moptim\u001b[0m\u001b[0;34m.\u001b[0m\u001b[0mzero_grad\u001b[0m\u001b[0;34m(\u001b[0m\u001b[0;34m)\u001b[0m\u001b[0;34m\u001b[0m\u001b[0;34m\u001b[0m\u001b[0m\n\u001b[1;32m     10\u001b[0m     \u001b[0msequence\u001b[0m\u001b[0;34m,\u001b[0m \u001b[0msequence_lengths\u001b[0m \u001b[0;34m=\u001b[0m \u001b[0mcurr_batch\u001b[0m\u001b[0;34m.\u001b[0m\u001b[0mtext\u001b[0m\u001b[0;34m\u001b[0m\u001b[0;34m\u001b[0m\u001b[0m\n\u001b[0;32m---> 11\u001b[0;31m     \u001b[0mpreds\u001b[0m \u001b[0;34m=\u001b[0m \u001b[0mlstm_model\u001b[0m\u001b[0;34m(\u001b[0m\u001b[0msequence\u001b[0m\u001b[0;34m,\u001b[0m \u001b[0msequence_lengths\u001b[0m\u001b[0;34m)\u001b[0m\u001b[0;34m.\u001b[0m\u001b[0msqueeze\u001b[0m\u001b[0;34m(\u001b[0m\u001b[0;36m1\u001b[0m\u001b[0;34m)\u001b[0m\u001b[0;34m\u001b[0m\u001b[0;34m\u001b[0m\u001b[0m\n\u001b[0m\u001b[1;32m     12\u001b[0m \u001b[0;34m\u001b[0m\u001b[0m\n\u001b[1;32m     13\u001b[0m     \u001b[0mloss_curr\u001b[0m \u001b[0;34m=\u001b[0m \u001b[0mloss_func\u001b[0m\u001b[0;34m(\u001b[0m\u001b[0mpreds\u001b[0m\u001b[0;34m,\u001b[0m \u001b[0mcurr_batch\u001b[0m\u001b[0;34m.\u001b[0m\u001b[0mlabel\u001b[0m\u001b[0;34m)\u001b[0m\u001b[0;34m\u001b[0m\u001b[0;34m\u001b[0m\u001b[0m\n",
            "\u001b[0;32m/usr/local/lib/python3.10/dist-packages/torch/nn/modules/module.py\u001b[0m in \u001b[0;36m_wrapped_call_impl\u001b[0;34m(self, *args, **kwargs)\u001b[0m\n\u001b[1;32m   1516\u001b[0m             \u001b[0;32mreturn\u001b[0m \u001b[0mself\u001b[0m\u001b[0;34m.\u001b[0m\u001b[0m_compiled_call_impl\u001b[0m\u001b[0;34m(\u001b[0m\u001b[0;34m*\u001b[0m\u001b[0margs\u001b[0m\u001b[0;34m,\u001b[0m \u001b[0;34m**\u001b[0m\u001b[0mkwargs\u001b[0m\u001b[0;34m)\u001b[0m  \u001b[0;31m# type: ignore[misc]\u001b[0m\u001b[0;34m\u001b[0m\u001b[0;34m\u001b[0m\u001b[0m\n\u001b[1;32m   1517\u001b[0m         \u001b[0;32melse\u001b[0m\u001b[0;34m:\u001b[0m\u001b[0;34m\u001b[0m\u001b[0;34m\u001b[0m\u001b[0m\n\u001b[0;32m-> 1518\u001b[0;31m             \u001b[0;32mreturn\u001b[0m \u001b[0mself\u001b[0m\u001b[0;34m.\u001b[0m\u001b[0m_call_impl\u001b[0m\u001b[0;34m(\u001b[0m\u001b[0;34m*\u001b[0m\u001b[0margs\u001b[0m\u001b[0;34m,\u001b[0m \u001b[0;34m**\u001b[0m\u001b[0mkwargs\u001b[0m\u001b[0;34m)\u001b[0m\u001b[0;34m\u001b[0m\u001b[0;34m\u001b[0m\u001b[0m\n\u001b[0m\u001b[1;32m   1519\u001b[0m \u001b[0;34m\u001b[0m\u001b[0m\n\u001b[1;32m   1520\u001b[0m     \u001b[0;32mdef\u001b[0m \u001b[0m_call_impl\u001b[0m\u001b[0;34m(\u001b[0m\u001b[0mself\u001b[0m\u001b[0;34m,\u001b[0m \u001b[0;34m*\u001b[0m\u001b[0margs\u001b[0m\u001b[0;34m,\u001b[0m \u001b[0;34m**\u001b[0m\u001b[0mkwargs\u001b[0m\u001b[0;34m)\u001b[0m\u001b[0;34m:\u001b[0m\u001b[0;34m\u001b[0m\u001b[0;34m\u001b[0m\u001b[0m\n",
            "\u001b[0;32m/usr/local/lib/python3.10/dist-packages/torch/nn/modules/module.py\u001b[0m in \u001b[0;36m_call_impl\u001b[0;34m(self, *args, **kwargs)\u001b[0m\n\u001b[1;32m   1525\u001b[0m                 \u001b[0;32mor\u001b[0m \u001b[0m_global_backward_pre_hooks\u001b[0m \u001b[0;32mor\u001b[0m \u001b[0m_global_backward_hooks\u001b[0m\u001b[0;34m\u001b[0m\u001b[0;34m\u001b[0m\u001b[0m\n\u001b[1;32m   1526\u001b[0m                 or _global_forward_hooks or _global_forward_pre_hooks):\n\u001b[0;32m-> 1527\u001b[0;31m             \u001b[0;32mreturn\u001b[0m \u001b[0mforward_call\u001b[0m\u001b[0;34m(\u001b[0m\u001b[0;34m*\u001b[0m\u001b[0margs\u001b[0m\u001b[0;34m,\u001b[0m \u001b[0;34m**\u001b[0m\u001b[0mkwargs\u001b[0m\u001b[0;34m)\u001b[0m\u001b[0;34m\u001b[0m\u001b[0;34m\u001b[0m\u001b[0m\n\u001b[0m\u001b[1;32m   1528\u001b[0m \u001b[0;34m\u001b[0m\u001b[0m\n\u001b[1;32m   1529\u001b[0m         \u001b[0;32mtry\u001b[0m\u001b[0;34m:\u001b[0m\u001b[0;34m\u001b[0m\u001b[0;34m\u001b[0m\u001b[0m\n",
            "\u001b[0;32m<ipython-input-11-0dcbbbadc39c>\u001b[0m in \u001b[0;36mforward\u001b[0;34m(self, sequence, sequence_lengths)\u001b[0m\n\u001b[1;32m     26\u001b[0m       \u001b[0mpacked_embedded_output\u001b[0m \u001b[0;34m=\u001b[0m \u001b[0mnn\u001b[0m\u001b[0;34m.\u001b[0m\u001b[0mutils\u001b[0m\u001b[0;34m.\u001b[0m\u001b[0mrnn\u001b[0m\u001b[0;34m.\u001b[0m\u001b[0mpack_padded_sequence\u001b[0m\u001b[0;34m(\u001b[0m\u001b[0membedded_output\u001b[0m\u001b[0;34m,\u001b[0m \u001b[0msequence_lengths\u001b[0m\u001b[0;34m)\u001b[0m\u001b[0;34m\u001b[0m\u001b[0;34m\u001b[0m\u001b[0m\n\u001b[1;32m     27\u001b[0m \u001b[0;34m\u001b[0m\u001b[0m\n\u001b[0;32m---> 28\u001b[0;31m     \u001b[0mpacked_output\u001b[0m\u001b[0;34m,\u001b[0m \u001b[0;34m(\u001b[0m\u001b[0mhidden_state\u001b[0m\u001b[0;34m,\u001b[0m \u001b[0mcell_state\u001b[0m\u001b[0;34m)\u001b[0m \u001b[0;34m=\u001b[0m \u001b[0mself\u001b[0m\u001b[0;34m.\u001b[0m\u001b[0mlstm_layer\u001b[0m\u001b[0;34m(\u001b[0m\u001b[0mpacked_embedded_output\u001b[0m\u001b[0;34m)\u001b[0m\u001b[0;34m\u001b[0m\u001b[0;34m\u001b[0m\u001b[0m\n\u001b[0m\u001b[1;32m     29\u001b[0m     \u001b[0;31m# hidden_state := (num_layers * num_directions, batch_size, hidden_dimension)\u001b[0m\u001b[0;34m\u001b[0m\u001b[0;34m\u001b[0m\u001b[0m\n\u001b[1;32m     30\u001b[0m     \u001b[0;31m# cell_state := (num_layers * num_directions, batch_size, hidden_dimension)\u001b[0m\u001b[0;34m\u001b[0m\u001b[0;34m\u001b[0m\u001b[0m\n",
            "\u001b[0;32m/usr/local/lib/python3.10/dist-packages/torch/nn/modules/module.py\u001b[0m in \u001b[0;36m_wrapped_call_impl\u001b[0;34m(self, *args, **kwargs)\u001b[0m\n\u001b[1;32m   1516\u001b[0m             \u001b[0;32mreturn\u001b[0m \u001b[0mself\u001b[0m\u001b[0;34m.\u001b[0m\u001b[0m_compiled_call_impl\u001b[0m\u001b[0;34m(\u001b[0m\u001b[0;34m*\u001b[0m\u001b[0margs\u001b[0m\u001b[0;34m,\u001b[0m \u001b[0;34m**\u001b[0m\u001b[0mkwargs\u001b[0m\u001b[0;34m)\u001b[0m  \u001b[0;31m# type: ignore[misc]\u001b[0m\u001b[0;34m\u001b[0m\u001b[0;34m\u001b[0m\u001b[0m\n\u001b[1;32m   1517\u001b[0m         \u001b[0;32melse\u001b[0m\u001b[0;34m:\u001b[0m\u001b[0;34m\u001b[0m\u001b[0;34m\u001b[0m\u001b[0m\n\u001b[0;32m-> 1518\u001b[0;31m             \u001b[0;32mreturn\u001b[0m \u001b[0mself\u001b[0m\u001b[0;34m.\u001b[0m\u001b[0m_call_impl\u001b[0m\u001b[0;34m(\u001b[0m\u001b[0;34m*\u001b[0m\u001b[0margs\u001b[0m\u001b[0;34m,\u001b[0m \u001b[0;34m**\u001b[0m\u001b[0mkwargs\u001b[0m\u001b[0;34m)\u001b[0m\u001b[0;34m\u001b[0m\u001b[0;34m\u001b[0m\u001b[0m\n\u001b[0m\u001b[1;32m   1519\u001b[0m \u001b[0;34m\u001b[0m\u001b[0m\n\u001b[1;32m   1520\u001b[0m     \u001b[0;32mdef\u001b[0m \u001b[0m_call_impl\u001b[0m\u001b[0;34m(\u001b[0m\u001b[0mself\u001b[0m\u001b[0;34m,\u001b[0m \u001b[0;34m*\u001b[0m\u001b[0margs\u001b[0m\u001b[0;34m,\u001b[0m \u001b[0;34m**\u001b[0m\u001b[0mkwargs\u001b[0m\u001b[0;34m)\u001b[0m\u001b[0;34m:\u001b[0m\u001b[0;34m\u001b[0m\u001b[0;34m\u001b[0m\u001b[0m\n",
            "\u001b[0;32m/usr/local/lib/python3.10/dist-packages/torch/nn/modules/module.py\u001b[0m in \u001b[0;36m_call_impl\u001b[0;34m(self, *args, **kwargs)\u001b[0m\n\u001b[1;32m   1525\u001b[0m                 \u001b[0;32mor\u001b[0m \u001b[0m_global_backward_pre_hooks\u001b[0m \u001b[0;32mor\u001b[0m \u001b[0m_global_backward_hooks\u001b[0m\u001b[0;34m\u001b[0m\u001b[0;34m\u001b[0m\u001b[0m\n\u001b[1;32m   1526\u001b[0m                 or _global_forward_hooks or _global_forward_pre_hooks):\n\u001b[0;32m-> 1527\u001b[0;31m             \u001b[0;32mreturn\u001b[0m \u001b[0mforward_call\u001b[0m\u001b[0;34m(\u001b[0m\u001b[0;34m*\u001b[0m\u001b[0margs\u001b[0m\u001b[0;34m,\u001b[0m \u001b[0;34m**\u001b[0m\u001b[0mkwargs\u001b[0m\u001b[0;34m)\u001b[0m\u001b[0;34m\u001b[0m\u001b[0;34m\u001b[0m\u001b[0m\n\u001b[0m\u001b[1;32m   1528\u001b[0m \u001b[0;34m\u001b[0m\u001b[0m\n\u001b[1;32m   1529\u001b[0m         \u001b[0;32mtry\u001b[0m\u001b[0;34m:\u001b[0m\u001b[0;34m\u001b[0m\u001b[0;34m\u001b[0m\u001b[0m\n",
            "\u001b[0;32m/usr/local/lib/python3.10/dist-packages/torch/nn/modules/rnn.py\u001b[0m in \u001b[0;36mforward\u001b[0;34m(self, input, hx)\u001b[0m\n\u001b[1;32m    880\u001b[0m                               self.dropout, self.training, self.bidirectional, self.batch_first)\n\u001b[1;32m    881\u001b[0m         \u001b[0;32melse\u001b[0m\u001b[0;34m:\u001b[0m\u001b[0;34m\u001b[0m\u001b[0;34m\u001b[0m\u001b[0m\n\u001b[0;32m--> 882\u001b[0;31m             result = _VF.lstm(input, batch_sizes, hx, self._flat_weights, self.bias,\n\u001b[0m\u001b[1;32m    883\u001b[0m                               self.num_layers, self.dropout, self.training, self.bidirectional)\n\u001b[1;32m    884\u001b[0m         \u001b[0moutput\u001b[0m \u001b[0;34m=\u001b[0m \u001b[0mresult\u001b[0m\u001b[0;34m[\u001b[0m\u001b[0;36m0\u001b[0m\u001b[0;34m]\u001b[0m\u001b[0;34m\u001b[0m\u001b[0;34m\u001b[0m\u001b[0m\n",
            "\u001b[0;31mKeyboardInterrupt\u001b[0m: "
          ]
        }
      ]
    },
    {
      "cell_type": "markdown",
      "source": [
        "### **g) 모델 검증**\n",
        "- 가장 성능이 좋았던 모델을 로딩해서 테스트 셋에서 검증"
      ],
      "metadata": {
        "id": "VyOhJAYgcU1a"
      }
    },
    {
      "cell_type": "code",
      "source": [
        "lstm_model.load_state_dict(torch.load('lstm_model.pt'))\n",
        "\n",
        "test_loss, test_accuracy = validate(lstm_model, test_data_iterator, loss_func)\n",
        "\n",
        "print(f'test loss: {test_loss:.3f} | test accuracy: {test_accuracy*100:.2f}%')"
      ],
      "metadata": {
        "colab": {
          "base_uri": "https://localhost:8080/"
        },
        "id": "wsZ7eQvUcXb9",
        "outputId": "777d4d61-cee0-4247-dcc4-f333e2eb010e"
      },
      "execution_count": 19,
      "outputs": [
        {
          "output_type": "stream",
          "name": "stdout",
          "text": [
            "test loss: 0.632 | test accuracy: 70.52%\n"
          ]
        }
      ]
    },
    {
      "cell_type": "markdown",
      "source": [
        "### **h) 추론**\n",
        "- 감성 추론 함수 정의\n",
        "- 훈련된 모델에 영화 리뷰를 수동으로 입력해 실행"
      ],
      "metadata": {
        "id": "-u-2728ZctOz"
      }
    },
    {
      "cell_type": "code",
      "source": [
        "### 감성 추론을 위한 함수\n",
        "\n",
        "def sentiment_inference(model, sentence):\n",
        "\n",
        "  model.eval()\n",
        "\n",
        "  # text transformations\n",
        "  tokenized = data.get_tokenizer(\"basic_english\")(sentence)\n",
        "  tokenized = [TEXT_FIELD.vocab.stoi[t] for t in tokenized]\n",
        "\n",
        "  # model inference\n",
        "  model_input = torch.LongTensor(tokenized).to(device)\n",
        "  model_input = model_input.unsqueeze(1)\n",
        "\n",
        "  pred = torch.sigmoid(model(model_input))\n",
        "\n",
        "  return pred.item()"
      ],
      "metadata": {
        "id": "mjUdXajPcw1d"
      },
      "execution_count": 20,
      "outputs": []
    },
    {
      "cell_type": "code",
      "source": [
        "### 훈련된 모델에 영화 리뷰를 수동으로 입력해 실행\n",
        "\n",
        "print(sentiment_inference(lstm_model, \"This film is horrible\"))\n",
        "print(sentiment_inference(lstm_model, \"Director tried too hard but this film is bad\"))\n",
        "print(sentiment_inference(lstm_model, \"Decent movie, although could be shorter\"))\n",
        "print(sentiment_inference(lstm_model, \"This film will be houseful for weeks\"))\n",
        "print(sentiment_inference(lstm_model, \"I loved the movie, every part of it\"))"
      ],
      "metadata": {
        "colab": {
          "base_uri": "https://localhost:8080/"
        },
        "id": "X-VRgGYEdLpN",
        "outputId": "79844d23-b601-4dd9-926f-d20ac7b7d36f"
      },
      "execution_count": 21,
      "outputs": [
        {
          "output_type": "stream",
          "name": "stdout",
          "text": [
            "0.10918296873569489\n",
            "0.043620288372039795\n",
            "0.700039803981781\n",
            "0.41704854369163513\n",
            "0.9363043308258057\n"
          ]
        }
      ]
    },
    {
      "cell_type": "markdown",
      "source": [
        "- LSTM 모델이 검증셋에 대해 성능 측면에서 RNN 모델보다 뛰어남\n",
        "- 드롭아웃을 통한 과적합 방지\n",
        "- 양방향 LSTM 아키텍처는 영화 리뷰 텍스트 문장에서 순차적 패턴을 학습함"
      ],
      "metadata": {
        "id": "icMphprQdaHR"
      }
    }
  ]
}
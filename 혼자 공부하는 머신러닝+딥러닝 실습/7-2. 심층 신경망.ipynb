{
  "nbformat": 4,
  "nbformat_minor": 0,
  "metadata": {
    "colab": {
      "name": "7-2. 심층 신경망⭐⭐⭐.ipynb",
      "provenance": [],
      "collapsed_sections": [],
      "authorship_tag": "ABX9TyO1I2gFkxTdqWoJiFbwSUJz",
      "include_colab_link": true
    },
    "kernelspec": {
      "name": "python3",
      "display_name": "Python 3"
    },
    "language_info": {
      "name": "python"
    }
  },
  "cells": [
    {
      "cell_type": "markdown",
      "metadata": {
        "id": "view-in-github",
        "colab_type": "text"
      },
      "source": [
        "<a href=\"https://colab.research.google.com/github/chasubeen/python_selfstudy/blob/master/%E1%84%92%E1%85%A9%E1%86%AB%E1%84%8C%E1%85%A1%20%E1%84%80%E1%85%A9%E1%86%BC%E1%84%87%E1%85%AE%E1%84%92%E1%85%A1%E1%84%82%E1%85%B3%E1%86%AB%20%E1%84%86%E1%85%A5%E1%84%89%E1%85%B5%E1%86%AB%E1%84%85%E1%85%A5%E1%84%82%E1%85%B5%E1%86%BC%2B%E1%84%83%E1%85%B5%E1%86%B8%E1%84%85%E1%85%A5%E1%84%82%E1%85%B5%E1%86%BC%20%E1%84%89%E1%85%B5%E1%86%AF%E1%84%89%E1%85%B3%E1%86%B8/7-2.%20%E1%84%89%E1%85%B5%E1%86%B7%E1%84%8E%E1%85%B3%E1%86%BC%20%E1%84%89%E1%85%B5%E1%86%AB%E1%84%80%E1%85%A7%E1%86%BC%E1%84%86%E1%85%A1%E1%86%BC.ipynb\" target=\"_parent\"><img src=\"https://colab.research.google.com/assets/colab-badge.svg\" alt=\"Open In Colab\"/></a>"
      ]
    },
    {
      "cell_type": "markdown",
      "source": [
        "###**2개의 층**"
      ],
      "metadata": {
        "id": "yTSQN66F2-nr"
      }
    },
    {
      "cell_type": "code",
      "source": [
        "# 패션 MNIST 데이터 불러오기\n",
        "from tensorflow import keras\n",
        "(train_input, train_target),(test_input, test_target) = keras.datasets.fashion_mnist.load_data()"
      ],
      "metadata": {
        "colab": {
          "base_uri": "https://localhost:8080/"
        },
        "id": "8pbzAx7U3HcE",
        "outputId": "222b2693-938e-4ce6-d0c6-b20d9adec7f3"
      },
      "execution_count": 1,
      "outputs": [
        {
          "output_type": "stream",
          "name": "stdout",
          "text": [
            "Downloading data from https://storage.googleapis.com/tensorflow/tf-keras-datasets/train-labels-idx1-ubyte.gz\n",
            "32768/29515 [=================================] - 0s 0us/step\n",
            "40960/29515 [=========================================] - 0s 0us/step\n",
            "Downloading data from https://storage.googleapis.com/tensorflow/tf-keras-datasets/train-images-idx3-ubyte.gz\n",
            "26427392/26421880 [==============================] - 0s 0us/step\n",
            "26435584/26421880 [==============================] - 0s 0us/step\n",
            "Downloading data from https://storage.googleapis.com/tensorflow/tf-keras-datasets/t10k-labels-idx1-ubyte.gz\n",
            "16384/5148 [===============================================================================================] - 0s 0us/step\n",
            "Downloading data from https://storage.googleapis.com/tensorflow/tf-keras-datasets/t10k-images-idx3-ubyte.gz\n",
            "4423680/4422102 [==============================] - 0s 0us/step\n",
            "4431872/4422102 [==============================] - 0s 0us/step\n"
          ]
        }
      ]
    },
    {
      "cell_type": "code",
      "source": [
        "# 모델에 학습시키기 전 이미지 전처리하기\n",
        "from sklearn.model_selection import train_test_split\n",
        "train_scaled = train_input/255.0\n",
        "train_scaled = train_scaled.reshape(-1,28 * 28)\n",
        "train_scaled, val_scaled, train_target, val_target = train_test_split(train_scaled,train_target,test_size = 0.2, random_state = 42)"
      ],
      "metadata": {
        "id": "a8Lfo-M83Y_Z"
      },
      "execution_count": 3,
      "outputs": []
    },
    {
      "cell_type": "code",
      "source": [
        "dense1 = keras.layers.Dense(100,activation = 'sigmoid',input_shape = (784,)) # 은닉층\n",
        "dense2 = keras.layers.Dense(10,activation = 'softmax') # 출력층"
      ],
      "metadata": {
        "id": "jXnf5SVf4EW0"
      },
      "execution_count": 5,
      "outputs": []
    },
    {
      "cell_type": "markdown",
      "source": [
        "###**심층 신경망 만들기**"
      ],
      "metadata": {
        "id": "dRoIHJ847qD3"
      }
    },
    {
      "cell_type": "code",
      "source": [
        "model = keras.Sequential([dense1,dense2])"
      ],
      "metadata": {
        "id": "xdhh4Ys280Fk"
      },
      "execution_count": 6,
      "outputs": []
    },
    {
      "cell_type": "code",
      "source": [
        "# 인공 신경망 층에 대한 정보 파악하기\n",
        "model.summary()"
      ],
      "metadata": {
        "colab": {
          "base_uri": "https://localhost:8080/"
        },
        "id": "_ob-WJZD887U",
        "outputId": "cd9d6e1b-6914-414f-e0d3-f84641842b04"
      },
      "execution_count": 7,
      "outputs": [
        {
          "output_type": "stream",
          "name": "stdout",
          "text": [
            "Model: \"sequential\"\n",
            "_________________________________________________________________\n",
            " Layer (type)                Output Shape              Param #   \n",
            "=================================================================\n",
            " dense (Dense)               (None, 100)               78500     \n",
            "                                                                 \n",
            " dense_1 (Dense)             (None, 10)                1010      \n",
            "                                                                 \n",
            "=================================================================\n",
            "Total params: 79,510\n",
            "Trainable params: 79,510\n",
            "Non-trainable params: 0\n",
            "_________________________________________________________________\n"
          ]
        }
      ]
    },
    {
      "cell_type": "markdown",
      "source": [
        "###**층을 추가하는 다른 방법**"
      ],
      "metadata": {
        "id": "z8kzRt2o-EXG"
      }
    },
    {
      "cell_type": "code",
      "source": [
        "# Sequential 클래스의 생성자 안에서 바로 Dense 클래스 객체 만들기\n",
        "model = keras.Sequential([\n",
        "        keras.layers.Dense(100,activation = 'sigmoid',input_shape = (784,),\n",
        "                           name = 'hidden'),\n",
        "        keras.layers.Dense(10,activation = 'softmax',name = 'output')], \n",
        "        name = '패션 MNIST 모델')"
      ],
      "metadata": {
        "id": "37GQcGgTAC06"
      },
      "execution_count": 9,
      "outputs": []
    },
    {
      "cell_type": "code",
      "source": [
        "model.summary()"
      ],
      "metadata": {
        "colab": {
          "base_uri": "https://localhost:8080/"
        },
        "id": "SUN5sB5GA4ZW",
        "outputId": "a201b09d-4e2f-46f2-ae84-658b7686364e"
      },
      "execution_count": 10,
      "outputs": [
        {
          "output_type": "stream",
          "name": "stdout",
          "text": [
            "Model: \"패션 MNIST 모델\"\n",
            "_________________________________________________________________\n",
            " Layer (type)                Output Shape              Param #   \n",
            "=================================================================\n",
            " hidden (Dense)              (None, 100)               78500     \n",
            "                                                                 \n",
            " output (Dense)              (None, 10)                1010      \n",
            "                                                                 \n",
            "=================================================================\n",
            "Total params: 79,510\n",
            "Trainable params: 79,510\n",
            "Non-trainable params: 0\n",
            "_________________________________________________________________\n"
          ]
        }
      ]
    },
    {
      "cell_type": "code",
      "source": [
        "# Sequential 클래스의 add() 메서드를 이용하여 층 추가하기\n",
        "model = keras.Sequential()\n",
        "model.add(keras.layers.Dense(100,activation = 'sigmoid',input_shape = (784,)))\n",
        "model.add(keras.layers.Dense(10,activation = 'softmax'))"
      ],
      "metadata": {
        "id": "NCLjONerBC2F"
      },
      "execution_count": 11,
      "outputs": []
    },
    {
      "cell_type": "code",
      "source": [
        "model.summary()"
      ],
      "metadata": {
        "colab": {
          "base_uri": "https://localhost:8080/"
        },
        "id": "AW3e9qIrC1xG",
        "outputId": "5046fe0b-ca7d-4fec-c6e8-291f0287e085"
      },
      "execution_count": 12,
      "outputs": [
        {
          "output_type": "stream",
          "name": "stdout",
          "text": [
            "Model: \"sequential_1\"\n",
            "_________________________________________________________________\n",
            " Layer (type)                Output Shape              Param #   \n",
            "=================================================================\n",
            " dense_2 (Dense)             (None, 100)               78500     \n",
            "                                                                 \n",
            " dense_3 (Dense)             (None, 10)                1010      \n",
            "                                                                 \n",
            "=================================================================\n",
            "Total params: 79,510\n",
            "Trainable params: 79,510\n",
            "Non-trainable params: 0\n",
            "_________________________________________________________________\n"
          ]
        }
      ]
    },
    {
      "cell_type": "code",
      "source": [
        "# 모델 훈련시키기\n",
        "model.compile(loss = 'sparse_categorical_crossentropy',metrics = 'accuracy')\n",
        "model.fit(train_scaled,train_target,epochs = 5)"
      ],
      "metadata": {
        "colab": {
          "base_uri": "https://localhost:8080/"
        },
        "id": "jFCcy7VUDAxO",
        "outputId": "6f1efe2d-2d56-49f2-8989-76dba735b861"
      },
      "execution_count": 13,
      "outputs": [
        {
          "output_type": "stream",
          "name": "stdout",
          "text": [
            "Epoch 1/5\n",
            "1500/1500 [==============================] - 6s 3ms/step - loss: 0.5616 - accuracy: 0.8091\n",
            "Epoch 2/5\n",
            "1500/1500 [==============================] - 4s 2ms/step - loss: 0.4084 - accuracy: 0.8540\n",
            "Epoch 3/5\n",
            "1500/1500 [==============================] - 4s 3ms/step - loss: 0.3734 - accuracy: 0.8652\n",
            "Epoch 4/5\n",
            "1500/1500 [==============================] - 4s 2ms/step - loss: 0.3525 - accuracy: 0.8732\n",
            "Epoch 5/5\n",
            "1500/1500 [==============================] - 4s 2ms/step - loss: 0.3353 - accuracy: 0.8793\n"
          ]
        },
        {
          "output_type": "execute_result",
          "data": {
            "text/plain": [
              "<keras.callbacks.History at 0x7f31beb30710>"
            ]
          },
          "metadata": {},
          "execution_count": 13
        }
      ]
    },
    {
      "cell_type": "markdown",
      "source": [
        "###**렐루 함수**"
      ],
      "metadata": {
        "id": "xG_SHffuDRiG"
      }
    },
    {
      "cell_type": "code",
      "source": [
        "# Flatten 클래스를 이용하여 이미지를 1차원 배열로\n",
        "model = keras.Sequential()\n",
        "model.add(keras.layers.Flatten(input_shape = (28,28)))\n",
        "model.add(keras.layers.Dense(100,activation = 'relu'))\n",
        "model.add(keras.layers.Dense(10,activation = 'softmax'))"
      ],
      "metadata": {
        "id": "zigmtsuNDczU"
      },
      "execution_count": 14,
      "outputs": []
    },
    {
      "cell_type": "code",
      "source": [
        "model.summary()"
      ],
      "metadata": {
        "colab": {
          "base_uri": "https://localhost:8080/"
        },
        "id": "fNxsMN_KEPHL",
        "outputId": "67cc5603-5539-4275-d532-585edf2e43f0"
      },
      "execution_count": 15,
      "outputs": [
        {
          "output_type": "stream",
          "name": "stdout",
          "text": [
            "Model: \"sequential_2\"\n",
            "_________________________________________________________________\n",
            " Layer (type)                Output Shape              Param #   \n",
            "=================================================================\n",
            " flatten (Flatten)           (None, 784)               0         \n",
            "                                                                 \n",
            " dense_4 (Dense)             (None, 100)               78500     \n",
            "                                                                 \n",
            " dense_5 (Dense)             (None, 10)                1010      \n",
            "                                                                 \n",
            "=================================================================\n",
            "Total params: 79,510\n",
            "Trainable params: 79,510\n",
            "Non-trainable params: 0\n",
            "_________________________________________________________________\n"
          ]
        }
      ]
    },
    {
      "cell_type": "code",
      "source": [
        "# 훈련 데이터를 다시 준비하여 모델 훈련하기\n",
        "(train_input, train_target), (test_input, test_target) = keras.datasets.fashion_mnist.load_data()\n",
        "train_scaled = train_input/255.0\n",
        "train_scaled,val_scaled,train_target,val_target = train_test_split(\n",
        "    train_scaled,train_target,test_size = 0.2,random_state = 42\n",
        ")"
      ],
      "metadata": {
        "id": "NfYGY5oxFGjv"
      },
      "execution_count": 16,
      "outputs": []
    },
    {
      "cell_type": "code",
      "source": [
        "# 모델 컴파일, 훈련\n",
        "model.compile(loss = 'sparse_categorical_crossentropy',metrics = 'accuracy')\n",
        "model.fit(train_scaled,train_target,epochs = 5)"
      ],
      "metadata": {
        "colab": {
          "base_uri": "https://localhost:8080/"
        },
        "id": "a-nhkeBdFyim",
        "outputId": "39e0cbc8-27b0-4f61-e727-14a653f87d32"
      },
      "execution_count": 17,
      "outputs": [
        {
          "output_type": "stream",
          "name": "stdout",
          "text": [
            "Epoch 1/5\n",
            "1500/1500 [==============================] - 5s 3ms/step - loss: 0.5291 - accuracy: 0.8142\n",
            "Epoch 2/5\n",
            "1500/1500 [==============================] - 4s 2ms/step - loss: 0.3933 - accuracy: 0.8584\n",
            "Epoch 3/5\n",
            "1500/1500 [==============================] - 4s 3ms/step - loss: 0.3556 - accuracy: 0.8719\n",
            "Epoch 4/5\n",
            "1500/1500 [==============================] - 4s 2ms/step - loss: 0.3307 - accuracy: 0.8810\n",
            "Epoch 5/5\n",
            "1500/1500 [==============================] - 4s 2ms/step - loss: 0.3170 - accuracy: 0.8861\n"
          ]
        },
        {
          "output_type": "execute_result",
          "data": {
            "text/plain": [
              "<keras.callbacks.History at 0x7f31beaa0d10>"
            ]
          },
          "metadata": {},
          "execution_count": 17
        }
      ]
    },
    {
      "cell_type": "code",
      "source": [
        "# 검증 세트에서의 성능 확인하기\n",
        "model.evaluate(val_scaled,val_target)"
      ],
      "metadata": {
        "colab": {
          "base_uri": "https://localhost:8080/"
        },
        "id": "Bq1fvWv6GHty",
        "outputId": "f7e1847f-a1b6-4758-d144-f44daaf3548f"
      },
      "execution_count": 18,
      "outputs": [
        {
          "output_type": "stream",
          "name": "stdout",
          "text": [
            "375/375 [==============================] - 1s 2ms/step - loss: 0.3801 - accuracy: 0.8708\n"
          ]
        },
        {
          "output_type": "execute_result",
          "data": {
            "text/plain": [
              "[0.38006269931793213, 0.8708333373069763]"
            ]
          },
          "metadata": {},
          "execution_count": 18
        }
      ]
    },
    {
      "cell_type": "markdown",
      "source": [
        "###**옵티마이저**"
      ],
      "metadata": {
        "id": "brpqCWGKGQEe"
      }
    },
    {
      "cell_type": "code",
      "source": [
        "# 옵티마이져를 adam으로 변경해보기\n",
        "model = keras.Sequential()\n",
        "model.add(keras.layers.Flatten(input_shape = (28,28)))\n",
        "model.add(keras.layers.Dense(100,activation = 'relu'))\n",
        "model.add(keras.layers.Dense(10,activation = 'softmax'))"
      ],
      "metadata": {
        "id": "eAlpIddXGWMi"
      },
      "execution_count": 19,
      "outputs": []
    },
    {
      "cell_type": "code",
      "source": [
        "model.compile(optimizer = 'adam',loss = 'sparse_categorical_crossentropy',metrics = 'accuracy')\n",
        "model.fit(train_scaled,train_target,epochs = 5)"
      ],
      "metadata": {
        "colab": {
          "base_uri": "https://localhost:8080/"
        },
        "id": "0n_G3ATSJmFl",
        "outputId": "37d3ffa3-96b1-49f6-d0e3-4e65f3261291"
      },
      "execution_count": 20,
      "outputs": [
        {
          "output_type": "stream",
          "name": "stdout",
          "text": [
            "Epoch 1/5\n",
            "1500/1500 [==============================] - 5s 3ms/step - loss: 0.5220 - accuracy: 0.8191\n",
            "Epoch 2/5\n",
            "1500/1500 [==============================] - 3s 2ms/step - loss: 0.3901 - accuracy: 0.8605\n",
            "Epoch 3/5\n",
            "1500/1500 [==============================] - 3s 2ms/step - loss: 0.3506 - accuracy: 0.8739\n",
            "Epoch 4/5\n",
            "1500/1500 [==============================] - 3s 2ms/step - loss: 0.3246 - accuracy: 0.8798\n",
            "Epoch 5/5\n",
            "1500/1500 [==============================] - 3s 2ms/step - loss: 0.3082 - accuracy: 0.8866\n"
          ]
        },
        {
          "output_type": "execute_result",
          "data": {
            "text/plain": [
              "<keras.callbacks.History at 0x7f31be8e5050>"
            ]
          },
          "metadata": {},
          "execution_count": 20
        }
      ]
    },
    {
      "cell_type": "code",
      "source": [
        "# 검증 세트에서의 성능 파악하기\n",
        "model.evaluate(val_scaled,val_target)"
      ],
      "metadata": {
        "colab": {
          "base_uri": "https://localhost:8080/"
        },
        "id": "zHq9OozTJ04B",
        "outputId": "4f89c57c-4512-40b6-af39-d7af273dff95"
      },
      "execution_count": 21,
      "outputs": [
        {
          "output_type": "stream",
          "name": "stdout",
          "text": [
            "375/375 [==============================] - 1s 2ms/step - loss: 0.3309 - accuracy: 0.8824\n"
          ]
        },
        {
          "output_type": "execute_result",
          "data": {
            "text/plain": [
              "[0.33093419671058655, 0.8824166655540466]"
            ]
          },
          "metadata": {},
          "execution_count": 21
        }
      ]
    }
  ]
}
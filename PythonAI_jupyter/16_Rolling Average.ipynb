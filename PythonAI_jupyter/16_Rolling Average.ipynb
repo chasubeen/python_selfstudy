{
 "cells": [
  {
   "cell_type": "code",
   "execution_count": 1,
   "id": "9afdb8e8",
   "metadata": {},
   "outputs": [],
   "source": [
    "import cv2\n",
    "import random\n",
    "\n",
    "import numpy as np\n",
    "import pandas as pd\n",
    "import matplotlib.pyplot as plt\n",
    "import tensorflow_hub as hub\n",
    "\n",
    "from glob import glob\n",
    "from pprint import pprint\n",
    "from tensorflow import keras"
   ]
  },
  {
   "cell_type": "code",
   "execution_count": 2,
   "id": "b2a2632b",
   "metadata": {},
   "outputs": [
    {
     "name": "stdout",
     "output_type": "stream",
     "text": [
      "array(['biking', 'diving', 'golf', 'juggle', 'jumping', 'riding',\n",
      "       'shooting', 'spiking', 'swing', 'tennis', 'walk'], dtype=object)\n",
      "{'biking': 0,\n",
      " 'diving': 1,\n",
      " 'golf': 2,\n",
      " 'juggle': 3,\n",
      " 'jumping': 4,\n",
      " 'riding': 5,\n",
      " 'shooting': 6,\n",
      " 'spiking': 7,\n",
      " 'swing': 8,\n",
      " 'tennis': 9,\n",
      " 'walk': 10}\n"
     ]
    }
   ],
   "source": [
    "LABEL_INT_DICT = np.unique(pd.read_csv('ucf11_train_vid.csv')['label'])\n",
    "LABEL_STR_DICT = {k:v for v,k in enumerate(LABEL_INT_DICT)}\n",
    "pprint(LABEL_INT_DICT)\n",
    "pprint(LABEL_STR_DICT)"
   ]
  },
  {
   "cell_type": "code",
   "execution_count": 3,
   "id": "75a04d94",
   "metadata": {
    "scrolled": true
   },
   "outputs": [
    {
     "name": "stdout",
     "output_type": "stream",
     "text": [
      "Model: \"sequential_1\"\n",
      "_________________________________________________________________\n",
      " Layer (type)                Output Shape              Param #   \n",
      "=================================================================\n",
      " keras_layer_1 (KerasLayer)  (None, 1280)              5919312   \n",
      "                                                                 \n",
      " dense_1 (Dense)             (None, 11)                14091     \n",
      "                                                                 \n",
      "=================================================================\n",
      "Total params: 5,933,403\n",
      "Trainable params: 5,872,795\n",
      "Non-trainable params: 60,608\n",
      "_________________________________________________________________\n"
     ]
    }
   ],
   "source": [
    "model = keras.models.load_model(\n",
    "    'ucf11_weights/10-0.98.hdf5',\n",
    "    custom_objects = {'KerasLayer':hub.KerasLayer}\n",
    ")\n",
    "\n",
    "model.build([None,256,256,3])\n",
    "model.summary()"
   ]
  },
  {
   "cell_type": "code",
   "execution_count": 6,
   "id": "cdb357ac",
   "metadata": {},
   "outputs": [],
   "source": [
    "csv_path = 'ucf11_valid_vid.csv'\n",
    "valid_df = pd.read_csv(csv_path)\n",
    "\n",
    "idx = 21\n",
    "elem = valid_df.iloc[idx]\n",
    "\n",
    "cap = cv2.VideoCapture(\n",
    "    elem['file_path']\n",
    ")\n",
    "\n",
    "fourcc = cv2.VideoWriter_fourcc(*'MJPG')\n",
    "writer = cv2.VideoWriter('test.avi',fourcc,30,(256,256),True)\n",
    "\n",
    "while True:\n",
    "    ret,frame = cap.read()\n",
    "    if not ret:\n",
    "        break\n",
    "        \n",
    "    frame_ = frame.copy()\n",
    "    frame_ = cv2.cvtColor(frame_,cv2.COLOR_BGR2RGB)\n",
    "    frame_ = cv2.resize(frame_,(256,256))\n",
    "    frame_ = frame_.astype('float32')\n",
    "    frame_ = frame_/255.\n",
    "    \n",
    "    pred = model.predict(frame_[np.newaxis,...]) # 영상의 label 예측\n",
    "    label = LABEL_INT_DICT[np.argmax(pred)]\n",
    "    \n",
    "    frame = cv2.resize(frame,(256,256))\n",
    "    cv2.putText(frame,label,(50,45),cv2.FONT_HERSHEY_SIMPLEX,1.5,(0,255,0),5)\n",
    "    writer.write(frame)\n",
    "\n",
    "cap.release()\n",
    "writer.release()"
   ]
  },
  {
   "cell_type": "code",
   "execution_count": 7,
   "id": "764f6c3a",
   "metadata": {},
   "outputs": [],
   "source": [
    "csv_path = 'ucf11_valid_vid.csv'\n",
    "valid_df = pd.read_csv(csv_path)\n",
    "\n",
    "idx = 21\n",
    "elem = valid_df.iloc[idx]\n",
    "\n",
    "cap = cv2.VideoCapture(\n",
    "    elem['file_path']\n",
    ")\n",
    "\n",
    "fourcc = cv2.VideoWriter_fourcc(*'MJPG')\n",
    "writer = cv2.VideoWriter('roll.avi',fourcc,30,(256,256),True)\n",
    "\n",
    "queue = [] # 구현 성공!\n",
    "while True:\n",
    "    ret,frame = cap.read()\n",
    "    if not ret:\n",
    "        break\n",
    "        \n",
    "    frame_ = frame.copy()\n",
    "    frame_ = cv2.cvtColor(frame_,cv2.COLOR_BGR2RGB)\n",
    "    frame_ = cv2.resize(frame_,(256,256))\n",
    "    frame_ = frame_.astype('float32')\n",
    "    frame_ = frame_/255.\n",
    "    \n",
    "    pred = model.predict(frame_[np.newaxis,...])   # 영상의 label 예측\n",
    "    queue.append(pred) # 구현 성공!\n",
    "    \n",
    "    result = np.array(queue).mean(axis = 0) # 구현 성공!\n",
    "    \n",
    "    label = LABEL_INT_DICT[np.argmax(result)]\n",
    "    \n",
    "    frame = cv2.resize(frame,(256,256))\n",
    "    cv2.putText(frame,label,(50,45),cv2.FONT_HERSHEY_SIMPLEX,1.5,(0,255,0),5)\n",
    "    writer.write(frame)\n",
    "\n",
    "cap.release()\n",
    "writer.release()"
   ]
  },
  {
   "cell_type": "code",
   "execution_count": null,
   "id": "ddb012bf",
   "metadata": {},
   "outputs": [],
   "source": []
  }
 ],
 "metadata": {
  "kernelspec": {
   "display_name": "Python 3 (ipykernel)",
   "language": "python",
   "name": "python3"
  },
  "language_info": {
   "codemirror_mode": {
    "name": "ipython",
    "version": 3
   },
   "file_extension": ".py",
   "mimetype": "text/x-python",
   "name": "python",
   "nbconvert_exporter": "python",
   "pygments_lexer": "ipython3",
   "version": "3.8.9"
  }
 },
 "nbformat": 4,
 "nbformat_minor": 5
}

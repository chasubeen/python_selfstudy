{
 "cells": [
  {
   "cell_type": "markdown",
   "id": "ae9940d2",
   "metadata": {},
   "source": [
    "# Tensorflow Hub"
   ]
  },
  {
   "cell_type": "markdown",
   "id": "4deb41cd",
   "metadata": {},
   "source": [
    "* https://tfhub.dev/\n",
    "* 조정 및 배포 가능한 학습된 머신러닝 모델의 저장소\n",
    "* 단 몇 줄의 코드만으로 BERT 및 CNN과 같은 학습된 모델을 재사용할 수 있음"
   ]
  },
  {
   "cell_type": "code",
   "execution_count": 1,
   "id": "fd55650b",
   "metadata": {},
   "outputs": [],
   "source": [
    "from tensorflow import keras\n",
    "from tensorflow.keras import layers\n",
    "from tensorflow.keras import activations\n",
    "from tensorflow.keras.applications import EfficientNetB0\n",
    "\n",
    "import os\n",
    "import math\n",
    "import cv2\n",
    "import numpy as np\n",
    "import pandas as pd\n",
    "import tensorflow as tf\n",
    "import tensorflow_hub as hub"
   ]
  },
  {
   "cell_type": "code",
   "execution_count": 2,
   "id": "0ef050b5",
   "metadata": {},
   "outputs": [
    {
     "name": "stdout",
     "output_type": "stream",
     "text": [
      "Model: \"sequential\"\n",
      "_________________________________________________________________\n",
      " Layer (type)                Output Shape              Param #   \n",
      "=================================================================\n",
      " keras_layer (KerasLayer)    (None, 1280)              5919312   \n",
      "                                                                 \n",
      " dense (Dense)               (None, 1)                 1281      \n",
      "                                                                 \n",
      "=================================================================\n",
      "Total params: 5,920,593\n",
      "Trainable params: 1,281\n",
      "Non-trainable params: 5,919,312\n",
      "_________________________________________________________________\n"
     ]
    },
    {
     "name": "stderr",
     "output_type": "stream",
     "text": [
      "c:\\users\\doroc\\appdata\\local\\programs\\python\\python38\\lib\\site-packages\\keras\\optimizer_v2\\adam.py:105: UserWarning: The `lr` argument is deprecated, use `learning_rate` instead.\n",
      "  super(Adam, self).__init__(name, **kwargs)\n"
     ]
    }
   ],
   "source": [
    "model = tf.keras.Sequential([\n",
    "    hub.KerasLayer(\"https://tfhub.dev/google/imagenet/efficientnet_v2_imagenet1k_b0/feature_vector/2\"),\n",
    "    tf.keras.layers.Dense(1,activation = 'sigmoid')\n",
    "])\n",
    "model.build([None,256,256,3])\n",
    "\n",
    "adam = keras.optimizers.Adam(lr = 0.0001)\n",
    "model.compile(\n",
    "    optimizer = adam,\n",
    "    loss = 'binary_crossentropy',\n",
    "    metrics = 'accuracy'\n",
    ")\n",
    "model.summary()"
   ]
  },
  {
   "cell_type": "code",
   "execution_count": 3,
   "id": "c5661d95",
   "metadata": {},
   "outputs": [],
   "source": [
    "import albumentations as A\n",
    "\n",
    "class Augmentation:\n",
    "    def __init__(self, size, mode='train'):\n",
    "        if mode == 'train':\n",
    "            self.transform = A.Compose([\n",
    "                # 수평\n",
    "                A.HorizontalFlip(p=0.5),\n",
    "                # 이동, 크기, 회전을 설정\n",
    "                A.ShiftScaleRotate(\n",
    "                    p=0.5,\n",
    "                    shift_limit=0.05,\n",
    "                    scale_limit=0.05,\n",
    "                    rotate_limit=15\n",
    "                ),\n",
    "                # 최대 8개의 구멍을 dropout 하게됨\n",
    "                A.CoarseDropout(\n",
    "                    p=0.5,\n",
    "                    max_holes=8,\n",
    "                    max_height=int(0.1 * size),\n",
    "                    max_width=int(0.1 * size)\n",
    "                ),\n",
    "                A.RandomBrightnessContrast(p=0.2) # 밝기 대비\n",
    "            ])\n",
    "    \n",
    "    def __call__(self, **kwargs): # 클래스의 객체를 생성한 이후 객체를 호출할 떄 자동으로 실행되는 함수\n",
    "        if self.transform:\n",
    "            augmented = self.transform(**kwargs) # **kwargs : 가변 인수(파라미터의 개수에 제한을 두지 않겠다.)\n",
    "            img = augmented['image']\n",
    "            return img"
   ]
  },
  {
   "cell_type": "code",
   "execution_count": 4,
   "id": "e11dff31",
   "metadata": {},
   "outputs": [],
   "source": [
    "class DataGenerator(keras.utils.Sequence):\n",
    "    def __init__(self, batch_size, csv_path, fold, image_size, mode='train', shuffle=True):\n",
    "        self.batch_size = batch_size\n",
    "        self.fold = fold\n",
    "        self.image_size = image_size\n",
    "        self.mode = mode\n",
    "        self.shuffle = shuffle\n",
    "        \n",
    "        self.df = pd.read_csv(csv_path)\n",
    "        \n",
    "        if self.mode == 'train':\n",
    "            self.df = self.df[self.df['fold'] != self.fold]\n",
    "        elif self.mode == 'val':\n",
    "            self.df = self.df[self.df['fold'] == self.fold]\n",
    "        \n",
    "        #### https://github.com/tensorflow/models/issues/3134\n",
    "        #### 파일 이슈 -> 삭제\n",
    "        invalid_filenames = [\n",
    "            'Egyptian_Mau_14',\n",
    "            'Egyptian_Mau_139',\n",
    "            'Egyptian_Mau_145',\n",
    "            'Egyptian_Mau_156',\n",
    "            'Egyptian_Mau_167',\n",
    "            'Egyptian_Mau_177',\n",
    "            'Egyptian_Mau_186',\n",
    "            'Egyptian_Mau_191',\n",
    "            'Abyssinian_5',\n",
    "            'Abyssinian_34',\n",
    "            'chihuahua_121',\n",
    "            'beagle_116'\n",
    "        ]\n",
    "        self.df = self.df[~self.df['file_name'].isin(invalid_filenames)]\n",
    "        self.transform = Augmentation(image_size, mode)\n",
    "        \n",
    "        self.on_epoch_end()\n",
    "\n",
    "        \n",
    "    def on_epoch_end(self):\n",
    "        if self.shuffle:\n",
    "            self.df = self.df.sample(frac=1).reset_index(drop=True)\n",
    "\n",
    "    def __len__(self):\n",
    "            return math.ceil(len(self.df) / self.batch_size)\n",
    "\n",
    "    def __getitem__(self, idx):\n",
    "        strt = idx * self.batch_size\n",
    "        fin = (idx + 1) * self.batch_size\n",
    "        data = self.df.iloc[strt:fin]\n",
    "        batch_x, batch_y = self.get_data(data)\n",
    "        return np.array(batch_x), np.array(batch_y)\n",
    "        \n",
    "    def get_data(self, data):\n",
    "        batch_x = []\n",
    "        batch_y = []\n",
    "        \n",
    "        for _, r in data.iterrows():\n",
    "            file_name = r['file_name']\n",
    "            image = cv2.imread(f'data/images/{file_name}.jpg')\n",
    "            image = cv2.cvtColor(image, cv2.COLOR_BGR2RGB)\n",
    "            image = cv2.resize(image, (self.image_size, self.image_size))\n",
    "            \n",
    "            if self.mode == 'train':\n",
    "                image = image.astype('uint8')\n",
    "                image = self.transform(image=image)\n",
    "            \n",
    "            image = image.astype('float32')            \n",
    "            image = image / 255.\n",
    "        \n",
    "            label = int(r['species']) - 1\n",
    "            \n",
    "            batch_x.append(image)\n",
    "            batch_y.append(label)\n",
    "        return batch_x, batch_y"
   ]
  },
  {
   "cell_type": "code",
   "execution_count": 5,
   "id": "b7a01c26",
   "metadata": {},
   "outputs": [],
   "source": [
    "csv_path = 'data/kfolds.csv'\n",
    "\n",
    "train_generator = DataGenerator(\n",
    "    batch_size = 128,\n",
    "    csv_path = csv_path,\n",
    "    fold = 1,\n",
    "    image_size = 256,\n",
    "    mode = 'train',\n",
    "    shuffle = True\n",
    ")\n",
    "\n",
    "valid_generator = DataGenerator(\n",
    "    batch_size = 128,\n",
    "    csv_path = csv_path,\n",
    "    fold = 1,\n",
    "    image_size = 256,\n",
    "    mode = 'val',\n",
    "    shuffle = True\n",
    ")"
   ]
  },
  {
   "cell_type": "code",
   "execution_count": 6,
   "id": "a93380b0",
   "metadata": {},
   "outputs": [
    {
     "name": "stdout",
     "output_type": "stream",
     "text": [
      "Epoch 1/10\n",
      "46/46 [==============================] - 118s 2s/step - loss: 0.7164 - accuracy: 0.4908 - val_loss: 0.6396 - val_accuracy: 0.6188\n",
      "Epoch 2/10\n",
      "46/46 [==============================] - 113s 2s/step - loss: 0.5875 - accuracy: 0.7337 - val_loss: 0.5427 - val_accuracy: 0.8176\n",
      "Epoch 3/10\n",
      "46/46 [==============================] - 114s 2s/step - loss: 0.4951 - accuracy: 0.8784 - val_loss: 0.4657 - val_accuracy: 0.9088\n",
      "Epoch 4/10\n",
      "46/46 [==============================] - 113s 2s/step - loss: 0.4265 - accuracy: 0.9290 - val_loss: 0.4050 - val_accuracy: 0.9408\n",
      "Epoch 5/10\n",
      "46/46 [==============================] - 113s 2s/step - loss: 0.3745 - accuracy: 0.9486 - val_loss: 0.3565 - val_accuracy: 0.9592\n",
      "Epoch 6/10\n",
      "46/46 [==============================] - 114s 2s/step - loss: 0.3306 - accuracy: 0.9581 - val_loss: 0.3171 - val_accuracy: 0.9666\n",
      "Epoch 7/10\n",
      "46/46 [==============================] - 113s 2s/step - loss: 0.2969 - accuracy: 0.9597 - val_loss: 0.2850 - val_accuracy: 0.9721\n",
      "Epoch 8/10\n",
      "46/46 [==============================] - 114s 2s/step - loss: 0.2693 - accuracy: 0.9651 - val_loss: 0.2581 - val_accuracy: 0.9755\n",
      "Epoch 9/10\n",
      "46/46 [==============================] - 113s 2s/step - loss: 0.2464 - accuracy: 0.9677 - val_loss: 0.2355 - val_accuracy: 0.9803\n",
      "Epoch 10/10\n",
      "46/46 [==============================] - 114s 2s/step - loss: 0.2290 - accuracy: 0.9663 - val_loss: 0.2160 - val_accuracy: 0.9809\n"
     ]
    }
   ],
   "source": [
    "history = model.fit(\n",
    "    train_generator,\n",
    "    validation_data = valid_generator,\n",
    "    epochs = 10,\n",
    "    verbose = 1\n",
    ")"
   ]
  },
  {
   "cell_type": "code",
   "execution_count": null,
   "id": "01c36c9e",
   "metadata": {},
   "outputs": [],
   "source": []
  }
 ],
 "metadata": {
  "kernelspec": {
   "display_name": "Python 3 (ipykernel)",
   "language": "python",
   "name": "python3"
  },
  "language_info": {
   "codemirror_mode": {
    "name": "ipython",
    "version": 3
   },
   "file_extension": ".py",
   "mimetype": "text/x-python",
   "name": "python",
   "nbconvert_exporter": "python",
   "pygments_lexer": "ipython3",
   "version": "3.8.9"
  }
 },
 "nbformat": 4,
 "nbformat_minor": 5
}

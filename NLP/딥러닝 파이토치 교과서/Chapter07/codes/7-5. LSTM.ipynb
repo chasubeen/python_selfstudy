{
 "cells": [
  {
   "cell_type": "markdown",
   "id": "d348bbd1",
   "metadata": {},
   "source": [
    "## **5-2. LSTM 셀 구현**"
   ]
  },
  {
   "cell_type": "markdown",
   "id": "b4f7ad4c",
   "metadata": {},
   "source": [
    "### **라이브러리 호출**"
   ]
  },
  {
   "cell_type": "code",
   "execution_count": 1,
   "id": "c5fe5dd9",
   "metadata": {},
   "outputs": [],
   "source": [
    "import torch\n",
    "import torch.nn as nn\n",
    "import torchvision.transforms as transforms\n",
    "import torchvision.datasets as dataset\n",
    "from torch.autograd import Variable\n",
    "from torch.nn import Parameter # 파라미터 목록을 가지고 있는 라이브러리\n",
    "from torch import Tensor\n",
    "import torch.nn.functional as F\n",
    "from torch.utils.data import DataLoader\n",
    "import math\n",
    "\n",
    "device = torch.device('cuda:0' if torch.cuda.is_available() else 'cpu')\n",
    "cuda = True if torch.cuda.is_available() else False\n",
    "    \n",
    "Tensor = torch.cuda.FloatTensor if cuda else torch.FloatTensor    \n",
    "\n",
    "torch.manual_seed(125)\n",
    "\n",
    "if torch.cuda.is_available():\n",
    "    torch.cuda.manual_seed_all(125)"
   ]
  },
  {
   "cell_type": "markdown",
   "id": "b0d7760c",
   "metadata": {},
   "source": [
    "### **데이터 준비**"
   ]
  },
  {
   "cell_type": "markdown",
   "id": "1b0ce33f",
   "metadata": {},
   "source": [
    "**데이터 전처리**"
   ]
  },
  {
   "cell_type": "code",
   "execution_count": 3,
   "id": "66407194",
   "metadata": {},
   "outputs": [],
   "source": [
    "import torchvision.transforms as transforms\n",
    "\n",
    "mnist_transform = transforms.Compose([\n",
    "    transforms.ToTensor(), \n",
    "    transforms.Normalize((0.5,), (1.0,)) # 데이터 정규화\n",
    "])"
   ]
  },
  {
   "cell_type": "markdown",
   "id": "d37dcb5b",
   "metadata": {},
   "source": [
    "**데이터셋 내려받기**"
   ]
  },
  {
   "cell_type": "code",
   "execution_count": 4,
   "id": "c63514d4",
   "metadata": {},
   "outputs": [
    {
     "name": "stdout",
     "output_type": "stream",
     "text": [
      "Downloading http://yann.lecun.com/exdb/mnist/train-images-idx3-ubyte.gz\n",
      "Downloading http://yann.lecun.com/exdb/mnist/train-images-idx3-ubyte.gz to MNIST_DATASET/MNIST\\raw\\train-images-idx3-ubyte.gz\n"
     ]
    },
    {
     "data": {
      "application/vnd.jupyter.widget-view+json": {
       "model_id": "4ab634af385b4d4493ecb34a4233b37c",
       "version_major": 2,
       "version_minor": 0
      },
      "text/plain": [
       "  0%|          | 0/9912422 [00:00<?, ?it/s]"
      ]
     },
     "metadata": {},
     "output_type": "display_data"
    },
    {
     "name": "stdout",
     "output_type": "stream",
     "text": [
      "Extracting MNIST_DATASET/MNIST\\raw\\train-images-idx3-ubyte.gz to MNIST_DATASET/MNIST\\raw\n",
      "\n",
      "Downloading http://yann.lecun.com/exdb/mnist/train-labels-idx1-ubyte.gz\n",
      "Downloading http://yann.lecun.com/exdb/mnist/train-labels-idx1-ubyte.gz to MNIST_DATASET/MNIST\\raw\\train-labels-idx1-ubyte.gz\n"
     ]
    },
    {
     "data": {
      "application/vnd.jupyter.widget-view+json": {
       "model_id": "2f19e163310143c79dc1a4a26896c21b",
       "version_major": 2,
       "version_minor": 0
      },
      "text/plain": [
       "  0%|          | 0/28881 [00:00<?, ?it/s]"
      ]
     },
     "metadata": {},
     "output_type": "display_data"
    },
    {
     "name": "stdout",
     "output_type": "stream",
     "text": [
      "Extracting MNIST_DATASET/MNIST\\raw\\train-labels-idx1-ubyte.gz to MNIST_DATASET/MNIST\\raw\n",
      "\n",
      "Downloading http://yann.lecun.com/exdb/mnist/t10k-images-idx3-ubyte.gz\n",
      "Downloading http://yann.lecun.com/exdb/mnist/t10k-images-idx3-ubyte.gz to MNIST_DATASET/MNIST\\raw\\t10k-images-idx3-ubyte.gz\n"
     ]
    },
    {
     "data": {
      "application/vnd.jupyter.widget-view+json": {
       "model_id": "2b8bf67323e14517aef1053f2520b1d9",
       "version_major": 2,
       "version_minor": 0
      },
      "text/plain": [
       "  0%|          | 0/1648877 [00:00<?, ?it/s]"
      ]
     },
     "metadata": {},
     "output_type": "display_data"
    },
    {
     "name": "stdout",
     "output_type": "stream",
     "text": [
      "Extracting MNIST_DATASET/MNIST\\raw\\t10k-images-idx3-ubyte.gz to MNIST_DATASET/MNIST\\raw\n",
      "\n",
      "Downloading http://yann.lecun.com/exdb/mnist/t10k-labels-idx1-ubyte.gz\n",
      "Downloading http://yann.lecun.com/exdb/mnist/t10k-labels-idx1-ubyte.gz to MNIST_DATASET/MNIST\\raw\\t10k-labels-idx1-ubyte.gz\n"
     ]
    },
    {
     "data": {
      "application/vnd.jupyter.widget-view+json": {
       "model_id": "67c3fa2bb1bc4e18a198182900979915",
       "version_major": 2,
       "version_minor": 0
      },
      "text/plain": [
       "  0%|          | 0/4542 [00:00<?, ?it/s]"
      ]
     },
     "metadata": {},
     "output_type": "display_data"
    },
    {
     "name": "stdout",
     "output_type": "stream",
     "text": [
      "Extracting MNIST_DATASET/MNIST\\raw\\t10k-labels-idx1-ubyte.gz to MNIST_DATASET/MNIST\\raw\n",
      "\n"
     ]
    }
   ],
   "source": [
    "from torchvision.datasets import MNIST\n",
    "\n",
    "download_root = 'MNIST_DATASET/'\n",
    "\n",
    "train_dataset = MNIST(download_root, transform = mnist_transform, train = True, download = True)\n",
    "valid_dataset = MNIST(download_root, transform = mnist_transform, train = False, download = True)\n",
    "test_dataset = MNIST(download_root, transform = mnist_transform, train = False, download = True)"
   ]
  },
  {
   "cell_type": "markdown",
   "id": "3eca7c22",
   "metadata": {},
   "source": [
    "**데이터셋 메모리에 올리기**"
   ]
  },
  {
   "cell_type": "code",
   "execution_count": 5,
   "id": "216bac07",
   "metadata": {},
   "outputs": [],
   "source": [
    "batch_size = 64\n",
    "\n",
    "train_loader = DataLoader(dataset = train_dataset, \n",
    "                         batch_size = batch_size,\n",
    "                         shuffle = True)\n",
    "valid_loader = DataLoader(dataset = test_dataset, \n",
    "                         batch_size = batch_size,\n",
    "                         shuffle = True)\n",
    "test_loader = DataLoader(dataset = test_dataset, \n",
    "                         batch_size = batch_size,\n",
    "                         shuffle = True)"
   ]
  },
  {
   "cell_type": "markdown",
   "id": "ce743412",
   "metadata": {},
   "source": [
    "### **모델링**"
   ]
  },
  {
   "cell_type": "markdown",
   "id": "7ce9518e",
   "metadata": {},
   "source": [
    "**변수 값 지정**"
   ]
  },
  {
   "cell_type": "code",
   "execution_count": 6,
   "id": "22e631f5",
   "metadata": {},
   "outputs": [],
   "source": [
    "batch_size = 100\n",
    "n_iters = 6000\n",
    "num_epochs = n_iters / ( len(train_dataset) / batch_size )\n",
    "num_epochs = int(num_epochs)"
   ]
  },
  {
   "cell_type": "markdown",
   "id": "43d80a21",
   "metadata": {},
   "source": [
    "**LSTM 셀 네트워크 구축**\n",
    "- 게이트 위주의 cell 구현"
   ]
  },
  {
   "cell_type": "code",
   "execution_count": 7,
   "id": "6167f0da",
   "metadata": {},
   "outputs": [],
   "source": [
    "class LSTMCell(nn.Module):\n",
    "    def __init__(self, input_size, hidden_size, bias=True):\n",
    "        super(LSTMCell, self).__init__()\n",
    "        self.input_size = input_size\n",
    "        self.hidden_size = hidden_size\n",
    "        self.bias = bias\n",
    "        self.x2h = nn.Linear(input_size, 4 * hidden_size, bias=bias) # 입력층\n",
    "        self.h2h = nn.Linear(hidden_size, 4 * hidden_size, bias=bias) # 은닉층\n",
    "        self.reset_parameters()\n",
    "\n",
    "    def reset_parameters(self):\n",
    "        std = 1.0 / math.sqrt(self.hidden_size)\n",
    "        for w in self.parameters():\n",
    "            w.data.uniform_(-std, std) # 난수 생성\n",
    "    \n",
    "    def forward(self, x, hidden):        \n",
    "        hx, cx = hidden        \n",
    "        x = x.view(-1, x.size(1))\n",
    "        \n",
    "        gates = self.x2h(x) + self.h2h(hx)\n",
    "        # gates = F.linear(input, w_ih, b_ih) + F.linear(hx, w_hh, b_hh)와 동일\n",
    "        gates = gates.squeeze() # tensor의 차원 축소(2차원 -> 1차원)        \n",
    "        ingate, forgetgate, cellgate, outgate = gates.chunk(4, 1) # 텐서를 4개로 쪼갬\n",
    "        \n",
    "        ## 각각의 gate에 맞게 활성화 함수 처리\n",
    "        ingate = F.sigmoid(ingate)\n",
    "        forgetgate = F.sigmoid(forgetgate)\n",
    "        cellgate = F.tanh(cellgate)\n",
    "        outgate = F.sigmoid(outgate)\n",
    "        \n",
    "        cy = torch.mul(cx, forgetgate) +  torch.mul(ingate, cellgate)        \n",
    "        hy = torch.mul(outgate, F.tanh(cy))\n",
    "        \n",
    "        return (hy, cy)"
   ]
  },
  {
   "cell_type": "markdown",
   "id": "d02cefa4",
   "metadata": {},
   "source": [
    "**LSTM 셀의 전반적인 네트워크**"
   ]
  },
  {
   "cell_type": "code",
   "execution_count": 8,
   "id": "38f07cbb",
   "metadata": {},
   "outputs": [],
   "source": [
    "class LSTMModel(nn.Module):\n",
    "    def __init__(self, input_dim, hidden_dim, layer_dim, output_dim, bias = True):\n",
    "        super(LSTMModel, self).__init__()\n",
    "        self.hidden_dim = hidden_dim # 은닉층의 뉴런(유닛) 개수\n",
    "         \n",
    "        self.layer_dim = layer_dim               \n",
    "        self.lstm = LSTMCell(input_dim, hidden_dim, layer_dim) # 앞서 정의한 함수를 호출하여 cell 구현        \n",
    "        self.fc = nn.Linear(hidden_dim, output_dim)\n",
    "         \n",
    "    def forward(self, x): \n",
    "        # (은닉층의 계층 개수, 배치 크기, 은닉층의 뉴런 개수) 형태를 갖는 은닉 상태를 0으로 초기화\n",
    "        if torch.cuda.is_available():\n",
    "            h0 = Variable(torch.zeros(self.layer_dim, x.size(0), self.hidden_dim).cuda())\n",
    "        else:\n",
    "            h0 = Variable(torch.zeros(self.layer_dim, x.size(0), self.hidden_dim))\n",
    "        \n",
    "        # (은닉층의 계층 개수, 배치 크기, 은닉층의 뉴런 개수) 형태를 갖는 셀 상태를 0으로 초기화\n",
    "        if torch.cuda.is_available():\n",
    "            c0 = Variable(torch.zeros(self.layer_dim, x.size(0), self.hidden_dim).cuda())\n",
    "        else:\n",
    "            c0 = Variable(torch.zeros(self.layer_dim, x.size(0), hidden_dim))\n",
    "                           \n",
    "        outs = []        \n",
    "        cn = c0[0,:,:] # (은닉층의 계층 개수, 배치 크기, 은닉층의 뉴런 개수) 형태를 갖는 셀 상태에 대한 텐서\n",
    "        hn = h0[0,:,:] # (은닉층의 계층 개수, 배치 크기, 은닉층의 뉴런 개수) 형태를 갖는 은닉 상태에 대한 텐서\n",
    "\n",
    "        for seq in range(x.size(1)): # LSTM  셀 계층을 반복하여 쌓아 올림\n",
    "            hn, cn = self.lstm(x[:,seq,:], (hn,cn)) # 은닉 상태(hn)와 셀 상태를 LSTMCell에 적용한 결과를 또다시 hn, cn에 저장\n",
    "            outs.append(hn)\n",
    "                \n",
    "        out = outs[-1].squeeze()        \n",
    "        out = self.fc(out) \n",
    "        \n",
    "        return out"
   ]
  },
  {
   "cell_type": "markdown",
   "id": "a543423a",
   "metadata": {},
   "source": [
    "**옵티마이져, 손실 함수 지정**"
   ]
  },
  {
   "cell_type": "code",
   "execution_count": 9,
   "id": "0b04c817",
   "metadata": {},
   "outputs": [],
   "source": [
    "input_dim = 28\n",
    "hidden_dim = 128\n",
    "layer_dim = 1  \n",
    "output_dim = 10\n",
    " \n",
    "model = LSTMModel(input_dim, hidden_dim, layer_dim, output_dim)\n",
    "if torch.cuda.is_available():\n",
    "    model.cuda()\n",
    "criterion = nn.CrossEntropyLoss()\n",
    "learning_rate = 0.1 \n",
    "optimizer = torch.optim.SGD(model.parameters(), lr=learning_rate)"
   ]
  },
  {
   "cell_type": "markdown",
   "id": "e32ee332",
   "metadata": {},
   "source": [
    "**학습 및 성능 확인**"
   ]
  },
  {
   "cell_type": "code",
   "execution_count": 10,
   "id": "52aebeb0",
   "metadata": {},
   "outputs": [
    {
     "name": "stderr",
     "output_type": "stream",
     "text": [
      "c:\\users\\doroc\\appdata\\local\\programs\\python\\python37\\lib\\site-packages\\torch\\nn\\functional.py:1806: UserWarning: nn.functional.sigmoid is deprecated. Use torch.sigmoid instead.\n",
      "  warnings.warn(\"nn.functional.sigmoid is deprecated. Use torch.sigmoid instead.\")\n",
      "c:\\users\\doroc\\appdata\\local\\programs\\python\\python37\\lib\\site-packages\\torch\\nn\\functional.py:1795: UserWarning: nn.functional.tanh is deprecated. Use torch.tanh instead.\n",
      "  warnings.warn(\"nn.functional.tanh is deprecated. Use torch.tanh instead.\")\n"
     ]
    },
    {
     "name": "stdout",
     "output_type": "stream",
     "text": [
      "Iteration: 500. Loss: 2.237457513809204. Accuracy: 21.420000076293945\n",
      "Iteration: 1000. Loss: 0.8247257471084595. Accuracy: 76.13999938964844\n",
      "Iteration: 1500. Loss: 0.4205913841724396. Accuracy: 89.0199966430664\n",
      "Iteration: 2000. Loss: 0.25726011395454407. Accuracy: 93.01000213623047\n",
      "Iteration: 2500. Loss: 0.06256351619958878. Accuracy: 95.5\n",
      "Iteration: 3000. Loss: 0.0712197944521904. Accuracy: 96.27999877929688\n",
      "Iteration: 3500. Loss: 0.1383725106716156. Accuracy: 96.58000183105469\n",
      "Iteration: 4000. Loss: 0.04504479095339775. Accuracy: 96.54000091552734\n",
      "Iteration: 4500. Loss: 0.05652716010808945. Accuracy: 97.16000366210938\n",
      "Iteration: 5000. Loss: 0.06691935658454895. Accuracy: 97.33000183105469\n",
      "Iteration: 5500. Loss: 0.12820550799369812. Accuracy: 97.3499984741211\n",
      "Iteration: 6000. Loss: 0.013683550991117954. Accuracy: 97.80000305175781\n",
      "Iteration: 6500. Loss: 0.031900353729724884. Accuracy: 97.4800033569336\n",
      "Iteration: 7000. Loss: 0.016825499013066292. Accuracy: 98.0199966430664\n",
      "Iteration: 7500. Loss: 0.014031696133315563. Accuracy: 97.9800033569336\n",
      "Iteration: 8000. Loss: 0.03199993446469307. Accuracy: 97.91999816894531\n",
      "Iteration: 8500. Loss: 0.011015001684427261. Accuracy: 98.05999755859375\n",
      "Iteration: 9000. Loss: 0.042795684188604355. Accuracy: 97.75\n"
     ]
    }
   ],
   "source": [
    "seq_dim = 28 \n",
    "loss_list = []\n",
    "iter = 0\n",
    "\n",
    "for epoch in range(num_epochs):\n",
    "    for i, (images, labels) in enumerate(train_loader):  # 훈련 데이터셋을 이용한 모델 학습        \n",
    "        if torch.cuda.is_available():\n",
    "            images = Variable(images.view(-1, seq_dim, input_dim).cuda())\n",
    "            labels = Variable(labels.cuda())\n",
    "        else:\n",
    "            images = Variable(images.view(-1, seq_dim, input_dim))\n",
    "            labels = Variable(labels)\n",
    "          \n",
    "        optimizer.zero_grad()\n",
    "        outputs = model(images)\n",
    "        loss = criterion(outputs, labels) # 손실 함수를 이용하여 오차 계산\n",
    "\n",
    "        if torch.cuda.is_available():\n",
    "            loss.cuda()\n",
    "\n",
    "        loss.backward()\n",
    "        optimizer.step() # 파라미터 업데이트      \n",
    "        loss_list.append(loss.item())\n",
    "        iter += 1\n",
    "         \n",
    "        if iter % 500 == 0: # 정확도 계산        \n",
    "            correct = 0\n",
    "            total = 0\n",
    "            for images, labels in valid_loader: # 검증 데이터셋을 이용한 모델 성능 검증\n",
    "                if torch.cuda.is_available():\n",
    "                    images = Variable(images.view(-1, seq_dim, input_dim).cuda())\n",
    "                else:\n",
    "                    images = Variable(images.view(-1 , seq_dim, input_dim))\n",
    "                \n",
    "                outputs = model(images)\n",
    "                _, predicted = torch.max(outputs.data, 1) # 모델을 통과한 결과의 최댓값으로부터 예측 결과 가져오기\n",
    "                 \n",
    "                total += labels.size(0) # 총 레이블 수 \n",
    "                if torch.cuda.is_available():\n",
    "                    correct += (predicted.cpu() == labels.cpu()).sum()\n",
    "                else:\n",
    "                    correct += (predicted == labels).sum()\n",
    "             \n",
    "            accuracy = 100 * correct / total\n",
    "            print('Iteration: {}. Loss: {}. Accuracy: {}'.format(iter, loss.item(), accuracy))"
   ]
  },
  {
   "cell_type": "markdown",
   "id": "adb93e48",
   "metadata": {},
   "source": [
    "- 정확도가 97% 정도로 굉장히 높은 것을 확인할 수 있음"
   ]
  },
  {
   "cell_type": "markdown",
   "id": "72f19a1a",
   "metadata": {},
   "source": [
    "### **예측**"
   ]
  },
  {
   "cell_type": "code",
   "execution_count": 11,
   "id": "a810bf5c",
   "metadata": {},
   "outputs": [],
   "source": [
    "def evaluate(model, val_iter):    \n",
    "    corrects, total, total_loss = 0, 0, 0\n",
    "    \n",
    "    model.eval()\n",
    "    \n",
    "    for images, labels in val_iter:\n",
    "        if torch.cuda.is_available():\n",
    "            images = Variable(images.view(-1, seq_dim, input_dim).cuda())\n",
    "        else:\n",
    "            images = Variable(images.view(-1 , seq_dim, input_dim)).to(device)\n",
    "             \n",
    "        logit = model(images).to(device)\n",
    "        loss = F.cross_entropy(logit, labels, reduction = \"sum\")\n",
    "        _, predicted = torch.max(logit.data, 1)\n",
    "        total += labels.size(0)\n",
    "        total_loss += loss.item()\n",
    "        corrects += (predicted == labels).sum()\n",
    "\n",
    "    avg_loss = total_loss / len(val_iter.dataset)\n",
    "    avg_accuracy = corrects / total\n",
    "    return avg_loss, avg_accuracy"
   ]
  },
  {
   "cell_type": "markdown",
   "id": "7a3badf2",
   "metadata": {},
   "source": [
    "**예측 성능 확인**"
   ]
  },
  {
   "cell_type": "code",
   "execution_count": 12,
   "id": "9698c1a7",
   "metadata": {},
   "outputs": [
    {
     "name": "stdout",
     "output_type": "stream",
     "text": [
      "Test Loss:  0.07 | Test Accuracy:  0.98\n"
     ]
    }
   ],
   "source": [
    "test_loss, test_acc = evaluate(model,test_loader)\n",
    "print(\"Test Loss: %5.2f | Test Accuracy: %5.2f\" % (test_loss, test_acc))"
   ]
  },
  {
   "cell_type": "markdown",
   "id": "0104a452",
   "metadata": {},
   "source": [
    "## **5-3. LSTM 계층 구현**"
   ]
  },
  {
   "cell_type": "markdown",
   "id": "42a85af0",
   "metadata": {},
   "source": [
    "### **라이브러리 호출**"
   ]
  },
  {
   "cell_type": "code",
   "execution_count": 13,
   "id": "1a1957e6",
   "metadata": {},
   "outputs": [],
   "source": [
    "import os\n",
    "import time\n",
    "\n",
    "import numpy as np\n",
    "import pandas as pd\n",
    "import matplotlib.pyplot as plt\n",
    "\n",
    "import torch\n",
    "import torch.nn as nn\n",
    "from torch.utils.data import TensorDataset, DataLoader\n",
    "from torch.autograd import Variable\n",
    "from tqdm import tqdm_notebook\n",
    "from sklearn.preprocessing import StandardScaler, MinMaxScaler\n",
    "from sklearn.model_selection import train_test_split  \n",
    "\n",
    "device = torch.device('cuda:0' if torch.cuda.is_available() else 'cpu')"
   ]
  },
  {
   "cell_type": "markdown",
   "id": "9e60f238",
   "metadata": {},
   "source": [
    "### **데이터 준비**\n",
    "- 스타벅스 주가 데이터 활용"
   ]
  },
  {
   "cell_type": "code",
   "execution_count": 14,
   "id": "01a0f0ce",
   "metadata": {},
   "outputs": [
    {
     "name": "stdout",
     "output_type": "stream",
     "text": [
      "Date          object\n",
      "Open         float64\n",
      "High         float64\n",
      "Low          float64\n",
      "Close        float64\n",
      "Adj Close    float64\n",
      "Volume         int64\n",
      "dtype: object\n"
     ]
    }
   ],
   "source": [
    "data = pd.read_csv('./data/SBUX.csv')\n",
    "print(data.dtypes)"
   ]
  },
  {
   "cell_type": "markdown",
   "id": "39ff113d",
   "metadata": {},
   "source": [
    "- `Date` 컬럼을 인덱스로 활용"
   ]
  },
  {
   "cell_type": "code",
   "execution_count": 15,
   "id": "8db0b19c",
   "metadata": {},
   "outputs": [],
   "source": [
    "data['Date'] = pd.to_datetime(data['Date'])\n",
    "data.set_index('Date', inplace = True)"
   ]
  },
  {
   "cell_type": "code",
   "execution_count": 16,
   "id": "e2c011e5",
   "metadata": {},
   "outputs": [],
   "source": [
    "### 데이터형 변경\n",
    "# 정수(int) -> 실수(float)\n",
    "\n",
    "data['Volume'] = data['Volume'].astype(float)"
   ]
  },
  {
   "cell_type": "markdown",
   "id": "aaa6fbdc",
   "metadata": {},
   "source": [
    "**데이터 분리**"
   ]
  },
  {
   "cell_type": "code",
   "execution_count": 17,
   "id": "dab7512a",
   "metadata": {},
   "outputs": [
    {
     "name": "stdout",
     "output_type": "stream",
     "text": [
      "                  Open        High         Low       Close   Adj Close\n",
      "Date                                                                  \n",
      "2019-12-11   86.260002   86.870003   85.849998   86.589996   84.145752\n",
      "2019-12-12   88.000000   88.889999   87.540001   88.209999   85.720032\n",
      "2019-12-13   88.019997   88.790001   87.580002   88.669998   86.167046\n",
      "2019-12-16   89.139999   89.300003   88.430000   88.779999   86.273941\n",
      "2019-12-17   88.870003   88.970001   87.470001   88.129997   85.642288\n",
      "...                ...         ...         ...         ...         ...\n",
      "2020-12-04  101.349998  102.940002  101.070000  102.279999  101.442787\n",
      "2020-12-07  102.010002  102.220001  100.690002  101.410004  100.579918\n",
      "2020-12-08  100.370003  101.570000  100.010002  101.209999  100.381554\n",
      "2020-12-09  101.940002  102.209999  100.099998  100.400002   99.578186\n",
      "2020-12-10  103.510002  106.089996  102.750000  105.389999  104.527336\n",
      "\n",
      "[253 rows x 5 columns]\n",
      "                Volume\n",
      "Date                  \n",
      "2019-12-11   4921900.0\n",
      "2019-12-12  10282100.0\n",
      "2019-12-13   6714100.0\n",
      "2019-12-16   6705600.0\n",
      "2019-12-17   7296900.0\n",
      "...                ...\n",
      "2020-12-04   6952700.0\n",
      "2020-12-07   4514800.0\n",
      "2020-12-08   3911300.0\n",
      "2020-12-09   6629900.0\n",
      "2020-12-10  12939200.0\n",
      "\n",
      "[253 rows x 1 columns]\n"
     ]
    }
   ],
   "source": [
    "X = data.iloc[:,:-1] # 마지막 칼럼을 제외하고 모두 x로 사용\n",
    "y = data.iloc[:,5:6] # 마지막 'volume'을 레이블로 활용\n",
    "print(X)\n",
    "print(y)"
   ]
  },
  {
   "cell_type": "markdown",
   "id": "6f749149",
   "metadata": {},
   "source": [
    "**데이터 분포 조정**\n",
    "- 분산 조정"
   ]
  },
  {
   "cell_type": "code",
   "execution_count": 18,
   "id": "0b47ba52",
   "metadata": {},
   "outputs": [
    {
     "name": "stdout",
     "output_type": "stream",
     "text": [
      "Training Shape (200, 5) (200, 1)\n",
      "Testing Shape (53, 5) (53, 1)\n"
     ]
    }
   ],
   "source": [
    "ms = MinMaxScaler()\n",
    "ss = StandardScaler()\n",
    "\n",
    "X_ss = ss.fit_transform(X)\n",
    "y_ms = ms.fit_transform(y) \n",
    "\n",
    "X_train = X_ss[:200, :]\n",
    "X_test = X_ss[200:, :]\n",
    "\n",
    "y_train = y_ms[:200, :]\n",
    "y_test = y_ms[200:, :] \n",
    "\n",
    "print(\"Training Shape\", X_train.shape, y_train.shape)\n",
    "print(\"Testing Shape\", X_test.shape, y_test.shape) "
   ]
  },
  {
   "cell_type": "markdown",
   "id": "2b2b2da5",
   "metadata": {},
   "source": [
    "**데이터셋 형태 및 크기 조정**\n",
    "- 네트워크에 맞는 형태 및 크기로 변경"
   ]
  },
  {
   "cell_type": "code",
   "execution_count": 19,
   "id": "16b3321b",
   "metadata": {},
   "outputs": [
    {
     "name": "stdout",
     "output_type": "stream",
     "text": [
      "Training Shape torch.Size([200, 1, 5]) torch.Size([200, 1])\n",
      "Testing Shape torch.Size([53, 1, 5]) torch.Size([53, 1])\n"
     ]
    }
   ],
   "source": [
    "X_train_tensors = Variable(torch.Tensor(X_train))\n",
    "X_test_tensors = Variable(torch.Tensor(X_test))\n",
    "\n",
    "y_train_tensors = Variable(torch.Tensor(y_train))\n",
    "y_test_tensors = Variable(torch.Tensor(y_test))\n",
    "\n",
    "X_train_tensors_f = torch.reshape(X_train_tensors, (X_train_tensors.shape[0], 1, X_train_tensors.shape[1]))\n",
    "X_test_tensors_f = torch.reshape(X_test_tensors, (X_test_tensors.shape[0], 1, X_test_tensors.shape[1])) \n",
    "\n",
    "print(\"Training Shape\", X_train_tensors_f.shape, y_train_tensors.shape)\n",
    "print(\"Testing Shape\", X_test_tensors_f.shape, y_test_tensors.shape) "
   ]
  },
  {
   "cell_type": "markdown",
   "id": "45487831",
   "metadata": {},
   "source": [
    "### **모델링**"
   ]
  },
  {
   "cell_type": "markdown",
   "id": "fcffe348",
   "metadata": {},
   "source": [
    "**LSTM 네트워크**"
   ]
  },
  {
   "cell_type": "code",
   "execution_count": 20,
   "id": "6b2ae7c2",
   "metadata": {},
   "outputs": [],
   "source": [
    "class LSTM(nn.Module):\n",
    "    def __init__(self, num_classes, input_size, hidden_size, num_layers, seq_length):\n",
    "        super(LSTM, self).__init__()\n",
    "        self.num_classes = num_classes # 클래스 개수\n",
    "        self.num_layers = num_layers # LSTM 계층의 개수\n",
    "        self.input_size = input_size # 입력 크기(= 훈련 데이터셋의 칼럼 개수)\n",
    "        self.hidden_size = hidden_size # 은닉층의 뉴런 개수\n",
    "        self.seq_length = seq_length # 시퀀스 길이\n",
    "\n",
    "        self.lstm = nn.LSTM(input_size = input_size, hidden_size = hidden_size,\n",
    "                          num_layers = num_layers, batch_first = True) # LSTM 계층\n",
    "        self.fc_1 =  nn.Linear(hidden_size, 128) # 완전 연결층\n",
    "        self.fc = nn.Linear(128, num_classes) # 출력층\n",
    "\n",
    "        self.relu = nn.ReLU()\n",
    "    \n",
    "    def forward(self,x):\n",
    "        ## 변수 초기화\n",
    "        h_0 = Variable(torch.zeros(self.num_layers, x.size(0), self.hidden_size)) # 은닉층\n",
    "        c_0 = Variable(torch.zeros(self.num_layers, x.size(0), self.hidden_size)) # 셀 상태\n",
    "        \n",
    "        output, (hn, cn) = self.lstm(x, (h_0, c_0)) \n",
    "        \n",
    "        hn = hn.view(-1, self.hidden_size) \n",
    "        \n",
    "        out = self.relu(hn)\n",
    "        out = self.fc_1(out) \n",
    "        out = self.relu(out) \n",
    "        out = self.fc(out)\n",
    "        \n",
    "        return out"
   ]
  },
  {
   "cell_type": "markdown",
   "id": "80ee5851",
   "metadata": {},
   "source": [
    "**변수 설정**"
   ]
  },
  {
   "cell_type": "code",
   "execution_count": 21,
   "id": "281b25c5",
   "metadata": {},
   "outputs": [],
   "source": [
    "num_epochs = 1000 \n",
    "learning_rate = 0.0001 \n",
    "\n",
    "input_size = 5 \n",
    "hidden_size = 2 \n",
    "num_layers = 1 \n",
    "num_classes = 1 \n",
    "\n",
    "model = LSTM(num_classes, input_size, hidden_size, num_layers, X_train_tensors_f.shape[1]) \n",
    "criterion = torch.nn.MSELoss()    \n",
    "optimizer = torch.optim.Adam(model.parameters(), lr = learning_rate) "
   ]
  },
  {
   "cell_type": "markdown",
   "id": "a8006de2",
   "metadata": {},
   "source": [
    "**모델 학습**"
   ]
  },
  {
   "cell_type": "code",
   "execution_count": 22,
   "id": "5f147c4e",
   "metadata": {},
   "outputs": [
    {
     "name": "stdout",
     "output_type": "stream",
     "text": [
      "Epoch: 0, loss: 0.18287\n",
      "Epoch: 100, loss: 0.05713\n",
      "Epoch: 200, loss: 0.03855\n",
      "Epoch: 300, loss: 0.03717\n",
      "Epoch: 400, loss: 0.03599\n",
      "Epoch: 500, loss: 0.03326\n",
      "Epoch: 600, loss: 0.02937\n",
      "Epoch: 700, loss: 0.02517\n",
      "Epoch: 800, loss: 0.02214\n",
      "Epoch: 900, loss: 0.02043\n"
     ]
    }
   ],
   "source": [
    "for epoch in range(num_epochs):\n",
    "    outputs = model.forward(X_train_tensors_f) # 전방향 학습\n",
    "    optimizer.zero_grad()  \n",
    "    loss = criterion(outputs, y_train_tensors) # 손실 함수를 이용한 오차 계산\n",
    "    loss.backward() # 기울기 계산\n",
    "    optimizer.step() # 오차 업데이트\n",
    "    \n",
    "    if epoch % 100 == 0:\n",
    "        print(\"Epoch: %d, loss: %1.5f\" % (epoch, loss.item())) "
   ]
  },
  {
   "cell_type": "markdown",
   "id": "46439fe0",
   "metadata": {},
   "source": [
    "### **예측 결과 확인**\n",
    "- 시각화를 하여 확인해보자."
   ]
  },
  {
   "cell_type": "code",
   "execution_count": 23,
   "id": "5db9a789",
   "metadata": {},
   "outputs": [],
   "source": [
    "df_x_ss = ss.transform(data.iloc[:, :-1]) # 데이터 정규화\n",
    "df_y_ms = ms.transform(data.iloc[:, -1:]) # 데이터 정규화\n",
    "\n",
    "df_x_ss = Variable(torch.Tensor(df_x_ss)) \n",
    "df_y_ms = Variable(torch.Tensor(df_y_ms))\n",
    "\n",
    "df_x_ss = torch.reshape(df_x_ss, (df_x_ss.shape[0], 1, df_x_ss.shape[1])) "
   ]
  },
  {
   "cell_type": "code",
   "execution_count": 24,
   "id": "f73f7761",
   "metadata": {},
   "outputs": [
    {
     "data": {
      "image/png": "[encoded data removed]",
      "text/plain": [
       "<Figure size 1000x600 with 1 Axes>"
      ]
     },
     "metadata": {},
     "output_type": "display_data"
    }
   ],
   "source": [
    "### 예측 결과 출력\n",
    "\n",
    "train_predict = model(df_x_ss) # 모델 학습\n",
    "predicted = train_predict.data.numpy() # 학습 결과를 numpy로 변경\n",
    "label_y = df_y_ms.data.numpy()\n",
    "\n",
    "predicted= ms.inverse_transform(predicted) \n",
    "label_y = ms.inverse_transform(label_y)\n",
    "plt.figure(figsize=(10,6)) \n",
    "plt.axvline(x=200, c='r', linestyle='--') \n",
    "\n",
    "plt.plot(label_y, label='Actual Data') \n",
    "plt.plot(predicted, label='Predicted Data') \n",
    "plt.title('Time-Series Prediction')\n",
    "plt.legend()\n",
    "plt.show() "
   ]
  },
  {
   "cell_type": "markdown",
   "id": "0bb6969d",
   "metadata": {},
   "source": [
    "- 어느 정도 예측이 비슷하지만 만족할 만한 정도는 아님"
   ]
  }
 ],
 "metadata": {
  "kernelspec": {
   "display_name": "Python 3 (ipykernel)",
   "language": "python",
   "name": "python3"
  },
  "language_info": {
   "codemirror_mode": {
    "name": "ipython",
    "version": 3
   },
   "file_extension": ".py",
   "mimetype": "text/x-python",
   "name": "python",
   "nbconvert_exporter": "python",
   "pygments_lexer": "ipython3",
   "version": "3.7.7"
  }
 },
 "nbformat": 4,
 "nbformat_minor": 5
}

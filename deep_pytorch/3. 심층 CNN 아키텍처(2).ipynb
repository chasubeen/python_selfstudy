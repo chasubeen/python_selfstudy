{
  "nbformat": 4,
  "nbformat_minor": 0,
  "metadata": {
    "colab": {
      "provenance": [],
      "authorship_tag": "ABX9TyM8G/fORFujeoTMK9h6lhTK",
      "include_colab_link": true
    },
    "kernelspec": {
      "name": "python3",
      "display_name": "Python 3"
    },
    "language_info": {
      "name": "python"
    }
  },
  "cells": [
    {
      "cell_type": "markdown",
      "metadata": {
        "id": "view-in-github",
        "colab_type": "text"
      },
      "source": [
        "<a href=\"https://colab.research.google.com/github/chasubeen/python_selfstudy/blob/master/deep_pytorch/3.%20%EC%8B%AC%EC%B8%B5%20CNN%20%EC%95%84%ED%82%A4%ED%85%8D%EC%B2%98(2).ipynb\" target=\"_parent\"><img src=\"https://colab.research.google.com/assets/colab-badge.svg\" alt=\"Open In Colab\"/></a>"
      ]
    },
    {
      "cell_type": "markdown",
      "source": [
        "# **GoogLeNet과 Inception v3 살펴보기**"
      ],
      "metadata": {
        "id": "1Nk85SCYSf8o"
      }
    },
    {
      "cell_type": "markdown",
      "source": [
        "## **1) Inception 모듈**"
      ],
      "metadata": {
        "id": "rrwwVQMxU4rm"
      }
    },
    {
      "cell_type": "code",
      "source": [
        "import torch.nn as nn"
      ],
      "metadata": {
        "id": "VYC3jOr3SrQI"
      },
      "execution_count": 2,
      "outputs": []
    },
    {
      "cell_type": "code",
      "execution_count": 3,
      "metadata": {
        "id": "Ln4Me5AWC-u-"
      },
      "outputs": [],
      "source": [
        "class InceptionModule(nn.Module):\n",
        "  def __init__(self, input_planes, n_channels1x1, n_channels3x3red, n_channels3x3, n_channels5x5red, n_channels5x5, pooling_planes):\n",
        "    super(InceptionModule, self).__init__()\n",
        "    # 1x1 합성곱 가지\n",
        "    self.block1 = nn.Sequential(\n",
        "      nn.Conv2d(input_planes, n_channels1x1, kernel_size = 1),\n",
        "      nn.BatchNorm2d(n_channels1x1),\n",
        "      nn.ReLU(True),\n",
        "    )\n",
        "\n",
        "    # 1x1 convolution -> 3x3 convolution branch\n",
        "    self.block2 = nn.Sequential(\n",
        "      nn.Conv2d(input_planes, n_channels3x3red, kernel_size = 1),\n",
        "      nn.BatchNorm2d(n_channels3x3red),\n",
        "      nn.ReLU(True),\n",
        "      nn.Conv2d(n_channels3x3red, n_channels3x3, kernel_size = 3, padding = 1),\n",
        "      nn.BatchNorm2d(n_channels3x3),\n",
        "      nn.ReLU(True),\n",
        "    )\n",
        "\n",
        "    # 1x1 conv -> 5x5 conv branch\n",
        "    self.block3 = nn.Sequential(\n",
        "      nn.Conv2d(input_planes, n_channels5x5red, kernel_size = 1),\n",
        "      nn.BatchNorm2d(n_channels5x5red),\n",
        "      nn.ReLU(True),\n",
        "      nn.Conv2d(n_channels5x5red, n_channels5x5, kernel_size=3, padding=1),\n",
        "      nn.BatchNorm2d(n_channels5x5),\n",
        "      nn.ReLU(True),\n",
        "      nn.Conv2d(n_channels5x5, n_channels5x5, kernel_size=3, padding=1),\n",
        "      nn.BatchNorm2d(n_channels5x5),\n",
        "      nn.ReLU(True),\n",
        "    )\n",
        "\n",
        "    # 3x3 pool -> 1x1 conv branch\n",
        "    self.block4 = nn.Sequential(\n",
        "      nn.MaxPool2d(3, stride=1, padding=1),\n",
        "      nn.Conv2d(input_planes, pooling_planes, kernel_size=1),\n",
        "      nn.BatchNorm2d(pooling_planes),\n",
        "      nn.ReLU(True),\n",
        "    )\n",
        "\n",
        "  def forward(self, ip):\n",
        "    op1 = self.block1(ip)\n",
        "    op2 = self.block2(ip)\n",
        "    op3 = self.block3(ip)\n",
        "    op4 = self.block4(ip)\n",
        "\n",
        "    return torch.cat([op1,op2,op3,op4], 1)"
      ]
    },
    {
      "cell_type": "markdown",
      "source": [
        "## **2) Inception v1 모델**"
      ],
      "metadata": {
        "id": "Tfvy8gtNSmcS"
      }
    },
    {
      "cell_type": "code",
      "source": [
        "class GoogLeNet(nn.Module):\n",
        "    def __init__(self):\n",
        "        super(GoogLeNet, self).__init__()\n",
        "        self.stem = nn.Sequential(\n",
        "            nn.Conv2d(3, 192, kernel_size=3, padding=1),\n",
        "            nn.BatchNorm2d(192),\n",
        "            nn.ReLU(True),\n",
        "        )\n",
        "\n",
        "        self.im1 = InceptionModule(192,  64,  96, 128, 16, 32, 32)\n",
        "        self.im2 = InceptionModule(256, 128, 128, 192, 32, 96, 64)\n",
        "\n",
        "        self.max_pool = nn.MaxPool2d(3, stride=2, padding=1)\n",
        "\n",
        "        self.im3 = InceptionModule(480, 192,  96, 208, 16,  48,  64)\n",
        "        self.im4 = InceptionModule(512, 160, 112, 224, 24,  64,  64)\n",
        "        self.im5 = InceptionModule(512, 128, 128, 256, 24,  64,  64)\n",
        "\n",
        "        self.im6 = InceptionModule(512, 112, 144, 288, 32,  64,  64)\n",
        "        self.im7 = InceptionModule(528, 256, 160, 320, 32, 128, 128)\n",
        "\n",
        "        self.im8 = InceptionModule(832, 256, 160, 320, 32, 128, 128)\n",
        "        self.im9 = InceptionModule(832, 384, 192, 384, 48, 128, 128)\n",
        "\n",
        "        self.average_pool = nn.AvgPool2d(7, stride=1)\n",
        "        self.fc = nn.Linear(4096, 1000)\n",
        "\n",
        "    def forward(self, ip):\n",
        "        # ip: input\n",
        "        op = self.stem(ip)\n",
        "\n",
        "        out = self.im1(op)\n",
        "        out = self.im2(op)\n",
        "\n",
        "        op = self.maxpool(op)\n",
        "\n",
        "        op = self.a4(op)\n",
        "\n",
        "        op = self.b4(op)\n",
        "        op = self.c4(op)\n",
        "        op = self.d4(op)\n",
        "\n",
        "        op = self.e4(op)\n",
        "\n",
        "        op = self.max_pool(op)\n",
        "\n",
        "        op = self.a5(op)\n",
        "        op = self.b5(op)\n",
        "\n",
        "        op = self.avgerage_pool(op)\n",
        "\n",
        "        op = op.view(op.size(0), -1)\n",
        "\n",
        "        op = self.fc(op)\n",
        "\n",
        "        return op"
      ],
      "metadata": {
        "id": "L9DdD6i1VBoY"
      },
      "execution_count": 4,
      "outputs": []
    },
    {
      "cell_type": "markdown",
      "source": [
        "## **3) 사전 훈련된 GoogLeNet 로딩**"
      ],
      "metadata": {
        "id": "cu657SWFW8Mx"
      }
    },
    {
      "cell_type": "code",
      "source": [
        "import torchvision.models as models\n",
        "\n",
        "model = models.googlenet(pretrained = True)"
      ],
      "metadata": {
        "colab": {
          "base_uri": "https://localhost:8080/"
        },
        "id": "LIv9VLOZXA9r",
        "outputId": "3e6f520c-896e-4029-d39d-cea1d42e4e97"
      },
      "execution_count": 5,
      "outputs": [
        {
          "output_type": "stream",
          "name": "stderr",
          "text": [
            "/usr/local/lib/python3.10/dist-packages/torchvision/models/_utils.py:208: UserWarning: The parameter 'pretrained' is deprecated since 0.13 and may be removed in the future, please use 'weights' instead.\n",
            "  warnings.warn(\n",
            "/usr/local/lib/python3.10/dist-packages/torchvision/models/_utils.py:223: UserWarning: Arguments other than a weight enum or `None` for 'weights' are deprecated since 0.13 and may be removed in the future. The current behavior is equivalent to passing `weights=GoogLeNet_Weights.IMAGENET1K_V1`. You can also use `weights=GoogLeNet_Weights.DEFAULT` to get the most up-to-date weights.\n",
            "  warnings.warn(msg)\n",
            "Downloading: \"https://download.pytorch.org/models/googlenet-1378be20.pth\" to /root/.cache/torch/hub/checkpoints/googlenet-1378be20.pth\n",
            "100%|██████████| 49.7M/49.7M [00:00<00:00, 160MB/s]\n"
          ]
        }
      ]
    },
    {
      "cell_type": "markdown",
      "source": [
        "# **ResNet과 DenseNet 아키텍처**"
      ],
      "metadata": {
        "id": "84jf6QwqZKIf"
      }
    },
    {
      "cell_type": "markdown",
      "source": [
        "## **1) ResNet의 잔차 블록 구현하기**"
      ],
      "metadata": {
        "id": "CNi62OV7ZMXU"
      }
    },
    {
      "cell_type": "code",
      "source": [
        "import torch.nn as nn"
      ],
      "metadata": {
        "id": "7W0VuUY4fTX-"
      },
      "execution_count": 6,
      "outputs": []
    },
    {
      "cell_type": "code",
      "source": [
        "class BasicBlock(nn.Module):\n",
        "\n",
        "  multiplier=1\n",
        "\n",
        "  def __init__(self, input_num_planes, num_planes, stride = 1):\n",
        "    super(BasicBlock, self).__init__()\n",
        "    self.conv_layer1 = nn.Conv2d(in_channels=input_num_planes, out_channels=num_planes,\n",
        "                                 kernel_size=3, stride = stride,\n",
        "                                 padding=1, bias=False)\n",
        "    self.batch_norm1 = nn.BatchNorm2d(num_planes)\n",
        "    self.conv_layer2 = nn.Conv2d(in_channels=num_planes, out_channels=num_planes,\n",
        "                                 kernel_size=3, stride=1,\n",
        "                                 padding=1, bias=False)\n",
        "    self.batch_norm2 = nn.BatchNorm2d(num_planes)\n",
        "\n",
        "    self.res_connnection = nn.Sequential()\n",
        "\n",
        "    if stride > 1 or input_num_planes != self.multiplier*num_planes:\n",
        "        self.res_connnection = nn.Sequential(\n",
        "            nn.Conv2d(in_channels=input_num_planes, out_channels=self.multiplier*num_planes,\n",
        "                      kernel_size=1, stride = stride, bias=False),\n",
        "            nn.BatchNorm2d(self.multiplier*num_planes)\n",
        "        )\n",
        "\n",
        "  def forward(self, inp):\n",
        "      op = F.relu(self.batch_norm1(self.conv_layer1(inp)))\n",
        "      op = self.batch_norm2(self.conv_layer2(op))\n",
        "      op += self.res_connnection(inp)\n",
        "      op = F.relu(op)\n",
        "\n",
        "      return op"
      ],
      "metadata": {
        "id": "GPgKBJuIfXga"
      },
      "execution_count": null,
      "outputs": []
    },
    {
      "cell_type": "markdown",
      "source": [
        "## **2) DenseNet의 밀집 블록과 전환 블록 구현하기**"
      ],
      "metadata": {
        "id": "6CDFIyS_kXoT"
      }
    },
    {
      "cell_type": "code",
      "source": [
        "import torch.nn as nn"
      ],
      "metadata": {
        "id": "V94IEW8hkeJQ"
      },
      "execution_count": 7,
      "outputs": []
    },
    {
      "cell_type": "code",
      "source": [
        "### 밀집 블록\n",
        "\n",
        "class DenseBlock(nn.Module):\n",
        "    def __init__(self, input_num_planes, rate_inc):\n",
        "        super(DenseBlock, self).__init__()\n",
        "        self.batch_norm1 = nn.BatchNorm2d(input_num_planes)\n",
        "        self.conv_layer1 = nn.Conv2d(in_channels=input_num_planes, out_channels=4*rate_inc, kernel_size=1, bias=False)\n",
        "        self.batch_norm2 = nn.BatchNorm2d(4*rate_inc)\n",
        "        self.conv_layer2 = nn.Conv2d(in_channels=4*rate_inc, out_channels=rate_inc, kernel_size=3, padding=1, bias=False)\n",
        "    def forward(self, inp):\n",
        "        op = self.conv_layer1(F.relu(self.batch_norm1(inp)))\n",
        "        op = self.conv_layer2(F.relu(self.batch_norm2(op)))\n",
        "        op = torch.cat([op,inp], 1)\n",
        "        return op"
      ],
      "metadata": {
        "id": "GOqN8VLXkhuK"
      },
      "execution_count": null,
      "outputs": []
    },
    {
      "cell_type": "code",
      "source": [
        "### 전환 블록\n",
        "\n",
        "class TransBlock(nn.Module):\n",
        "    def __init__(self, input_num_planes, output_num_planes):\n",
        "        super(TransBlock, self).__init__()\n",
        "        self.batch_norm = nn.BatchNorm2d(input_num_planes)\n",
        "        self.conv_layer = nn.Conv2d(in_channels=input_num_planes, out_channels=output_num_planes, kernel_size=1, bias=False)\n",
        "    def forward(self, inp):\n",
        "        op = self.conv_layer(F.relu(self.batch_norm(inp)))\n",
        "        op = F.avg_pool2d(op, 2)\n",
        "        return op"
      ],
      "metadata": {
        "id": "LAhFftzVlj9m"
      },
      "execution_count": null,
      "outputs": []
    }
  ]
}
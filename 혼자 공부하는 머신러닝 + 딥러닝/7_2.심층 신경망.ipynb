{
  "nbformat": 4,
  "nbformat_minor": 0,
  "metadata": {
    "colab": {
      "name": "7-2. 심층 신경망.ipynb",
      "provenance": [],
      "collapsed_sections": [],
      "authorship_tag": "ABX9TyOf7QzU7R9eR1SInDrzKASj",
      "include_colab_link": true
    },
    "kernelspec": {
      "name": "python3",
      "display_name": "Python 3"
    },
    "language_info": {
      "name": "python"
    }
  },
  "cells": [
    {
      "cell_type": "markdown",
      "metadata": {
        "id": "view-in-github",
        "colab_type": "text"
      },
      "source": [
        "<a href=\"https://colab.research.google.com/github/chasubeen/python_selfstudy/blob/master/7_2.%EC%8B%AC%EC%B8%B5%20%EC%8B%A0%EA%B2%BD%EB%A7%9D.ipynb\" target=\"_parent\"><img src=\"https://colab.research.google.com/assets/colab-badge.svg\" alt=\"Open In Colab\"/></a>"
      ]
    },
    {
      "cell_type": "markdown",
      "source": [
        "###**2개의 층**"
      ],
      "metadata": {
        "id": "f_Qs1t1_rXnL"
      }
    },
    {
      "cell_type": "code",
      "source": [
        "# 데이터 셋 불러오기\n",
        "from tensorflow import keras\n",
        "(train_input,train_target),(test_input,test_target) = keras.datasets.fashion_mnist.load_data()"
      ],
      "metadata": {
        "colab": {
          "base_uri": "https://localhost:8080/"
        },
        "id": "UgRA4qMRrnVS",
        "outputId": "8f698815-459f-47be-f6ff-20e6dd9ea433"
      },
      "execution_count": null,
      "outputs": [
        {
          "output_type": "stream",
          "name": "stdout",
          "text": [
            "Downloading data from https://storage.googleapis.com/tensorflow/tf-keras-datasets/train-labels-idx1-ubyte.gz\n",
            "32768/29515 [=================================] - 0s 0us/step\n",
            "40960/29515 [=========================================] - 0s 0us/step\n",
            "Downloading data from https://storage.googleapis.com/tensorflow/tf-keras-datasets/train-images-idx3-ubyte.gz\n",
            "26427392/26421880 [==============================] - 0s 0us/step\n",
            "26435584/26421880 [==============================] - 0s 0us/step\n",
            "Downloading data from https://storage.googleapis.com/tensorflow/tf-keras-datasets/t10k-labels-idx1-ubyte.gz\n",
            "16384/5148 [===============================================================================================] - 0s 0us/step\n",
            "Downloading data from https://storage.googleapis.com/tensorflow/tf-keras-datasets/t10k-images-idx3-ubyte.gz\n",
            "4423680/4422102 [==============================] - 0s 0us/step\n",
            "4431872/4422102 [==============================] - 0s 0us/step\n"
          ]
        }
      ]
    },
    {
      "cell_type": "code",
      "source": [
        "# 데이터 전처리\n",
        "from sklearn.model_selection import train_test_split\n",
        "train_scaled = train_input/255.0\n",
        "train_scaled = train_scaled.reshape(-1,28 * 28)\n",
        "train_scaled, val_scaled,train_target,val_target = train_test_split(train_scaled,train_target,test_size = 0.2,random_state = 42)"
      ],
      "metadata": {
        "id": "Qo9-lFSAr-gR"
      },
      "execution_count": null,
      "outputs": []
    },
    {
      "cell_type": "code",
      "source": [
        "# layering\n",
        "dense1 = keras.layers.Dense(100,activation = 'sigmoid',input_shape = (784,)) # 100개의 뉴런을 가진 밀집층, 은닉층\n",
        "                                                                             # 은닉층의 뉴런의 개수 >= 출력층의 뉴런 개수\n",
        "dense2 = keras.layers.Dense(10,activation = 'softmax') # 10개의 뉴런"
      ],
      "metadata": {
        "id": "w7gG8SsaslSP"
      },
      "execution_count": null,
      "outputs": []
    },
    {
      "cell_type": "markdown",
      "source": [
        "###**심층 신경망 만들기**"
      ],
      "metadata": {
        "id": "s7TKXNTWuTh-"
      }
    },
    {
      "cell_type": "code",
      "source": [
        "# 은닉층을 Sequential 클래스에 추가하여 심층 신경망 만들기\n",
        "model = keras.Sequential([dense1,dense2]) # 레이어를 넘겨줄 때 출력층은 가장 '나중에' 배치해야 한다."
      ],
      "metadata": {
        "id": "O2Xt7r9tuW94"
      },
      "execution_count": null,
      "outputs": []
    },
    {
      "cell_type": "code",
      "source": [
        "# 모델에 관한 요약 정보 얻기\n",
        "model.summary() \n",
        "# Output Shape : 샘플의 개수(배치 차원), 은닉층의 뉴런의 개수\n",
        "# 샘플의 개수를 None으로 하는 이유: 어떠한 배치 크기에도 유연하게 대응할 수 있도록 하기 위해서  "
      ],
      "metadata": {
        "colab": {
          "base_uri": "https://localhost:8080/"
        },
        "id": "M3ZfvpD0uhfg",
        "outputId": "480e66ba-aaa9-4573-e48d-0e0787687662"
      },
      "execution_count": null,
      "outputs": [
        {
          "output_type": "stream",
          "name": "stdout",
          "text": [
            "Model: \"sequential\"\n",
            "_________________________________________________________________\n",
            " Layer (type)                Output Shape              Param #   \n",
            "=================================================================\n",
            " dense (Dense)               (None, 100)               78500     \n",
            "                                                                 \n",
            " dense_1 (Dense)             (None, 10)                1010      \n",
            "                                                                 \n",
            "=================================================================\n",
            "Total params: 79,510\n",
            "Trainable params: 79,510\n",
            "Non-trainable params: 0\n",
            "_________________________________________________________________\n"
          ]
        }
      ]
    },
    {
      "cell_type": "markdown",
      "source": [
        "###**층을 추가하는 다른 방법**"
      ],
      "metadata": {
        "id": "c8QFKLu6yvAu"
      }
    },
    {
      "cell_type": "code",
      "source": [
        "# Sequential 클래스의 생성자 안에서 바로 Dense 클래스의 객체를 만들기\n",
        "model = keras.Sequential([\n",
        "  keras.layers.Dense(100,activation = 'sigmoid',input_shape = (784,),\n",
        "                     name = 'hidden'),\n",
        "  keras.layers.Dense(10,activation = 'softmax',name = 'output')\n",
        "])\n",
        "\n",
        "# 추가되는 층을 한눈에 쉽게 알아보는 장점이 있음"
      ],
      "metadata": {
        "id": "x_ARVwwbyyMR"
      },
      "execution_count": null,
      "outputs": []
    },
    {
      "cell_type": "code",
      "source": [
        "model.summary()"
      ],
      "metadata": {
        "colab": {
          "base_uri": "https://localhost:8080/"
        },
        "id": "wNDlt3FKzxde",
        "outputId": "dc397a38-2b57-4027-ee34-a82bd1559c32"
      },
      "execution_count": null,
      "outputs": [
        {
          "output_type": "stream",
          "name": "stdout",
          "text": [
            "Model: \"sequential_1\"\n",
            "_________________________________________________________________\n",
            " Layer (type)                Output Shape              Param #   \n",
            "=================================================================\n",
            " hidden (Dense)              (None, 100)               78500     \n",
            "                                                                 \n",
            " output (Dense)              (None, 10)                1010      \n",
            "                                                                 \n",
            "=================================================================\n",
            "Total params: 79,510\n",
            "Trainable params: 79,510\n",
            "Non-trainable params: 0\n",
            "_________________________________________________________________\n"
          ]
        }
      ]
    },
    {
      "cell_type": "code",
      "source": [
        "# model.add() 메서드를 활용하여 층 추가하기\n",
        "model = keras.Sequential()\n",
        "model.add(keras.layers.Dense(100,activation = 'sigmoid',input_shape = (784,)))\n",
        "model.add(keras.layers.Dense(10,activation = 'softmax'))\n",
        "\n",
        "# 한눈에 추가되는 층을 볼 수 있고 프로그램 실행 시 동적으로 층을 서낵하여 추가할 수 있음"
      ],
      "metadata": {
        "id": "wU0NmNvez14o"
      },
      "execution_count": null,
      "outputs": []
    },
    {
      "cell_type": "code",
      "source": [
        "model.summary()"
      ],
      "metadata": {
        "colab": {
          "base_uri": "https://localhost:8080/"
        },
        "id": "EmREfHqY0KKx",
        "outputId": "768625c4-3cb9-4c9e-a028-1d3a9b17542c"
      },
      "execution_count": null,
      "outputs": [
        {
          "output_type": "stream",
          "name": "stdout",
          "text": [
            "Model: \"sequential_2\"\n",
            "_________________________________________________________________\n",
            " Layer (type)                Output Shape              Param #   \n",
            "=================================================================\n",
            " dense_2 (Dense)             (None, 100)               78500     \n",
            "                                                                 \n",
            " dense_3 (Dense)             (None, 10)                1010      \n",
            "                                                                 \n",
            "=================================================================\n",
            "Total params: 79,510\n",
            "Trainable params: 79,510\n",
            "Non-trainable params: 0\n",
            "_________________________________________________________________\n"
          ]
        }
      ]
    },
    {
      "cell_type": "code",
      "source": [
        "model.compile(loss = 'sparse_categorical_crossentropy',metrics = 'accuracy')\n",
        "model.fit(train_scaled,train_target,epochs = 5)\n",
        "\n",
        "# 추가된 층이 모델의 성능을 향상시켰음을 확인할 수 있음"
      ],
      "metadata": {
        "colab": {
          "base_uri": "https://localhost:8080/"
        },
        "id": "bqaj9jAM0jmW",
        "outputId": "1aa92462-ee7e-4492-abc0-9848f445e4fb"
      },
      "execution_count": null,
      "outputs": [
        {
          "output_type": "stream",
          "name": "stdout",
          "text": [
            "Epoch 1/5\n",
            "1500/1500 [==============================] - 6s 3ms/step - loss: 0.5646 - accuracy: 0.8081\n",
            "Epoch 2/5\n",
            "1500/1500 [==============================] - 5s 3ms/step - loss: 0.4079 - accuracy: 0.8546\n",
            "Epoch 3/5\n",
            "1500/1500 [==============================] - 5s 3ms/step - loss: 0.3730 - accuracy: 0.8651\n",
            "Epoch 4/5\n",
            "1500/1500 [==============================] - 5s 3ms/step - loss: 0.3508 - accuracy: 0.8737\n",
            "Epoch 5/5\n",
            "1500/1500 [==============================] - 5s 3ms/step - loss: 0.3337 - accuracy: 0.8791\n"
          ]
        },
        {
          "output_type": "execute_result",
          "data": {
            "text/plain": [
              "<keras.callbacks.History at 0x7fd7d97667d0>"
            ]
          },
          "metadata": {},
          "execution_count": 10
        }
      ]
    },
    {
      "cell_type": "markdown",
      "source": [
        "###**ReLU 함수**"
      ],
      "metadata": {
        "id": "JDGvwQ9K1BFJ"
      }
    },
    {
      "cell_type": "code",
      "source": [
        "# Flatten 클래스: 배치 차원을 제외한 나머지 입력 차원을 모두 일렬로 펼치는 역할을 수행\n",
        "model = keras.Sequential()\n",
        "model.add(keras.layers.Flatten(input_shape = (28,28))) # 입력층 바로 뒤에 존재한다.\n",
        "                                                       # Flatten 층은 학습 층이 아님 -> layer 개수로 카운팅 x\n",
        "model.add(keras.layers.Dense(100,activation = 'relu'))\n",
        "model.add(keras.layers.Dense(10,activation = 'softmax'))"
      ],
      "metadata": {
        "id": "UZSGtBt_1E99"
      },
      "execution_count": null,
      "outputs": []
    },
    {
      "cell_type": "code",
      "source": [
        "model.summary()"
      ],
      "metadata": {
        "colab": {
          "base_uri": "https://localhost:8080/"
        },
        "id": "KpHAScEo18e_",
        "outputId": "1b9b459b-f9d3-42ca-fcf3-2b7192eb7ff2"
      },
      "execution_count": null,
      "outputs": [
        {
          "output_type": "stream",
          "name": "stdout",
          "text": [
            "Model: \"sequential_3\"\n",
            "_________________________________________________________________\n",
            " Layer (type)                Output Shape              Param #   \n",
            "=================================================================\n",
            " flatten (Flatten)           (None, 784)               0         \n",
            "                                                                 \n",
            " dense_4 (Dense)             (None, 100)               78500     \n",
            "                                                                 \n",
            " dense_5 (Dense)             (None, 10)                1010      \n",
            "                                                                 \n",
            "=================================================================\n",
            "Total params: 79,510\n",
            "Trainable params: 79,510\n",
            "Non-trainable params: 0\n",
            "_________________________________________________________________\n"
          ]
        }
      ]
    },
    {
      "cell_type": "code",
      "source": [
        "# 모델 훈련시키기\n",
        "(train_input,train_target),(test_input,test_target) = keras.datasets.fashion_mnist.load_data()\n",
        "train_scaled = train_input/255.0\n",
        "train_scaled, val_scaled,train_target,val_target = train_test_split(train_scaled,train_target,test_size = 0.2,random_state = 42)"
      ],
      "metadata": {
        "id": "pfMOYFrq2Gjp"
      },
      "execution_count": null,
      "outputs": []
    },
    {
      "cell_type": "code",
      "source": [
        "model.compile(loss = 'sparse_categorical_crossentropy',metrics = 'accuracy')\n",
        "model.fit(train_scaled,train_target,epochs = 5)"
      ],
      "metadata": {
        "colab": {
          "base_uri": "https://localhost:8080/"
        },
        "id": "91TBZOaZ2ghc",
        "outputId": "82b4e519-6192-4db5-9e07-62f9a551cb30"
      },
      "execution_count": null,
      "outputs": [
        {
          "output_type": "stream",
          "name": "stdout",
          "text": [
            "Epoch 1/5\n",
            "1500/1500 [==============================] - 5s 3ms/step - loss: 0.5281 - accuracy: 0.8128\n",
            "Epoch 2/5\n",
            "1500/1500 [==============================] - 5s 3ms/step - loss: 0.3940 - accuracy: 0.8589\n",
            "Epoch 3/5\n",
            "1500/1500 [==============================] - 5s 3ms/step - loss: 0.3542 - accuracy: 0.8742\n",
            "Epoch 4/5\n",
            "1500/1500 [==============================] - 5s 3ms/step - loss: 0.3363 - accuracy: 0.8799\n",
            "Epoch 5/5\n",
            "1500/1500 [==============================] - 5s 3ms/step - loss: 0.3185 - accuracy: 0.8844\n"
          ]
        },
        {
          "output_type": "execute_result",
          "data": {
            "text/plain": [
              "<keras.callbacks.History at 0x7fd7d13a6750>"
            ]
          },
          "metadata": {},
          "execution_count": 14
        }
      ]
    },
    {
      "cell_type": "code",
      "source": [
        "model.evaluate(val_scaled,val_target)\n",
        "# 은닉층 추가 전에 비해 성능이 조금 향상되었음을 확인할 수 있음"
      ],
      "metadata": {
        "colab": {
          "base_uri": "https://localhost:8080/"
        },
        "id": "fVVhlSs62ytg",
        "outputId": "4025fe53-e661-4571-c83b-38f5aa36c5a2"
      },
      "execution_count": null,
      "outputs": [
        {
          "output_type": "stream",
          "name": "stdout",
          "text": [
            "375/375 [==============================] - 1s 3ms/step - loss: 0.3815 - accuracy: 0.8716\n"
          ]
        },
        {
          "output_type": "execute_result",
          "data": {
            "text/plain": [
              "[0.38154977560043335, 0.8715833425521851]"
            ]
          },
          "metadata": {},
          "execution_count": 15
        }
      ]
    },
    {
      "cell_type": "markdown",
      "source": [
        "###**옵티마이져**\n",
        "- 케라스에서 제공하는 다양한 종류의 경사 하강법 알고리즘"
      ],
      "metadata": {
        "id": "wjWXCLvq2-Yt"
      }
    },
    {
      "cell_type": "code",
      "source": [
        "# 옵티마이져로 SGD 사용해보기\n",
        "model.compile(optimizer = 'sgd',loss = 'sparse_categorical_crossentropy',metrics = 'accuracy')"
      ],
      "metadata": {
        "id": "2CH81k8P3Cl-"
      },
      "execution_count": null,
      "outputs": []
    },
    {
      "cell_type": "code",
      "source": [
        "# Adam 클래스를 이용해 모델 훈련시켜보기\n",
        "model = keras.Sequential()\n",
        "model.add(keras.layers.Flatten(input_shape = (28,28)))\n",
        "model.add(keras.layers.Dense(100,activation = 'relu'))\n",
        "model.add(keras.layers.Dense(10,activation = 'softmax'))"
      ],
      "metadata": {
        "id": "P3vi17Zy5Co0"
      },
      "execution_count": null,
      "outputs": []
    },
    {
      "cell_type": "code",
      "source": [
        "# 모델 훈련시키기\n",
        "model.compile(optimizer = 'adam',loss = 'sparse_categorical_crossentropy',metrics = 'accuracy')\n",
        "model.fit(train_scaled,train_target,epochs = 5)"
      ],
      "metadata": {
        "colab": {
          "base_uri": "https://localhost:8080/"
        },
        "id": "hW8dY3cv5gXP",
        "outputId": "4447bc70-074b-4ecc-c1ee-b09e0a992ee2"
      },
      "execution_count": null,
      "outputs": [
        {
          "output_type": "stream",
          "name": "stdout",
          "text": [
            "Epoch 1/5\n",
            "1500/1500 [==============================] - 5s 3ms/step - loss: 0.5209 - accuracy: 0.8181\n",
            "Epoch 2/5\n",
            "1500/1500 [==============================] - 4s 3ms/step - loss: 0.3907 - accuracy: 0.8594\n",
            "Epoch 3/5\n",
            "1500/1500 [==============================] - 4s 3ms/step - loss: 0.3494 - accuracy: 0.8730\n",
            "Epoch 4/5\n",
            "1500/1500 [==============================] - 4s 3ms/step - loss: 0.3257 - accuracy: 0.8798\n",
            "Epoch 5/5\n",
            "1500/1500 [==============================] - 4s 3ms/step - loss: 0.3055 - accuracy: 0.8870\n"
          ]
        },
        {
          "output_type": "execute_result",
          "data": {
            "text/plain": [
              "<keras.callbacks.History at 0x7fd7d12aba50>"
            ]
          },
          "metadata": {},
          "execution_count": 18
        }
      ]
    },
    {
      "cell_type": "code",
      "source": [
        "model.evaluate(val_scaled,val_target)"
      ],
      "metadata": {
        "colab": {
          "base_uri": "https://localhost:8080/"
        },
        "id": "hlNzrxCf6yZ6",
        "outputId": "a624a9df-ed75-4825-f785-4baea394a28f"
      },
      "execution_count": null,
      "outputs": [
        {
          "output_type": "stream",
          "name": "stdout",
          "text": [
            "375/375 [==============================] - 1s 3ms/step - loss: 0.3499 - accuracy: 0.8763\n"
          ]
        },
        {
          "output_type": "execute_result",
          "data": {
            "text/plain": [
              "[0.34990718960762024, 0.8763333559036255]"
            ]
          },
          "metadata": {},
          "execution_count": 19
        }
      ]
    }
  ]
}

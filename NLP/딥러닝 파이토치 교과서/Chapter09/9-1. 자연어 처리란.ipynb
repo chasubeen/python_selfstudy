{
 "cells": [
  {
   "cell_type": "code",
   "execution_count": null,
   "id": "47171c99",
   "metadata": {},
   "outputs": [],
   "source": [
    "# !pip install nltk"
   ]
  },
  {
   "cell_type": "markdown",
   "id": "1aca3f0f",
   "metadata": {},
   "source": [
    "## **1-1. 자연어 처리 용어 및 과정**"
   ]
  },
  {
   "cell_type": "markdown",
   "id": "f4278920",
   "metadata": {},
   "source": [
    "### **자연어 처리 관련 용어**"
   ]
  },
  {
   "cell_type": "markdown",
   "id": "3cc1ed1d",
   "metadata": {},
   "source": [
    "**문장 토큰화**"
   ]
  },
  {
   "cell_type": "code",
   "execution_count": 1,
   "id": "aa1bc4ab",
   "metadata": {},
   "outputs": [
    {
     "data": {
      "text/plain": [
       "['Is', 'it', 'possible', 'distinguishing', 'cats', 'and', 'dogs']"
      ]
     },
     "execution_count": 1,
     "metadata": {},
     "output_type": "execute_result"
    }
   ],
   "source": [
    "import nltk\n",
    "# nltk.download()\n",
    "text = nltk.word_tokenize(\"Is it possible distinguishing cats and dogs\")\n",
    "text"
   ]
  },
  {
   "cell_type": "code",
   "execution_count": 7,
   "id": "60c65f03",
   "metadata": {},
   "outputs": [
    {
     "name": "stderr",
     "output_type": "stream",
     "text": [
      "[nltk_data] Downloading package averaged_perceptron_tagger to\n",
      "[nltk_data]     C:\\Users\\doroc\\AppData\\Roaming\\nltk_data...\n",
      "[nltk_data]   Package averaged_perceptron_tagger is already up-to-\n",
      "[nltk_data]       date!\n"
     ]
    },
    {
     "data": {
      "text/plain": [
       "True"
      ]
     },
     "execution_count": 7,
     "metadata": {},
     "output_type": "execute_result"
    }
   ],
   "source": [
    "# nltk.download('averaged_perceptron_tagger') # 태깅에 필요한 자원 내려받기"
   ]
  },
  {
   "cell_type": "markdown",
   "id": "061093a3",
   "metadata": {},
   "source": [
    "**품사 태깅**"
   ]
  },
  {
   "cell_type": "code",
   "execution_count": 2,
   "id": "e6806069",
   "metadata": {},
   "outputs": [
    {
     "data": {
      "text/plain": [
       "[('Is', 'VBZ'),\n",
       " ('it', 'PRP'),\n",
       " ('possible', 'JJ'),\n",
       " ('distinguishing', 'VBG'),\n",
       " ('cats', 'NNS'),\n",
       " ('and', 'CC'),\n",
       " ('dogs', 'NNS')]"
      ]
     },
     "execution_count": 2,
     "metadata": {},
     "output_type": "execute_result"
    }
   ],
   "source": [
    "nltk.pos_tag(text)"
   ]
  },
  {
   "cell_type": "markdown",
   "id": "54363d56",
   "metadata": {},
   "source": [
    "## **1-2. 자연어 처리를 위한 라이브러리**"
   ]
  },
  {
   "cell_type": "markdown",
   "id": "ed0a48f8",
   "metadata": {},
   "source": [
    "### **NLTK**"
   ]
  },
  {
   "cell_type": "code",
   "execution_count": 4,
   "id": "f3381ec5",
   "metadata": {},
   "outputs": [
    {
     "name": "stderr",
     "output_type": "stream",
     "text": [
      "[nltk_data] Downloading package punkt to\n",
      "[nltk_data]     C:\\Users\\doroc\\AppData\\Roaming\\nltk_data...\n",
      "[nltk_data]   Package punkt is already up-to-date!\n"
     ]
    }
   ],
   "source": [
    "import nltk\n",
    "nltk.download('punkt') # 문장 -> 단어\n",
    "\n",
    "string1 = \"my favorite subject is math\"\n",
    "string2 = \"my favorite subject is math, english, economic and computer science\""
   ]
  },
  {
   "cell_type": "code",
   "execution_count": 5,
   "id": "2faa8be9",
   "metadata": {},
   "outputs": [
    {
     "data": {
      "text/plain": [
       "['my', 'favorite', 'subject', 'is', 'math']"
      ]
     },
     "execution_count": 5,
     "metadata": {},
     "output_type": "execute_result"
    }
   ],
   "source": [
    "nltk.word_tokenize(string1)"
   ]
  },
  {
   "cell_type": "code",
   "execution_count": 6,
   "id": "d97e24da",
   "metadata": {},
   "outputs": [
    {
     "data": {
      "text/plain": [
       "['my',\n",
       " 'favorite',\n",
       " 'subject',\n",
       " 'is',\n",
       " 'math',\n",
       " ',',\n",
       " 'english',\n",
       " ',',\n",
       " 'economic',\n",
       " 'and',\n",
       " 'computer',\n",
       " 'science']"
      ]
     },
     "execution_count": 6,
     "metadata": {},
     "output_type": "execute_result"
    }
   ],
   "source": [
    "nltk.word_tokenize(string2)"
   ]
  },
  {
   "cell_type": "markdown",
   "id": "7619b0a8",
   "metadata": {},
   "source": [
    "### **KoNLPy**"
   ]
  },
  {
   "cell_type": "code",
   "execution_count": null,
   "id": "a664350c",
   "metadata": {},
   "outputs": [],
   "source": [
    "# !pip install konlpy"
   ]
  },
  {
   "cell_type": "code",
   "execution_count": 8,
   "id": "2fe8ad63",
   "metadata": {},
   "outputs": [
    {
     "name": "stdout",
     "output_type": "stream",
     "text": [
      "['딥러닝이', '쉽', '나요', '?', '어렵', '나요', '?']\n"
     ]
    }
   ],
   "source": [
    "### 형태소 분석\n",
    "\n",
    "from konlpy.tag import Komoran\n",
    "\n",
    "komoran = Komoran()\n",
    "print(komoran.morphs('딥러닝이 쉽나요? 어렵나요?')) # 텍스트 -> 형태소"
   ]
  },
  {
   "cell_type": "code",
   "execution_count": 9,
   "id": "f7c666d2",
   "metadata": {},
   "outputs": [
    {
     "name": "stdout",
     "output_type": "stream",
     "text": [
      "[('소파', 'NNP'), ('위', 'NNG'), ('에', 'JKB'), ('있', 'VV'), ('는', 'ETM'), ('것', 'NNB'), ('이', 'JKS'), ('고양이', 'NNG'), ('이', 'VCP'), ('ㄴ가요', 'EF'), ('?', 'SF'), ('강아지', 'NNG'), ('이', 'VCP'), ('ㄴ가요', 'EF'), ('?', 'SF')]\n"
     ]
    }
   ],
   "source": [
    "### 품사 태깅\n",
    "\n",
    "print(komoran.pos('소파 위에 있는 것이 고양이인가요? 강아지인가요?'))"
   ]
  },
  {
   "cell_type": "markdown",
   "id": "e1ee4a0f",
   "metadata": {},
   "source": [
    "### **Gensim**"
   ]
  },
  {
   "cell_type": "code",
   "execution_count": null,
   "id": "a3228429",
   "metadata": {},
   "outputs": [],
   "source": [
    "!pip install -U gensim"
   ]
  }
 ],
 "metadata": {
  "kernelspec": {
   "display_name": "Python 3 (ipykernel)",
   "language": "python",
   "name": "python3"
  },
  "language_info": {
   "codemirror_mode": {
    "name": "ipython",
    "version": 3
   },
   "file_extension": ".py",
   "mimetype": "text/x-python",
   "name": "python",
   "nbconvert_exporter": "python",
   "pygments_lexer": "ipython3",
   "version": "3.7.7"
  }
 },
 "nbformat": 4,
 "nbformat_minor": 5
}

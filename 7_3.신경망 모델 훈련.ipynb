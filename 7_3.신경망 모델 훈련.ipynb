{
  "nbformat": 4,
  "nbformat_minor": 0,
  "metadata": {
    "colab": {
      "name": "7-3. 신경망 모델 훈련.ipynb",
      "provenance": [],
      "collapsed_sections": [],
      "authorship_tag": "ABX9TyP2b3uHLLW4SMeKk8OXLTUe",
      "include_colab_link": true
    },
    "kernelspec": {
      "name": "python3",
      "display_name": "Python 3"
    },
    "language_info": {
      "name": "python"
    }
  },
  "cells": [
    {
      "cell_type": "markdown",
      "metadata": {
        "id": "view-in-github",
        "colab_type": "text"
      },
      "source": [
        "<a href=\"https://colab.research.google.com/github/chasubeen/python_selfstudy/blob/master/7_3.%EC%8B%A0%EA%B2%BD%EB%A7%9D%20%EB%AA%A8%EB%8D%B8%20%ED%9B%88%EB%A0%A8.ipynb\" target=\"_parent\"><img src=\"https://colab.research.google.com/assets/colab-badge.svg\" alt=\"Open In Colab\"/></a>"
      ]
    },
    {
      "cell_type": "markdown",
      "source": [
        "###**손실 곡선**"
      ],
      "metadata": {
        "id": "4ZneNc6rB3vr"
      }
    },
    {
      "cell_type": "code",
      "source": [
        "# MNIST 데이터 셋 load, 훈련 세트와 검증 세트로 나누기\n",
        "from tensorflow import keras\n",
        "from sklearn.model_selection import train_test_split\n",
        "\n",
        "(train_input,train_target),(test_input,test_target) = keras.datasets.fashion_mnist.load_data()\n",
        "train_scaled = train_input / 255.0\n",
        "train_scaled,val_scaled,train_target,val_target = train_test_split(train_scaled,train_target,test_size = 0.2,random_state = 42)"
      ],
      "metadata": {
        "colab": {
          "base_uri": "https://localhost:8080/"
        },
        "id": "LWP1AjK0CV5q",
        "outputId": "3636a9a5-9dc5-467a-f7c7-8f84ffdb8769"
      },
      "execution_count": null,
      "outputs": [
        {
          "output_type": "stream",
          "name": "stdout",
          "text": [
            "Downloading data from https://storage.googleapis.com/tensorflow/tf-keras-datasets/train-labels-idx1-ubyte.gz\n",
            "32768/29515 [=================================] - 0s 0us/step\n",
            "40960/29515 [=========================================] - 0s 0us/step\n",
            "Downloading data from https://storage.googleapis.com/tensorflow/tf-keras-datasets/train-images-idx3-ubyte.gz\n",
            "26427392/26421880 [==============================] - 0s 0us/step\n",
            "26435584/26421880 [==============================] - 0s 0us/step\n",
            "Downloading data from https://storage.googleapis.com/tensorflow/tf-keras-datasets/t10k-labels-idx1-ubyte.gz\n",
            "16384/5148 [===============================================================================================] - 0s 0us/step\n",
            "Downloading data from https://storage.googleapis.com/tensorflow/tf-keras-datasets/t10k-images-idx3-ubyte.gz\n",
            "4423680/4422102 [==============================] - 0s 0us/step\n",
            "4431872/4422102 [==============================] - 0s 0us/step\n"
          ]
        }
      ]
    },
    {
      "cell_type": "code",
      "source": [
        "# 모델을 만드는 함수 정의하기\n",
        "def model_fn(a_layer = None):\n",
        "  model = keras.Sequential()\n",
        "  model.add(keras.layers.Flatten(input_shape = (28,28)))\n",
        "  model.add(keras.layers.Dense(100,activation = 'relu'))\n",
        "  if a_layer: # 매개변수로 케라스 층을 받아오기\n",
        "    model.add(a_layer) # 은닉층 뒤에 또 하나의 층을 추가한다.\n",
        "  model.add(keras.layers.Dense(10,activation = 'softmax'))\n",
        "  return model"
      ],
      "metadata": {
        "id": "UYVFGMO3DYbo"
      },
      "execution_count": null,
      "outputs": []
    },
    {
      "cell_type": "code",
      "source": [
        "model = model_fn()\n",
        "model.summary()"
      ],
      "metadata": {
        "colab": {
          "base_uri": "https://localhost:8080/"
        },
        "id": "0zpKPSKNEP2a",
        "outputId": "42d348db-7115-4acf-d2fb-a0c999824376"
      },
      "execution_count": null,
      "outputs": [
        {
          "output_type": "stream",
          "name": "stdout",
          "text": [
            "Model: \"sequential\"\n",
            "_________________________________________________________________\n",
            " Layer (type)                Output Shape              Param #   \n",
            "=================================================================\n",
            " flatten (Flatten)           (None, 784)               0         \n",
            "                                                                 \n",
            " dense (Dense)               (None, 100)               78500     \n",
            "                                                                 \n",
            " dense_1 (Dense)             (None, 10)                1010      \n",
            "                                                                 \n",
            "=================================================================\n",
            "Total params: 79,510\n",
            "Trainable params: 79,510\n",
            "Non-trainable params: 0\n",
            "_________________________________________________________________\n"
          ]
        }
      ]
    },
    {
      "cell_type": "code",
      "source": [
        "# fit() 메서드의 결과를  history 변수에 저장하기\n",
        "model.compile(loss = 'sparse_categorical_crossentropy',metrics = 'accuracy')\n",
        "history = model.fit(train_scaled,train_target,epochs = 5,verbose = 0)\n",
        "\n",
        "# verbose의 의미\n",
        "# 훈련 과정 출력을 조절하는 hyper-parameter\n",
        "# 1(default): 에포크마다 진행 막대와 함께 손실 등의 지표가 출력됨\n",
        "# 2: 진행 막대를 빼고 출력됨\n",
        "# 0: 훈련 과정을 나타내지 않겠다."
      ],
      "metadata": {
        "id": "cdUw5oqmEWY9"
      },
      "execution_count": null,
      "outputs": []
    },
    {
      "cell_type": "code",
      "source": [
        "print(history.history.keys())"
      ],
      "metadata": {
        "colab": {
          "base_uri": "https://localhost:8080/"
        },
        "id": "rGYAYYiAFiwS",
        "outputId": "2a3a37cc-8014-420a-846b-570a967a4dd5"
      },
      "execution_count": null,
      "outputs": [
        {
          "output_type": "stream",
          "name": "stdout",
          "text": [
            "dict_keys(['loss', 'accuracy'])\n"
          ]
        }
      ]
    },
    {
      "cell_type": "code",
      "source": [
        "import matplotlib.pyplot as plt\n",
        "# 손실 그래프\n",
        "plt.plot(history.history['loss'])\n",
        "plt.xlabel('epoch')\n",
        "plt.ylabel('loss')\n",
        "plt.show()"
      ],
      "metadata": {
        "colab": {
          "base_uri": "https://localhost:8080/",
          "height": 279
        },
        "id": "QtLKFjtQFt9R",
        "outputId": "61de9651-a12b-45f1-e672-5f8beade1b24"
      },
      "execution_count": null,
      "outputs": [
        {
          "output_type": "display_data",
          "data": {
            "text/plain": [
              "<Figure size 432x288 with 1 Axes>"
            ],
            "image/png": "[encoded data removed]"
          },
          "metadata": {
            "needs_background": "light"
          }
        }
      ]
    },
    {
      "cell_type": "code",
      "source": [
        "# 정확도 그래프\n",
        "plt.plot(history.history['accuracy'])\n",
        "plt.xlabel('epoch')\n",
        "plt.ylabel('accuracy')\n",
        "plt.show()"
      ],
      "metadata": {
        "colab": {
          "base_uri": "https://localhost:8080/",
          "height": 282
        },
        "id": "fHr72NTmGBEI",
        "outputId": "e9ce7c0d-b36d-4507-9d72-0c0bdf86d471"
      },
      "execution_count": null,
      "outputs": [
        {
          "output_type": "display_data",
          "data": {
            "text/plain": [
              "<Figure size 432x288 with 1 Axes>"
            ],
            "image/png": "[encoded data removed]"
          },
          "metadata": {
            "needs_background": "light"
          }
        }
      ]
    },
    {
      "cell_type": "code",
      "source": [
        "# epoch 횟수를 20으로 늘려서 모델을 훈련하고 손실 그래프 그리기\n",
        "model = model_fn()\n",
        "model.compile(loss = 'sparse_categorical_crossentropy',metrics = 'accuracy')\n",
        "history = model.fit(train_scaled,train_target,epochs = 20,verbose = 0)\n",
        "plt.plot(history.history['loss'])\n",
        "plt.xlabel('epoch')\n",
        "plt.ylabel('loss')\n",
        "plt.show()"
      ],
      "metadata": {
        "colab": {
          "base_uri": "https://localhost:8080/",
          "height": 279
        },
        "id": "Y_SkXEwYGVP6",
        "outputId": "0ec5043b-61e9-48e8-e4b7-83981925b958"
      },
      "execution_count": null,
      "outputs": [
        {
          "output_type": "display_data",
          "data": {
            "text/plain": [
              "<Figure size 432x288 with 1 Axes>"
            ],
            "image/png": "[encoded data removed]"
          },
          "metadata": {
            "needs_background": "light"
          }
        }
      ]
    },
    {
      "cell_type": "markdown",
      "source": [
        "###**검증 손실**\n",
        "- 인공 신경망 모델잎 최적화하는 대상은 정확도가 아닌 '손실 함수'\n",
        "> 모델이 잘 훈련되었는지 판단하려면 정확도보다는 손실 함수의 값을 확인하는 것이 더 좋음"
      ],
      "metadata": {
        "id": "6hICjphqHdPa"
      }
    },
    {
      "cell_type": "code",
      "source": [
        "model = model_fn()\n",
        "model.compile(loss = 'sparse_categorical_crossentropy',metrics = 'accuracy')\n",
        "history = model.fit(train_scaled,train_target,epochs = 20,verbose = 0,validation_data = (val_scaled,val_target))"
      ],
      "metadata": {
        "id": "lONpxlO9Hg7-"
      },
      "execution_count": null,
      "outputs": []
    },
    {
      "cell_type": "code",
      "source": [
        "print(history.history.keys())"
      ],
      "metadata": {
        "colab": {
          "base_uri": "https://localhost:8080/"
        },
        "id": "IQprVtVTJfuL",
        "outputId": "4223a4f1-b7c3-4e3f-dde5-664c660e7168"
      },
      "execution_count": null,
      "outputs": [
        {
          "output_type": "stream",
          "name": "stdout",
          "text": [
            "dict_keys(['loss', 'accuracy', 'val_loss', 'val_accuracy'])\n"
          ]
        }
      ]
    },
    {
      "cell_type": "code",
      "source": [
        "plt.plot(history.history['loss'])\n",
        "plt.plot(history.history['val_loss'])\n",
        "plt.xlabel('epoch')\n",
        "plt.ylabel('loss')\n",
        "plt.legend(['train','val'])\n",
        "plt.show()\n",
        "\n",
        "# 초기에 검증 손실이 감소하다가 다섯 번째 에포크 만에 다시 상승하기 시작함 -> 전형적인 과대적합 모델이 만들어짐"
      ],
      "metadata": {
        "colab": {
          "base_uri": "https://localhost:8080/",
          "height": 279
        },
        "id": "BU5sdd36Jm-v",
        "outputId": "06a82374-9dde-4ef0-968b-ce430f87ff17"
      },
      "execution_count": null,
      "outputs": [
        {
          "output_type": "display_data",
          "data": {
            "text/plain": [
              "<Figure size 432x288 with 1 Axes>"
            ],
            "image/png": "[encoded data removed]"
          },
          "metadata": {
            "needs_background": "light"
          }
        }
      ]
    },
    {
      "cell_type": "code",
      "source": [
        "# optimizer로 Adam을 적용해보기\n",
        "model = model_fn()\n",
        "model.compile(optimizer = 'adam',loss = 'sparse_categorical_crossentropy',metrics = 'accuracy')\n",
        "history = model.fit(train_scaled,train_target,epochs = 20,verbose = 0,validation_data = (val_scaled,val_target))\n",
        "plt.plot(history.history['loss'])\n",
        "plt.plot(history.history['val_loss'])\n",
        "plt.xlabel('epoch')\n",
        "plt.xlabel('epoch')\n",
        "plt.ylabel('loss')\n",
        "plt.legend(['train','val'])\n",
        "plt.show()"
      ],
      "metadata": {
        "colab": {
          "base_uri": "https://localhost:8080/",
          "height": 279
        },
        "id": "WFli-6BGKQwL",
        "outputId": "b97a2b41-5e05-4d5e-c945-012c67f22211"
      },
      "execution_count": null,
      "outputs": [
        {
          "output_type": "display_data",
          "data": {
            "text/plain": [
              "<Figure size 432x288 with 1 Axes>"
            ],
            "image/png": "[encoded data removed]"
          },
          "metadata": {
            "needs_background": "light"
          }
        }
      ]
    },
    {
      "cell_type": "markdown",
      "source": [
        "###**드롭아웃**\n",
        "- 훈련 과정에 있는 일부 뉴런을 랜덤하게 꺼서(=뉴런의 출력을 0으로 만들어 과대적합을 막기) 과대적합을 막는 기법\n",
        "- 이전 층의 일부 뉴런이 랜덤하게 꺼진다 -> 특정 뉴런에 과대하게 의존하는 것을 줄일 수 있고, 모든 입력에 대해 주의를 기울여야 한다.\n",
        "- 여러 개의 신경망을 앙상블하는 듯한 효과를 줄 수 있음"
      ],
      "metadata": {
        "id": "MoIq11egNODl"
      }
    },
    {
      "cell_type": "code",
      "source": [
        "# model_fn() 함수에 드롭아웃 객체를 전달하여 층 추가하기\n",
        "model = model_fn(keras.layers.Dropout(0.3))\n",
        "model.summary()\n",
        "\n",
        "# dropout 층은 훈련되는 모델 파라미터가 없음\n",
        "# 입력과 출력의 크기가 동일함\n",
        "# 일부 뉴런의 출력을 0으로 만들지만 전체 출력 배열의 크기를 바꾸지는 않음"
      ],
      "metadata": {
        "colab": {
          "base_uri": "https://localhost:8080/"
        },
        "id": "8bQyvd5cNeqe",
        "outputId": "7baedd0e-d0f4-4050-f9a4-d21ea4034b63"
      },
      "execution_count": null,
      "outputs": [
        {
          "output_type": "stream",
          "name": "stdout",
          "text": [
            "Model: \"sequential_5\"\n",
            "_________________________________________________________________\n",
            " Layer (type)                Output Shape              Param #   \n",
            "=================================================================\n",
            " flatten_5 (Flatten)         (None, 784)               0         \n",
            "                                                                 \n",
            " dense_10 (Dense)            (None, 100)               78500     \n",
            "                                                                 \n",
            " dropout (Dropout)           (None, 100)               0         \n",
            "                                                                 \n",
            " dense_11 (Dense)            (None, 10)                1010      \n",
            "                                                                 \n",
            "=================================================================\n",
            "Total params: 79,510\n",
            "Trainable params: 79,510\n",
            "Non-trainable params: 0\n",
            "_________________________________________________________________\n"
          ]
        }
      ]
    },
    {
      "cell_type": "code",
      "source": [
        "# 훈련 손실과 검증 손실 그래프를 그려 비교하기\n",
        "model.compile(optimizer = 'adam',loss = 'sparse_categorical_crossentropy',metrics = 'accuracy')\n",
        "history = model.fit(train_scaled,train_target,epochs = 20,verbose = 0,validation_data = (val_scaled,val_target))\n",
        "plt.plot(history.history['loss'])\n",
        "plt.plot(history.history['val_loss'])\n",
        "plt.xlabel('epoch')\n",
        "plt.ylabel('loss')\n",
        "plt.legend(['tain','val'])\n",
        "plt.show()\n",
        "\n",
        "# epoch을 20번 정도 돌린 결과 과대적합되었음을 확인할 수 있음 -> epoch 횟수를 10으로 하고 다시 훈련을 진행"
      ],
      "metadata": {
        "colab": {
          "base_uri": "https://localhost:8080/",
          "height": 279
        },
        "id": "MNsswdJ0QNK0",
        "outputId": "47259925-02e1-470e-8935-694d2bcd5f4c"
      },
      "execution_count": null,
      "outputs": [
        {
          "output_type": "display_data",
          "data": {
            "text/plain": [
              "<Figure size 432x288 with 1 Axes>"
            ],
            "image/png": "[encoded data removed]"
          },
          "metadata": {
            "needs_background": "light"
          }
        }
      ]
    },
    {
      "cell_type": "markdown",
      "source": [
        "###**모델 저장과 복원**"
      ],
      "metadata": {
        "id": "5v-YMkTVRlIg"
      }
    },
    {
      "cell_type": "code",
      "source": [
        "model = model_fn(keras.layers.Dropout(0.3))\n",
        "model.compile(optimizer = 'adam',loss = 'sparse_categorical_crossentropy',metrics = 'accuracy')\n",
        "history = model.fit(train_scaled,train_target,epochs = 10,verbose = 0,validation_data = (val_scaled,val_target))"
      ],
      "metadata": {
        "id": "OPulGPfvRL4b"
      },
      "execution_count": null,
      "outputs": []
    },
    {
      "cell_type": "code",
      "source": [
        "# 훈련된 모델의 파라미터를 저장하는 save_weights() 메서드\n",
        "model.save_weights('model-weights.h5')"
      ],
      "metadata": {
        "id": "FJYYp8jaSPH0"
      },
      "execution_count": null,
      "outputs": []
    },
    {
      "cell_type": "code",
      "source": [
        "# 모델 구조와 모델 파라미터를 함께 저장하는 save() 메서드\n",
        "model.save('model-whole.h5')"
      ],
      "metadata": {
        "id": "IN53AnsFSaW5"
      },
      "execution_count": null,
      "outputs": []
    },
    {
      "cell_type": "code",
      "source": [
        "!ls -al *.h5"
      ],
      "metadata": {
        "colab": {
          "base_uri": "https://localhost:8080/"
        },
        "id": "fnR6H8zSSjjJ",
        "outputId": "f4f64ba3-6e5c-4a63-c627-10882f2bf360"
      },
      "execution_count": null,
      "outputs": [
        {
          "output_type": "stream",
          "name": "stdout",
          "text": [
            "-rw-r--r-- 1 root root 333448 May  8 15:28 model-weights.h5\n",
            "-rw-r--r-- 1 root root 982664 May  8 15:29 model-whole.h5\n"
          ]
        }
      ]
    },
    {
      "cell_type": "code",
      "source": [
        "# 실험1> 훈련을 하지 않은 새로운 모델을 만들고 model-weights.h5 파일에서 훈련된 모델 파라미터를 읽어서 사용하기\n",
        "model = model_fn(keras.layers.Dropout(0.3))\n",
        "model.load_weights('model-weights.h5')"
      ],
      "metadata": {
        "id": "G3jdRJibSwGr"
      },
      "execution_count": null,
      "outputs": []
    },
    {
      "cell_type": "code",
      "source": [
        "import numpy as np\n",
        "val_labels = np.argmax(model.predict(val_scaled),axis = -1)\n",
        "print(np.mean(val_labels == val_target))"
      ],
      "metadata": {
        "colab": {
          "base_uri": "https://localhost:8080/"
        },
        "id": "xpjMn_-tUI3U",
        "outputId": "9fd97de1-6e49-47e1-d994-244fa3415a06"
      },
      "execution_count": null,
      "outputs": [
        {
          "output_type": "stream",
          "name": "stdout",
          "text": [
            "0.8795833333333334\n"
          ]
        }
      ]
    },
    {
      "cell_type": "code",
      "source": [
        "# 실험2> model-shole.h5 파일에서 새로운 모델을 만들어 바로 사용하기\n",
        "model = keras.models.load_model('model-whole.h5')\n",
        "model.evaluate(val_scaled,val_target)"
      ],
      "metadata": {
        "colab": {
          "base_uri": "https://localhost:8080/"
        },
        "id": "WKCcxA3bTKOc",
        "outputId": "55bbe223-2386-40ab-81f4-b83a6e05163f"
      },
      "execution_count": null,
      "outputs": [
        {
          "output_type": "stream",
          "name": "stdout",
          "text": [
            "375/375 [==============================] - 1s 2ms/step - loss: 0.3397 - accuracy: 0.8796\n"
          ]
        },
        {
          "output_type": "execute_result",
          "data": {
            "text/plain": [
              "[0.339679479598999, 0.8795833587646484]"
            ]
          },
          "metadata": {},
          "execution_count": 26
        }
      ]
    },
    {
      "cell_type": "markdown",
      "source": [
        "###**콜백**\n",
        "- 훈련 과정 중간에 어떤 작업을 수행할 수 있게 해주는 객체\n",
        "- keras.callbacks 패키지 아래에 있는 클래스들\n",
        "- fit() 메서드의 callbacks 매개변수에 리스트로 전달하여 사용함"
      ],
      "metadata": {
        "id": "xbR8vITRVCx-"
      }
    },
    {
      "cell_type": "code",
      "source": [
        "model = model_fn(keras.layers.Dropout(0.3))\n",
        "model.compile(optimizer = 'adam',loss = 'sparse_categorical_crossentropy',metrics = 'accuracy')\n",
        "checkpoint_cb = keras.callbacks.ModelCheckpoint('best-model.h5',save_best_only = True)\n",
        "model.fit(train_scaled,train_target,epochs = 20,verbose = 0,validation_data = (val_scaled,val_target),callbacks = [checkpoint_cb])"
      ],
      "metadata": {
        "colab": {
          "base_uri": "https://localhost:8080/"
        },
        "id": "o5kW6dhGVE1J",
        "outputId": "d896043b-e3f4-4d1c-8679-d093ec80bf96"
      },
      "execution_count": null,
      "outputs": [
        {
          "output_type": "execute_result",
          "data": {
            "text/plain": [
              "<keras.callbacks.History at 0x7f22e3ee4e10>"
            ]
          },
          "metadata": {},
          "execution_count": 27
        }
      ]
    },
    {
      "cell_type": "code",
      "source": [
        "# 예측 수행하기\n",
        "model = keras.models.load_model('best-model.h5')\n",
        "model.evaluate(val_scaled,val_target)"
      ],
      "metadata": {
        "colab": {
          "base_uri": "https://localhost:8080/"
        },
        "id": "ZcfeQfHtXxrY",
        "outputId": "f0ec2f45-b4f9-4a80-a4d4-3368cc7c274f"
      },
      "execution_count": null,
      "outputs": [
        {
          "output_type": "stream",
          "name": "stdout",
          "text": [
            "375/375 [==============================] - 1s 2ms/step - loss: 0.3145 - accuracy: 0.8863\n"
          ]
        },
        {
          "output_type": "execute_result",
          "data": {
            "text/plain": [
              "[0.3145085573196411, 0.8862500190734863]"
            ]
          },
          "metadata": {},
          "execution_count": 28
        }
      ]
    },
    {
      "cell_type": "code",
      "source": [
        "# Early stopping\n",
        "# 과대적합이 시작되기 전에 훈련을 미리 중지하는 것\n",
        "# 훈련 epoch 횟수를 제한하는 역할\n",
        "\n",
        "model = model_fn(keras.layers.Dropout(0.3))\n",
        "model.compile(optimizer = 'adam',loss = 'sparse_categorical_crossentropy',metrics = 'accuracy')\n",
        "checkpoint_cb = keras.callbacks.ModelCheckpoint('best-model.h5',save_best_only = True)\n",
        "early_stopping_cb = keras.callbacks.EarlyStopping(patience = 2,restore_best_weights = True)\n",
        "history = model.fit(train_scaled,train_target,epochs = 20,verbose = 0,validation_data = (val_scaled,val_target),callbacks = [checkpoint_cb,early_stopping_cb])"
      ],
      "metadata": {
        "id": "c48khJXLX--h"
      },
      "execution_count": null,
      "outputs": []
    },
    {
      "cell_type": "code",
      "source": [
        "print(early_stopping_cb.stopped_epoch)"
      ],
      "metadata": {
        "colab": {
          "base_uri": "https://localhost:8080/"
        },
        "id": "0qR7N-b3a9G6",
        "outputId": "c178ea6f-33c2-41ad-b8bc-90d31fb92ecc"
      },
      "execution_count": null,
      "outputs": [
        {
          "output_type": "stream",
          "name": "stdout",
          "text": [
            "13\n"
          ]
        }
      ]
    },
    {
      "cell_type": "code",
      "source": [
        "# 훈련 손실과 검증 손실 출력\n",
        "plt.plot(history.history['loss'])\n",
        "plt.plot(history.history['val_loss'])\n",
        "plt.xlabel('epoch')\n",
        "plt.ylabel('loss')\n",
        "plt.legend(['train','val'])\n",
        "plt.show()"
      ],
      "metadata": {
        "colab": {
          "base_uri": "https://localhost:8080/",
          "height": 279
        },
        "id": "ssiwymYYbLGa",
        "outputId": "29e7e900-d333-4c5e-d096-b2f08f99e7b3"
      },
      "execution_count": null,
      "outputs": [
        {
          "output_type": "display_data",
          "data": {
            "text/plain": [
              "<Figure size 432x288 with 1 Axes>"
            ],
            "image/png": "[encoded data removed]"
          },
          "metadata": {
            "needs_background": "light"
          }
        }
      ]
    },
    {
      "cell_type": "code",
      "source": [
        "# 검증 세트에 대한 성능 확인하기\n",
        "model.evaluate(val_scaled,val_target)"
      ],
      "metadata": {
        "colab": {
          "base_uri": "https://localhost:8080/"
        },
        "id": "cphw7M-Gbm_2",
        "outputId": "60c6177d-9d43-44c8-92cc-e85f691a669c"
      },
      "execution_count": null,
      "outputs": [
        {
          "output_type": "stream",
          "name": "stdout",
          "text": [
            "375/375 [==============================] - 2s 4ms/step - loss: 0.3179 - accuracy: 0.8827\n"
          ]
        },
        {
          "output_type": "execute_result",
          "data": {
            "text/plain": [
              "[0.3178806006908417, 0.8826666474342346]"
            ]
          },
          "metadata": {},
          "execution_count": 32
        }
      ]
    }
  ]
}